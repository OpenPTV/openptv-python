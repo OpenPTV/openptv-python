{
 "cells": [
  {
   "cell_type": "code",
   "execution_count": 1,
   "metadata": {},
   "outputs": [],
   "source": [
    "from openptv_python.calibration import Exterior\n",
    "import numpy as np\n"
   ]
  },
  {
   "cell_type": "code",
   "execution_count": 2,
   "metadata": {},
   "outputs": [],
   "source": [
    "def rotation_matrix(phi, kappa, omega) -> np.ndarray:\n",
    "    \"\"\"Rotates the Dmatrix of Exterior using three angles of the camera.\n",
    "\n",
    "    Args:\n",
    "    ----\n",
    "        exterior: The Exterior object.\n",
    "\n",
    "    Returns:\n",
    "    -------\n",
    "        The modified Exterior object.\n",
    "    \"\"\"\n",
    "    cp = np.cos(phi)\n",
    "    sp = np.sin(phi)\n",
    "    co = np.cos(omega)\n",
    "    so = np.sin(omega)\n",
    "    ck = np.cos(kappa)\n",
    "    sk = np.sin(kappa)\n",
    "\n",
    "    dm = np.zeros((3, 3), dtype=np.float64)\n",
    "    dm[0, 0] = cp * ck\n",
    "    dm[0, 1] = -cp * sk\n",
    "    dm[0, 2] = sp\n",
    "    dm[1, 0] = co * sk + so * sp * ck\n",
    "    dm[1, 1] = co * ck - so * sp * sk\n",
    "    dm[1, 2] = -so * cp\n",
    "    dm[2, 0] = so * sk - co * sp * ck\n",
    "    dm[2, 1] = so * ck + co * sp * sk\n",
    "    dm[2, 2] = co * cp\n",
    "    \n",
    "    return dm\n"
   ]
  },
  {
   "cell_type": "code",
   "execution_count": 3,
   "metadata": {},
   "outputs": [
    {
     "name": "stdout",
     "output_type": "stream",
     "text": [
      "[[ 0.83838664 -0.25934338  0.47942554]\n",
      " [ 0.38062256  0.90814591 -0.17434874]\n",
      " [-0.39017215  0.32865183  0.86008934]]\n"
     ]
    }
   ],
   "source": [
    "\n",
    "def test_rotation_matrix():\n",
    "    # Known inputs\n",
    "    phi = 0.5\n",
    "    omega = 0.3\n",
    "    kappa = 0.2\n",
    "\n",
    "    # Expected output (previously obtained or calculated manually)\n",
    "    expected_matrix = np.array([[0.83838664, -0.25934338,  0.47942554],\n",
    "                                [ 0.38062256,  0.90814591, -0.17434874],\n",
    "                                [-0.39017215,  0.32865183,  0.86008934]])\n",
    "\n",
    "    # Call the rotation_matrix function\n",
    "    result = rotation_matrix(phi, omega, kappa)\n",
    "    print(result)\n",
    "\n",
    "    # Compare the result with the expected output\n",
    "    assert np.allclose(result, expected_matrix)\n",
    "\n",
    "test_rotation_matrix()\n"
   ]
  }
 ],
 "metadata": {
  "kernelspec": {
   "display_name": "openptvpy",
   "language": "python",
   "name": "python3"
  },
  "language_info": {
   "codemirror_mode": {
    "name": "ipython",
    "version": 3
   },
   "file_extension": ".py",
   "mimetype": "text/x-python",
   "name": "python",
   "nbconvert_exporter": "python",
   "pygments_lexer": "ipython3",
   "version": "3.12.2"
  },
  "orig_nbformat": 4
 },
 "nbformat": 4,
 "nbformat_minor": 2
}
