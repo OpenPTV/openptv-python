{
 "cells": [
  {
   "cell_type": "code",
   "execution_count": 1,
   "metadata": {},
   "outputs": [],
   "source": [
    "%load_ext line_profiler"
   ]
  },
  {
   "cell_type": "code",
   "execution_count": 2,
   "metadata": {},
   "outputs": [],
   "source": [
    "from typing import Tuple\n",
    "\n",
    "import numpy as np\n",
    "\n",
    "\n",
    "def skew_midpoint(\n",
    "    vert1: np.ndarray, direct1: np.ndarray, vert2: np.ndarray, direct2: np.ndarray\n",
    ") -> Tuple[float, np.ndarray]:\n",
    "    \"\"\"Find the midpoint of the line segment that is the shortest distance.\"\"\"\n",
    "    perp_both = np.cross(direct1, direct2)\n",
    "    scale = np.dot(perp_both, perp_both)\n",
    "\n",
    "    sp_diff = vert2 - vert1\n",
    "\n",
    "    temp = np.cross(sp_diff, direct2)\n",
    "    on1 = vert1 + direct1 * np.dot(perp_both, temp) / scale\n",
    "\n",
    "    temp = np.cross(sp_diff, direct1)\n",
    "    on2 = vert2 + direct2 * np.dot(perp_both, temp) / scale\n",
    "\n",
    "    scale = np.linalg.norm(on1 - on2)\n",
    "\n",
    "    res = (on1 + on2) * 0.5\n",
    "    return float(scale), res"
   ]
  },
  {
   "cell_type": "code",
   "execution_count": 3,
   "metadata": {},
   "outputs": [],
   "source": [
    "a, b, c, d = (\n",
    "    np.array([0, 0, 0]),\n",
    "    np.array([4, 5, 6]),\n",
    "    np.array([7, 8, 9]),\n",
    "    np.array([10, 11, 12]),\n",
    ")"
   ]
  },
  {
   "cell_type": "code",
   "execution_count": 4,
   "metadata": {},
   "outputs": [],
   "source": [
    "%lprun -f skew_midpoint skew_midpoint(a,b,c,d)"
   ]
  },
  {
   "cell_type": "code",
   "execution_count": null,
   "metadata": {},
   "outputs": [],
   "source": []
  }
 ],
 "metadata": {
  "kernelspec": {
   "display_name": "Python 3 (ipykernel)",
   "language": "python",
   "name": "python3"
  },
  "language_info": {
   "codemirror_mode": {
    "name": "ipython",
    "version": 3
   },
   "file_extension": ".py",
   "mimetype": "text/x-python",
   "name": "python",
   "nbconvert_exporter": "python",
   "pygments_lexer": "ipython3",
   "version": "3.10.9"
  }
 },
 "nbformat": 4,
 "nbformat_minor": 2
}
