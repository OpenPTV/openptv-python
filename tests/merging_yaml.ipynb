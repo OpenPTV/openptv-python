{
 "cells": [
  {
   "cell_type": "code",
   "execution_count": 8,
   "metadata": {},
   "outputs": [],
   "source": [
    "import glob\n",
    "import os\n",
    "import yaml\n"
   ]
  },
  {
   "cell_type": "code",
   "execution_count": 9,
   "metadata": {},
   "outputs": [
    {
     "data": {
      "text/plain": [
       "{'cal_ori.par': openptv_python.parameters.CalibrationPar,\n",
       " 'detect_plate.par': openptv_python.parameters.TargetPar,\n",
       " 'track.par': openptv_python.parameters.TrackPar,\n",
       " 'ptv.par': openptv_python.parameters.ControlPar,\n",
       " 'criteria.par': openptv_python.parameters.VolumePar,\n",
       " 'sequence.par': openptv_python.parameters.SequencePar,\n",
       " 'targ_rec.par': openptv_python.parameters.TargetPar,\n",
       " 'orient.par': openptv_python.parameters.OrientationPar}"
      ]
     },
     "execution_count": 9,
     "metadata": {},
     "output_type": "execute_result"
    }
   ],
   "source": [
    "# dictionary that connects the .par file names and the respective parameter classes\n",
    "from openptv_python.parameters import OrientationPar, SequencePar,VolumePar,CalibrationPar, ControlPar, TargetPar, TrackPar\n",
    "\n",
    "par_dict = {'cal_ori.par': CalibrationPar, \n",
    "            'detect_plate.par':TargetPar,\n",
    "            'track.par': TrackPar,\n",
    "            # 'multi_planes.par':MultiPlanePar,\n",
    "            'ptv.par': ControlPar,\n",
    "            'criteria.par':VolumePar,\n",
    "            'sequence.par':SequencePar,\n",
    "            'targ_rec.par': TargetPar,\n",
    "            'orient.par' : OrientationPar\n",
    "            }\n",
    "par_dict"
   ]
  },
  {
   "cell_type": "code",
   "execution_count": 10,
   "metadata": {},
   "outputs": [
    {
     "ename": "KeyError",
     "evalue": "'multi_planes'",
     "output_type": "error",
     "traceback": [
      "\u001b[0;31m---------------------------------------------------------------------------\u001b[0m",
      "\u001b[0;31mKeyError\u001b[0m                                  Traceback (most recent call last)",
      "\u001b[1;32m/home/user/Documents/repos/openptvpy/openptv-python/tests/merging_yaml.ipynb Cell 3\u001b[0m line \u001b[0;36m2\n\u001b[1;32m     <a href='vscode-notebook-cell:/home/user/Documents/repos/openptvpy/openptv-python/tests/merging_yaml.ipynb#W1sZmlsZQ%3D%3D?line=17'>18</a>\u001b[0m     par_content \u001b[39m=\u001b[39m yaml\u001b[39m.\u001b[39msafe_load(file)\n\u001b[1;32m     <a href='vscode-notebook-cell:/home/user/Documents/repos/openptvpy/openptv-python/tests/merging_yaml.ipynb#W1sZmlsZQ%3D%3D?line=19'>20</a>\u001b[0m \u001b[39m# Here we need to read the content into a respective class and \u001b[39;00m\n\u001b[1;32m     <a href='vscode-notebook-cell:/home/user/Documents/repos/openptvpy/openptv-python/tests/merging_yaml.ipynb#W1sZmlsZQ%3D%3D?line=20'>21</a>\u001b[0m \u001b[39m# store it with the paramater name as the key\u001b[39;00m\n\u001b[0;32m---> <a href='vscode-notebook-cell:/home/user/Documents/repos/openptvpy/openptv-python/tests/merging_yaml.ipynb#W1sZmlsZQ%3D%3D?line=21'>22</a>\u001b[0m par_class \u001b[39m=\u001b[39m par_dict[title]\n\u001b[1;32m     <a href='vscode-notebook-cell:/home/user/Documents/repos/openptvpy/openptv-python/tests/merging_yaml.ipynb#W1sZmlsZQ%3D%3D?line=22'>23</a>\u001b[0m par_content \u001b[39m=\u001b[39m par_class(\u001b[39m*\u001b[39m\u001b[39m*\u001b[39mpar_content)\n\u001b[1;32m     <a href='vscode-notebook-cell:/home/user/Documents/repos/openptvpy/openptv-python/tests/merging_yaml.ipynb#W1sZmlsZQ%3D%3D?line=24'>25</a>\u001b[0m \u001b[39m# Add the dictionary to the merged data with the title as the key\u001b[39;00m\n",
      "\u001b[0;31mKeyError\u001b[0m: 'multi_planes'"
     ]
    }
   ],
   "source": [
    "\n",
    "# Define the directory containing the .par files\n",
    "directory_path = 'testing_fodder/parameters'\n",
    "output_yaml_file = 'merged_parameters.yaml'\n",
    "\n",
    "# Initialize an empty dictionary to store the merged data\n",
    "merged_data = {}\n",
    "\n",
    "# Find all .par files in the specified directory\n",
    "par_files = glob.glob(os.path.join(directory_path, '*.par'))\n",
    "\n",
    "# Iterate through each .par file\n",
    "for file_path in par_files:\n",
    "    # Extract the title from the file name (assuming the file name is something like \"title.par\")\n",
    "    title = os.path.splitext(os.path.basename(file_path))[0]\n",
    "\n",
    "    # Read the content of the .par file and convert it to a dictionary\n",
    "    with open(file_path, 'r') as file:\n",
    "        par_content = yaml.safe_load(file)\n",
    "\n",
    "    # Here we need to read the content into a respective class and \n",
    "    # store it with the paramater name as the key\n",
    "    par_class = par_dict[title]\n",
    "    par_content = par_class(**par_content)\n",
    "    \n",
    "    # Add the dictionary to the merged data with the title as the key\n",
    "    merged_data[title] = par_content\n",
    "\n",
    "# Write the merged data to a single YAML file\n",
    "with open(output_yaml_file, 'w') as output_file:\n",
    "    yaml.dump(merged_data, output_file, default_flow_style=False)\n",
    "\n",
    "print(f'Merged data written to {output_yaml_file}')"
   ]
  },
  {
   "cell_type": "code",
   "execution_count": null,
   "metadata": {},
   "outputs": [
    {
     "data": {
      "text/plain": [
       "'/home/user/Documents/repos/openptvpy/openptv-python/tests'"
      ]
     },
     "execution_count": 7,
     "metadata": {},
     "output_type": "execute_result"
    }
   ],
   "source": []
  },
  {
   "cell_type": "code",
   "execution_count": null,
   "metadata": {},
   "outputs": [],
   "source": []
  }
 ],
 "metadata": {
  "kernelspec": {
   "display_name": "openptvpy",
   "language": "python",
   "name": "python3"
  },
  "language_info": {
   "codemirror_mode": {
    "name": "ipython",
    "version": 3
   },
   "file_extension": ".py",
   "mimetype": "text/x-python",
   "name": "python",
   "nbconvert_exporter": "python",
   "pygments_lexer": "ipython3",
   "version": "3.10.9"
  }
 },
 "nbformat": 4,
 "nbformat_minor": 2
}
