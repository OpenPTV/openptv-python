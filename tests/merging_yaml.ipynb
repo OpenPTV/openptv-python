{
 "cells": [
  {
   "cell_type": "code",
   "execution_count": 4,
   "metadata": {},
   "outputs": [],
   "source": [
    "import glob\n",
    "import os\n",
    "import yaml\n"
   ]
  },
  {
   "cell_type": "code",
   "execution_count": 5,
   "metadata": {},
   "outputs": [
    {
     "data": {
      "text/plain": [
       "{'cal_ori': openptv_python.parameters.CalibrationPar,\n",
       " 'detect_plate': openptv_python.parameters.TargetPar,\n",
       " 'track': openptv_python.parameters.TrackPar,\n",
       " 'multi_planes': openptv_python.parameters.MultiPlanesPar,\n",
       " 'ptv': openptv_python.parameters.ControlPar,\n",
       " 'criteria': openptv_python.parameters.VolumePar,\n",
       " 'sequence': openptv_python.parameters.SequencePar,\n",
       " 'targ_rec': openptv_python.parameters.TargetPar,\n",
       " 'orient': openptv_python.parameters.OrientationPar}"
      ]
     },
     "execution_count": 5,
     "metadata": {},
     "output_type": "execute_result"
    }
   ],
   "source": [
    "# dictionary that connects the .par file names and the respective parameter classes\n",
    "from openptv_python.parameters import OrientPar, \\\n",
    "    SequencePar,VolumePar,CalibrationPar, ControlPar, TargetPar, TrackPar, MultiPlanesPar\n",
    "\n",
    "par_dict = {'cal_ori': CalibrationPar, \n",
    "            'detect_plate':TargetPar,\n",
    "            'track': TrackPar,\n",
    "            'multi_planes':MultiPlanesPar,\n",
    "            'ptv': ControlPar,\n",
    "            'criteria':VolumePar,\n",
    "            'sequence':SequencePar,\n",
    "            'targ_rec': TargetPar,\n",
    "            'orient' : OrientPar\n",
    "            }\n",
    "par_dict"
   ]
  },
  {
   "cell_type": "code",
   "execution_count": 6,
   "metadata": {},
   "outputs": [
    {
     "name": "stdout",
     "output_type": "stream",
     "text": [
      "multi_planes\n",
      "MultiPlanesPar(planes=3, multi_filename=['img/calib_a_cam', 'img/calib_b_cam', 'img/calib_c_cam'])\n",
      "criteria\n",
      "None\n",
      "track\n",
      "None\n",
      "targ_rec_all_different_fields\n"
     ]
    },
    {
     "ename": "KeyError",
     "evalue": "'targ_rec_all_different_fields'",
     "output_type": "error",
     "traceback": [
      "\u001b[0;31m---------------------------------------------------------------------------\u001b[0m",
      "\u001b[0;31mKeyError\u001b[0m                                  Traceback (most recent call last)",
      "\u001b[1;32m/home/user/Documents/repos/openptvpy/openptv-python/tests/merging_yaml.ipynb Cell 3\u001b[0m line \u001b[0;36m2\n\u001b[1;32m     <a href='vscode-notebook-cell:/home/user/Documents/repos/openptvpy/openptv-python/tests/merging_yaml.ipynb#W2sZmlsZQ%3D%3D?line=15'>16</a>\u001b[0m \u001b[39mprint\u001b[39m(title)\n\u001b[1;32m     <a href='vscode-notebook-cell:/home/user/Documents/repos/openptvpy/openptv-python/tests/merging_yaml.ipynb#W2sZmlsZQ%3D%3D?line=17'>18</a>\u001b[0m \u001b[39m# Read the content of the .par file and convert it to a dictionary\u001b[39;00m\n\u001b[1;32m     <a href='vscode-notebook-cell:/home/user/Documents/repos/openptvpy/openptv-python/tests/merging_yaml.ipynb#W2sZmlsZQ%3D%3D?line=18'>19</a>\u001b[0m \u001b[39m# with open(file_path, 'r') as file:\u001b[39;00m\n\u001b[1;32m     <a href='vscode-notebook-cell:/home/user/Documents/repos/openptvpy/openptv-python/tests/merging_yaml.ipynb#W2sZmlsZQ%3D%3D?line=19'>20</a>\u001b[0m \u001b[39m#     par_content = yaml.safe_load(file)\u001b[39;00m\n\u001b[1;32m     <a href='vscode-notebook-cell:/home/user/Documents/repos/openptvpy/openptv-python/tests/merging_yaml.ipynb#W2sZmlsZQ%3D%3D?line=20'>21</a>\u001b[0m \n\u001b[1;32m     <a href='vscode-notebook-cell:/home/user/Documents/repos/openptvpy/openptv-python/tests/merging_yaml.ipynb#W2sZmlsZQ%3D%3D?line=21'>22</a>\u001b[0m \u001b[39m# Here we need to read the content into a respective class and \u001b[39;00m\n\u001b[1;32m     <a href='vscode-notebook-cell:/home/user/Documents/repos/openptvpy/openptv-python/tests/merging_yaml.ipynb#W2sZmlsZQ%3D%3D?line=22'>23</a>\u001b[0m \u001b[39m# store it with the paramater name as the key\u001b[39;00m\n\u001b[0;32m---> <a href='vscode-notebook-cell:/home/user/Documents/repos/openptvpy/openptv-python/tests/merging_yaml.ipynb#W2sZmlsZQ%3D%3D?line=23'>24</a>\u001b[0m par_class \u001b[39m=\u001b[39m par_dict[title]\n\u001b[1;32m     <a href='vscode-notebook-cell:/home/user/Documents/repos/openptvpy/openptv-python/tests/merging_yaml.ipynb#W2sZmlsZQ%3D%3D?line=24'>25</a>\u001b[0m par_content \u001b[39m=\u001b[39m par_class()\u001b[39m.\u001b[39mfrom_file(file_path)\n\u001b[1;32m     <a href='vscode-notebook-cell:/home/user/Documents/repos/openptvpy/openptv-python/tests/merging_yaml.ipynb#W2sZmlsZQ%3D%3D?line=25'>26</a>\u001b[0m \u001b[39m# par_content = par_class(**par_content)\u001b[39;00m\n",
      "\u001b[0;31mKeyError\u001b[0m: 'targ_rec_all_different_fields'"
     ]
    }
   ],
   "source": [
    "\n",
    "# Define the directory containing the .par files\n",
    "directory_path = 'testing_fodder/parameters'\n",
    "output_yaml_file = 'merged_parameters.yaml'\n",
    "\n",
    "# Initialize an empty dictionary to store the merged data\n",
    "merged_data = {}\n",
    "\n",
    "# Find all .par files in the specified directory\n",
    "par_files = glob.glob(os.path.join(directory_path, '*.par'))\n",
    "# print(par_files)\n",
    "\n",
    "# Iterate through each .par file\n",
    "for file_path in par_files:\n",
    "    # Extract the title from the file name (assuming the file name is something like \"title.par\")\n",
    "    title = os.path.splitext(os.path.basename(file_path))[0]\n",
    "    print(title)\n",
    "\n",
    "    # Read the content of the .par file and convert it to a dictionary\n",
    "    # with open(file_path, 'r') as file:\n",
    "    #     par_content = yaml.safe_load(file)\n",
    "\n",
    "    # Here we need to read the content into a respective class and \n",
    "    # store it with the paramater name as the key\n",
    "    par_class = par_dict[title]\n",
    "    par_content = par_class().from_file(file_path)\n",
    "    # par_content = par_class(**par_content)\n",
    "    print(par_content)\n",
    "    \n",
    "    # Add the dictionary to the merged data with the title as the key\n",
    "    merged_data[title] = par_content\n",
    "\n",
    "# Write the merged data to a single YAML file\n",
    "with open(output_yaml_file, 'w') as output_file:\n",
    "    yaml.dump(merged_data, output_file, default_flow_style=False)\n",
    "\n",
    "print(f'Merged data written to {output_yaml_file}')"
   ]
  },
  {
   "cell_type": "code",
   "execution_count": null,
   "metadata": {},
   "outputs": [
    {
     "name": "stdout",
     "output_type": "stream",
     "text": [
      "['testing_fodder/parameters/multi_planes.par', 'testing_fodder/parameters/criteria.par', 'testing_fodder/parameters/track.par', 'testing_fodder/parameters/targ_rec_all_different_fields.par', 'testing_fodder/parameters/detect_plate.par', 'testing_fodder/parameters/sequence.par', 'testing_fodder/parameters/shaking.par', 'testing_fodder/parameters/man_ori.par', 'testing_fodder/parameters/orient.par', 'testing_fodder/parameters/targ_rec.par', 'testing_fodder/parameters/examine.par', 'testing_fodder/parameters/cal_ori.par', 'testing_fodder/parameters/ptv.par', 'testing_fodder/parameters/pft_version.par', 'testing_fodder/parameters/dumbbell.par', 'testing_fodder/parameters/sortgrid.par']\n"
     ]
    },
    {
     "data": {
      "text/plain": [
       "'testing_fodder/parameters/multi_planes.par'"
      ]
     },
     "execution_count": 4,
     "metadata": {},
     "output_type": "execute_result"
    }
   ],
   "source": [
    "# Define the directory containing the .par files\n",
    "directory_path = 'testing_fodder/parameters'\n",
    "output_yaml_file = 'merged_parameters.yaml'\n",
    "\n",
    "# Initialize an empty dictionary to store the merged data\n",
    "merged_data = {}\n",
    "\n",
    "# Find all .par files in the specified directory\n",
    "par_files = glob.glob(os.path.join(directory_path, '*.par'))\n",
    "print(par_files)\n",
    "\n",
    "file_path = par_files[0]\n",
    "file_path"
   ]
  },
  {
   "cell_type": "code",
   "execution_count": null,
   "metadata": {},
   "outputs": [],
   "source": [
    "title = os.path.splitext(os.path.basename(file_path))[0]\n",
    "par_class = par_dict[title]"
   ]
  },
  {
   "cell_type": "code",
   "execution_count": null,
   "metadata": {},
   "outputs": [
    {
     "data": {
      "text/plain": [
       "{'planes': 3,\n",
       " 'multi_filename': ['img/calib_a_cam', 'img/calib_b_cam', 'img/calib_c_cam']}"
      ]
     },
     "execution_count": 7,
     "metadata": {},
     "output_type": "execute_result"
    }
   ],
   "source": [
    "par_class().from_file(file_path).to_yaml(output_yaml_file)"
   ]
  },
  {
   "cell_type": "code",
   "execution_count": 15,
   "metadata": {},
   "outputs": [
    {
     "name": "stdout",
     "output_type": "stream",
     "text": [
      "file_cam0_frame00000.tif\n"
     ]
    }
   ],
   "source": [
    "tmp = 'file_cam%d_frame%05d.tif'\n",
    "print(tmp % (0, 0))"
   ]
  },
  {
   "cell_type": "markdown",
   "metadata": {},
   "source": [
    "tmp % (1,1)"
   ]
  },
  {
   "cell_type": "markdown",
   "metadata": {},
   "source": []
  }
 ],
 "metadata": {
  "kernelspec": {
   "display_name": "openptvpy",
   "language": "python",
   "name": "python3"
  },
  "language_info": {
   "codemirror_mode": {
    "name": "ipython",
    "version": 3
   },
   "file_extension": ".py",
   "mimetype": "text/x-python",
   "name": "python",
   "nbconvert_exporter": "python",
   "pygments_lexer": "ipython3",
   "version": "3.10.9"
  }
 },
 "nbformat": 4,
 "nbformat_minor": 2
}
