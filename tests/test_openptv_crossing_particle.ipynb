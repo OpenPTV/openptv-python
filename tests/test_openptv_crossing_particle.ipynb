{
 "cells": [
  {
   "cell_type": "markdown",
   "metadata": {},
   "source": [
    "# Fully operational 2D-PTV of the inertial particle settling through a TNTI"
   ]
  },
  {
   "cell_type": "code",
   "execution_count": null,
   "metadata": {},
   "outputs": [],
   "source": [
    "import openptv_python as optv\n",
    "import numpy as np\n",
    "import matplotlib.pyplot as plt\n",
    "import matplotlib.image as mpimg\n",
    "from pathlib import Path\n",
    "import os"
   ]
  },
  {
   "cell_type": "code",
   "execution_count": null,
   "metadata": {},
   "outputs": [],
   "source": [
    "# working directory\n",
    "exp_dir = Path('/home/user/Downloads/test_crossing_particle')\n",
    "os.chdir(exp_dir)\n",
    "os.listdir('.')"
   ]
  },
  {
   "cell_type": "code",
   "execution_count": null,
   "metadata": {},
   "outputs": [],
   "source": [
    "# read parameters\n",
    "from openptv_python.parameters import read_control_par\n",
    "\n",
    "parameters_dir = 'parameters'\n",
    "os.listdir(parameters_dir)\n"
   ]
  },
  {
   "cell_type": "code",
   "execution_count": null,
   "metadata": {},
   "outputs": [],
   "source": [
    "\n",
    "from openptv_python.parameters import read_control_par\n",
    "cpar = read_control_par(os.path.join(parameters_dir,'ptv.par'))\n",
    "print(cpar)"
   ]
  },
  {
   "cell_type": "code",
   "execution_count": null,
   "metadata": {},
   "outputs": [],
   "source": [
    "from openptv_python.calibration import Calibration, read_calibration\n",
    "ori_file = 'cal/cam1.tif.ori'\n",
    "addpar_file = 'cal/cam1.tif.addpar'\n",
    "cal = [read_calibration(ori_file, addpar_file)]\n",
    "print(cal)"
   ]
  },
  {
   "cell_type": "code",
   "execution_count": null,
   "metadata": {},
   "outputs": [],
   "source": [
    "from openptv_python.track import (\n",
    "    track_forward_start,\n",
    "    trackback_c,\n",
    "    trackcorr_c_finish,\n",
    "    trackcorr_c_loop,\n",
    ")\n",
    "from openptv_python.tracking_run import tr_new"
   ]
  },
  {
   "cell_type": "code",
   "execution_count": null,
   "metadata": {},
   "outputs": [],
   "source": [
    "from openptv_python.parameters import read_sequence_par, read_track_par, read_volume_par\n",
    "\n",
    "seq_par_fname = \"parameters/sequence.par\"\n",
    "tpar_fname = \"parameters/track.par\"\n",
    "vpar_fname = \"parameters/criteria.par\"\n",
    "cpar_fname = \"parameters/ptv.par\"\n",
    "\n",
    "seq_par = read_sequence_par(seq_par_fname, cpar.num_cams)\n",
    "tpar = read_track_par(tpar_fname)\n",
    "vpar = read_volume_par(vpar_fname)\n",
    "\n",
    "print(seq_par)\n",
    "print(tpar)\n",
    "print(vpar)"
   ]
  },
  {
   "cell_type": "code",
   "execution_count": null,
   "metadata": {},
   "outputs": [],
   "source": [
    "# image segmentation\n",
    "img_name = seq_par.img_base_name[0] % 1\n",
    "print(img_name)\n",
    "img = mpimg.imread(img_name)\n",
    "plt.imshow(img, cmap='gray')"
   ]
  },
  {
   "cell_type": "code",
   "execution_count": null,
   "metadata": {},
   "outputs": [],
   "source": [
    "# prepare image for detection\n",
    "from openptv_python.image_processing import (\n",
    "    prepare_image\n",
    ")   \n",
    "img_hp = prepare_image(img, 1, 0)\n",
    "plt.imshow(img_hp, cmap='gray')"
   ]
  },
  {
   "cell_type": "code",
   "execution_count": null,
   "metadata": {},
   "outputs": [],
   "source": [
    "# detection\n",
    "from openptv_python.parameters import TargetPar\n",
    "from openptv_python.segmentation import target_recognition\n",
    "\n",
    "tpar = TargetPar(\n",
    "    gvthresh=[20, 255, 255, 255],\n",
    "    discont=5,\n",
    "    nnmin=1,\n",
    "    nnmax=10,\n",
    "    sumg_min=12,\n",
    "    nxmin=1,\n",
    "    nxmax=10,\n",
    "    nymin=1,\n",
    "    nymax=10,\n",
    ")\n",
    "\n",
    "target_array = target_recognition(img, tpar, 0, cpar)\n",
    "\n",
    "print(len(target_array))\n",
    "print(target_array[0].count_pixels())\n",
    "\n"
   ]
  },
  {
   "cell_type": "code",
   "execution_count": null,
   "metadata": {},
   "outputs": [],
   "source": [
    "plt.imshow(img_hp, cmap='gray')\n",
    "for target in target_array:\n",
    "    plt.plot(target.x, target.y, 'r+')"
   ]
  },
  {
   "cell_type": "code",
   "execution_count": null,
   "metadata": {},
   "outputs": [],
   "source": [
    "\n",
    "run = tr_new(\n",
    "            seq_par_fname,\n",
    "            tpar_fname,\n",
    "            vpar_fname,\n",
    "            cpar_fname,\n",
    "            4,\n",
    "            20000,\n",
    "            \"res/rt_is\",\n",
    "            \"res/ptv_is\",\n",
    "            \"res/added\",\n",
    "            cal,\n",
    "            10000.0,\n",
    ")\n",
    "\n",
    "run.tpar.add = 0\n",
    "print(f\"run.seq_par.first = {run.seq_par.first} run.seq_par.last = {run.seq_par.last}\")\n",
    "\n",
    "track_forward_start(run)\n"
   ]
  },
  {
   "cell_type": "code",
   "execution_count": null,
   "metadata": {},
   "outputs": [],
   "source": [
    "trackcorr_c_loop(run, run.seq_par.first)\n",
    "\n",
    "for step in range(run.seq_par.first + 1, run.seq_par.last):\n",
    "    # print(f\"step = {step}\")\n",
    "    trackcorr_c_loop(run, step)\n",
    "    # print(f\"run.npart = {run.npart}\")\n",
    "    # print(f\"run.nlinks = {run.nlinks}\")\n",
    "\n",
    "trackcorr_c_finish(run, run.seq_par.last)\n",
    "\n",
    "\n",
    "range_val = run.seq_par.last - run.seq_par.first\n",
    "npart = run.npart / range_val\n",
    "nlinks = run.nlinks / range_val\n"
   ]
  }
 ],
 "metadata": {
  "kernelspec": {
   "display_name": "openptvpy",
   "language": "python",
   "name": "python3"
  },
  "language_info": {
   "codemirror_mode": {
    "name": "ipython",
    "version": 3
   },
   "file_extension": ".py",
   "mimetype": "text/x-python",
   "name": "python",
   "nbconvert_exporter": "python",
   "pygments_lexer": "ipython3",
   "version": "3.10.9"
  }
 },
 "nbformat": 4,
 "nbformat_minor": 2
}
