{
 "cells": [
  {
   "cell_type": "code",
   "execution_count": 1,
   "metadata": {},
   "outputs": [],
   "source": [
    "import numpy as np\n",
    "import scipy.optimize as opt\n",
    "\n",
    "from openptv_python.calibration import Calibration\n",
    "from openptv_python.imgcoord import image_coordinates\n",
    "from openptv_python.orientation import (\n",
    "    external_calibration,\n",
    "    full_calibration\n",
    ")\n",
    "from openptv_python.parameters import ControlPar, OrientPar, read_control_par\n",
    "from openptv_python.tracking_frame_buf import Target\n",
    "from openptv_python.trafo import arr_metric_to_pixel\n",
    "from openptv_python.imgcoord import img_coord\n",
    "from openptv_python.trafo import pixel_to_metric\n",
    "from openptv_python.tracking_frame_buf import Target\n",
    "\n",
    "from pathlib import Path\n",
    "\n",
    "import matplotlib.pyplot as plt\n",
    "%matplotlib notebook\n",
    "\n",
    "from skimage.io import imread\n"
   ]
  },
  {
   "cell_type": "code",
   "execution_count": 2,
   "metadata": {},
   "outputs": [],
   "source": [
    "# working directory\n",
    "work_dir = Path('/home/user/Downloads/For_Alex_test_34')\n",
    "par_dir = work_dir / \"parameters\"\n",
    "cal_dir = work_dir / \"cal\"\n",
    "res_dir = work_dir / \"res\""
   ]
  },
  {
   "cell_type": "code",
   "execution_count": 3,
   "metadata": {},
   "outputs": [
    {
     "name": "stdout",
     "output_type": "stream",
     "text": [
      "ControlPar(num_cams=4, img_base_name=['cal/cam1a.tif', 'cal/cam2a.tif', 'cal/cam3a.tif', 'cal/cam4.tif'], cal_img_base_name=['cal/cam1.tif', 'cal/cam2.tif', 'cal/cam3.tif', 'cal/cam4.tif'], hp_flag=0, all_cam_flag=0, tiff_flag=1, imx=1920, imy=1080, pix_x=0.01, pix_y=0.01, chfield=0, mm=MultimediaPar(nlay=1, n1=1.0, n2=[1.5], d=[1.5], n3=1.33))\n"
     ]
    }
   ],
   "source": [
    "control_file_name = par_dir / \"ptv.par\"\n",
    "# self.control = ControlPar(4)\n",
    "control = read_control_par(control_file_name)\n",
    "print(control)\n"
   ]
  },
  {
   "cell_type": "code",
   "execution_count": 4,
   "metadata": {},
   "outputs": [],
   "source": [
    "orient_par_file_name = par_dir / \"orient.par\"\n",
    "orient_par = OrientPar().from_file(orient_par_file_name)\n",
    "\n",
    "cal = Calibration().from_file(\n",
    "    cal_dir / \"cam1.tif.ori\",\n",
    "    cal_dir / \"cam1.tif.addpar\",\n",
    ")\n",
    "orig_cal = Calibration().from_file(\n",
    "    cal_dir / \"cam1.tif.ori\",\n",
    "    cal_dir / \"cam1.tif.addpar\",\n",
    ")"
   ]
  },
  {
   "cell_type": "code",
   "execution_count": 5,
   "metadata": {},
   "outputs": [
    {
     "ename": "AttributeError",
     "evalue": "module 'matplotlib.cbook' has no attribute '_Stack'",
     "output_type": "error",
     "traceback": [
      "\u001b[0;31m---------------------------------------------------------------------------\u001b[0m",
      "\u001b[0;31mAttributeError\u001b[0m                            Traceback (most recent call last)",
      "Cell \u001b[0;32mIn[5], line 2\u001b[0m\n\u001b[1;32m      1\u001b[0m im \u001b[38;5;241m=\u001b[39m imread(cal_dir \u001b[38;5;241m/\u001b[39m \u001b[38;5;124m\"\u001b[39m\u001b[38;5;124mcam1.tif\u001b[39m\u001b[38;5;124m\"\u001b[39m)\n\u001b[0;32m----> 2\u001b[0m \u001b[43mplt\u001b[49m\u001b[38;5;241;43m.\u001b[39;49m\u001b[43mimshow\u001b[49m\u001b[43m(\u001b[49m\u001b[43mim\u001b[49m\u001b[43m,\u001b[49m\u001b[43m \u001b[49m\u001b[43mcmap\u001b[49m\u001b[38;5;241;43m=\u001b[39;49m\u001b[38;5;124;43m'\u001b[39;49m\u001b[38;5;124;43mgray\u001b[39;49m\u001b[38;5;124;43m'\u001b[39;49m\u001b[43m)\u001b[49m\n",
      "File \u001b[0;32m~/mambaforge/envs/openptvpy/lib/python3.10/site-packages/matplotlib/pyplot.py:3358\u001b[0m, in \u001b[0;36mimshow\u001b[0;34m(X, cmap, norm, aspect, interpolation, alpha, vmin, vmax, origin, extent, interpolation_stage, filternorm, filterrad, resample, url, data, **kwargs)\u001b[0m\n\u001b[1;32m   3337\u001b[0m \u001b[38;5;129m@_copy_docstring_and_deprecators\u001b[39m(Axes\u001b[38;5;241m.\u001b[39mimshow)\n\u001b[1;32m   3338\u001b[0m \u001b[38;5;28;01mdef\u001b[39;00m \u001b[38;5;21mimshow\u001b[39m(\n\u001b[1;32m   3339\u001b[0m     X: ArrayLike \u001b[38;5;241m|\u001b[39m PIL\u001b[38;5;241m.\u001b[39mImage\u001b[38;5;241m.\u001b[39mImage,\n\u001b[0;32m   (...)\u001b[0m\n\u001b[1;32m   3356\u001b[0m     \u001b[38;5;241m*\u001b[39m\u001b[38;5;241m*\u001b[39mkwargs,\n\u001b[1;32m   3357\u001b[0m ) \u001b[38;5;241m-\u001b[39m\u001b[38;5;241m>\u001b[39m AxesImage:\n\u001b[0;32m-> 3358\u001b[0m     __ret \u001b[38;5;241m=\u001b[39m \u001b[43mgca\u001b[49m\u001b[43m(\u001b[49m\u001b[43m)\u001b[49m\u001b[38;5;241m.\u001b[39mimshow(\n\u001b[1;32m   3359\u001b[0m         X,\n\u001b[1;32m   3360\u001b[0m         cmap\u001b[38;5;241m=\u001b[39mcmap,\n\u001b[1;32m   3361\u001b[0m         norm\u001b[38;5;241m=\u001b[39mnorm,\n\u001b[1;32m   3362\u001b[0m         aspect\u001b[38;5;241m=\u001b[39maspect,\n\u001b[1;32m   3363\u001b[0m         interpolation\u001b[38;5;241m=\u001b[39minterpolation,\n\u001b[1;32m   3364\u001b[0m         alpha\u001b[38;5;241m=\u001b[39malpha,\n\u001b[1;32m   3365\u001b[0m         vmin\u001b[38;5;241m=\u001b[39mvmin,\n\u001b[1;32m   3366\u001b[0m         vmax\u001b[38;5;241m=\u001b[39mvmax,\n\u001b[1;32m   3367\u001b[0m         origin\u001b[38;5;241m=\u001b[39morigin,\n\u001b[1;32m   3368\u001b[0m         extent\u001b[38;5;241m=\u001b[39mextent,\n\u001b[1;32m   3369\u001b[0m         interpolation_stage\u001b[38;5;241m=\u001b[39minterpolation_stage,\n\u001b[1;32m   3370\u001b[0m         filternorm\u001b[38;5;241m=\u001b[39mfilternorm,\n\u001b[1;32m   3371\u001b[0m         filterrad\u001b[38;5;241m=\u001b[39mfilterrad,\n\u001b[1;32m   3372\u001b[0m         resample\u001b[38;5;241m=\u001b[39mresample,\n\u001b[1;32m   3373\u001b[0m         url\u001b[38;5;241m=\u001b[39murl,\n\u001b[1;32m   3374\u001b[0m         \u001b[38;5;241m*\u001b[39m\u001b[38;5;241m*\u001b[39m({\u001b[38;5;124m\"\u001b[39m\u001b[38;5;124mdata\u001b[39m\u001b[38;5;124m\"\u001b[39m: data} \u001b[38;5;28;01mif\u001b[39;00m data \u001b[38;5;129;01mis\u001b[39;00m \u001b[38;5;129;01mnot\u001b[39;00m \u001b[38;5;28;01mNone\u001b[39;00m \u001b[38;5;28;01melse\u001b[39;00m {}),\n\u001b[1;32m   3375\u001b[0m         \u001b[38;5;241m*\u001b[39m\u001b[38;5;241m*\u001b[39mkwargs,\n\u001b[1;32m   3376\u001b[0m     )\n\u001b[1;32m   3377\u001b[0m     sci(__ret)\n\u001b[1;32m   3378\u001b[0m     \u001b[38;5;28;01mreturn\u001b[39;00m __ret\n",
      "File \u001b[0;32m~/mambaforge/envs/openptvpy/lib/python3.10/site-packages/matplotlib/pyplot.py:2540\u001b[0m, in \u001b[0;36mgca\u001b[0;34m()\u001b[0m\n\u001b[1;32m   2538\u001b[0m \u001b[38;5;129m@_copy_docstring_and_deprecators\u001b[39m(Figure\u001b[38;5;241m.\u001b[39mgca)\n\u001b[1;32m   2539\u001b[0m \u001b[38;5;28;01mdef\u001b[39;00m \u001b[38;5;21mgca\u001b[39m() \u001b[38;5;241m-\u001b[39m\u001b[38;5;241m>\u001b[39m Axes:\n\u001b[0;32m-> 2540\u001b[0m     \u001b[38;5;28;01mreturn\u001b[39;00m \u001b[43mgcf\u001b[49m\u001b[43m(\u001b[49m\u001b[43m)\u001b[49m\u001b[38;5;241m.\u001b[39mgca()\n",
      "File \u001b[0;32m~/mambaforge/envs/openptvpy/lib/python3.10/site-packages/matplotlib/pyplot.py:1000\u001b[0m, in \u001b[0;36mgcf\u001b[0;34m()\u001b[0m\n\u001b[1;32m    998\u001b[0m     \u001b[38;5;28;01mreturn\u001b[39;00m manager\u001b[38;5;241m.\u001b[39mcanvas\u001b[38;5;241m.\u001b[39mfigure\n\u001b[1;32m    999\u001b[0m \u001b[38;5;28;01melse\u001b[39;00m:\n\u001b[0;32m-> 1000\u001b[0m     \u001b[38;5;28;01mreturn\u001b[39;00m \u001b[43mfigure\u001b[49m\u001b[43m(\u001b[49m\u001b[43m)\u001b[49m\n",
      "File \u001b[0;32m~/mambaforge/envs/openptvpy/lib/python3.10/site-packages/matplotlib/pyplot.py:934\u001b[0m, in \u001b[0;36mfigure\u001b[0;34m(num, figsize, dpi, facecolor, edgecolor, frameon, FigureClass, clear, **kwargs)\u001b[0m\n\u001b[1;32m    924\u001b[0m \u001b[38;5;28;01mif\u001b[39;00m \u001b[38;5;28mlen\u001b[39m(allnums) \u001b[38;5;241m==\u001b[39m max_open_warning \u001b[38;5;241m>\u001b[39m\u001b[38;5;241m=\u001b[39m \u001b[38;5;241m1\u001b[39m:\n\u001b[1;32m    925\u001b[0m     _api\u001b[38;5;241m.\u001b[39mwarn_external(\n\u001b[1;32m    926\u001b[0m         \u001b[38;5;124mf\u001b[39m\u001b[38;5;124m\"\u001b[39m\u001b[38;5;124mMore than \u001b[39m\u001b[38;5;132;01m{\u001b[39;00mmax_open_warning\u001b[38;5;132;01m}\u001b[39;00m\u001b[38;5;124m figures have been opened. \u001b[39m\u001b[38;5;124m\"\u001b[39m\n\u001b[1;32m    927\u001b[0m         \u001b[38;5;124mf\u001b[39m\u001b[38;5;124m\"\u001b[39m\u001b[38;5;124mFigures created through the pyplot interface \u001b[39m\u001b[38;5;124m\"\u001b[39m\n\u001b[0;32m   (...)\u001b[0m\n\u001b[1;32m    931\u001b[0m         \u001b[38;5;124mf\u001b[39m\u001b[38;5;124m\"\u001b[39m\u001b[38;5;124mConsider using `matplotlib.pyplot.close()`.\u001b[39m\u001b[38;5;124m\"\u001b[39m,\n\u001b[1;32m    932\u001b[0m         \u001b[38;5;167;01mRuntimeWarning\u001b[39;00m)\n\u001b[0;32m--> 934\u001b[0m manager \u001b[38;5;241m=\u001b[39m \u001b[43mnew_figure_manager\u001b[49m\u001b[43m(\u001b[49m\n\u001b[1;32m    935\u001b[0m \u001b[43m    \u001b[49m\u001b[43mnum\u001b[49m\u001b[43m,\u001b[49m\u001b[43m \u001b[49m\u001b[43mfigsize\u001b[49m\u001b[38;5;241;43m=\u001b[39;49m\u001b[43mfigsize\u001b[49m\u001b[43m,\u001b[49m\u001b[43m \u001b[49m\u001b[43mdpi\u001b[49m\u001b[38;5;241;43m=\u001b[39;49m\u001b[43mdpi\u001b[49m\u001b[43m,\u001b[49m\n\u001b[1;32m    936\u001b[0m \u001b[43m    \u001b[49m\u001b[43mfacecolor\u001b[49m\u001b[38;5;241;43m=\u001b[39;49m\u001b[43mfacecolor\u001b[49m\u001b[43m,\u001b[49m\u001b[43m \u001b[49m\u001b[43medgecolor\u001b[49m\u001b[38;5;241;43m=\u001b[39;49m\u001b[43medgecolor\u001b[49m\u001b[43m,\u001b[49m\u001b[43m \u001b[49m\u001b[43mframeon\u001b[49m\u001b[38;5;241;43m=\u001b[39;49m\u001b[43mframeon\u001b[49m\u001b[43m,\u001b[49m\n\u001b[1;32m    937\u001b[0m \u001b[43m    \u001b[49m\u001b[43mFigureClass\u001b[49m\u001b[38;5;241;43m=\u001b[39;49m\u001b[43mFigureClass\u001b[49m\u001b[43m,\u001b[49m\u001b[43m \u001b[49m\u001b[38;5;241;43m*\u001b[39;49m\u001b[38;5;241;43m*\u001b[39;49m\u001b[43mkwargs\u001b[49m\u001b[43m)\u001b[49m\n\u001b[1;32m    938\u001b[0m fig \u001b[38;5;241m=\u001b[39m manager\u001b[38;5;241m.\u001b[39mcanvas\u001b[38;5;241m.\u001b[39mfigure\n\u001b[1;32m    939\u001b[0m \u001b[38;5;28;01mif\u001b[39;00m fig_label:\n",
      "File \u001b[0;32m~/mambaforge/envs/openptvpy/lib/python3.10/site-packages/matplotlib/pyplot.py:465\u001b[0m, in \u001b[0;36mnew_figure_manager\u001b[0;34m(*args, **kwargs)\u001b[0m\n\u001b[1;32m    463\u001b[0m \u001b[38;5;250m\u001b[39m\u001b[38;5;124;03m\"\"\"Create a new figure manager instance.\"\"\"\u001b[39;00m\n\u001b[1;32m    464\u001b[0m _warn_if_gui_out_of_main_thread()\n\u001b[0;32m--> 465\u001b[0m \u001b[38;5;28;01mreturn\u001b[39;00m \u001b[43m_get_backend_mod\u001b[49m\u001b[43m(\u001b[49m\u001b[43m)\u001b[49m\u001b[38;5;241;43m.\u001b[39;49m\u001b[43mnew_figure_manager\u001b[49m\u001b[43m(\u001b[49m\u001b[38;5;241;43m*\u001b[39;49m\u001b[43margs\u001b[49m\u001b[43m,\u001b[49m\u001b[43m \u001b[49m\u001b[38;5;241;43m*\u001b[39;49m\u001b[38;5;241;43m*\u001b[39;49m\u001b[43mkwargs\u001b[49m\u001b[43m)\u001b[49m\n",
      "File \u001b[0;32m~/mambaforge/envs/openptvpy/lib/python3.10/site-packages/matplotlib/backend_bases.py:3411\u001b[0m, in \u001b[0;36m_Backend.new_figure_manager\u001b[0;34m(cls, num, *args, **kwargs)\u001b[0m\n\u001b[1;32m   3409\u001b[0m fig_cls \u001b[38;5;241m=\u001b[39m kwargs\u001b[38;5;241m.\u001b[39mpop(\u001b[38;5;124m'\u001b[39m\u001b[38;5;124mFigureClass\u001b[39m\u001b[38;5;124m'\u001b[39m, Figure)\n\u001b[1;32m   3410\u001b[0m fig \u001b[38;5;241m=\u001b[39m fig_cls(\u001b[38;5;241m*\u001b[39margs, \u001b[38;5;241m*\u001b[39m\u001b[38;5;241m*\u001b[39mkwargs)\n\u001b[0;32m-> 3411\u001b[0m \u001b[38;5;28;01mreturn\u001b[39;00m \u001b[38;5;28;43mcls\u001b[39;49m\u001b[38;5;241;43m.\u001b[39;49m\u001b[43mnew_figure_manager_given_figure\u001b[49m\u001b[43m(\u001b[49m\u001b[43mnum\u001b[49m\u001b[43m,\u001b[49m\u001b[43m \u001b[49m\u001b[43mfig\u001b[49m\u001b[43m)\u001b[49m\n",
      "File \u001b[0;32m~/mambaforge/envs/openptvpy/lib/python3.10/site-packages/matplotlib/backend_bases.py:3416\u001b[0m, in \u001b[0;36m_Backend.new_figure_manager_given_figure\u001b[0;34m(cls, num, figure)\u001b[0m\n\u001b[1;32m   3413\u001b[0m \u001b[38;5;129m@classmethod\u001b[39m\n\u001b[1;32m   3414\u001b[0m \u001b[38;5;28;01mdef\u001b[39;00m \u001b[38;5;21mnew_figure_manager_given_figure\u001b[39m(\u001b[38;5;28mcls\u001b[39m, num, figure):\n\u001b[1;32m   3415\u001b[0m \u001b[38;5;250m    \u001b[39m\u001b[38;5;124;03m\"\"\"Create a new figure manager instance for the given figure.\"\"\"\u001b[39;00m\n\u001b[0;32m-> 3416\u001b[0m     \u001b[38;5;28;01mreturn\u001b[39;00m \u001b[38;5;28;43mcls\u001b[39;49m\u001b[38;5;241;43m.\u001b[39;49m\u001b[43mFigureCanvas\u001b[49m\u001b[38;5;241;43m.\u001b[39;49m\u001b[43mnew_manager\u001b[49m\u001b[43m(\u001b[49m\u001b[43mfigure\u001b[49m\u001b[43m,\u001b[49m\u001b[43m \u001b[49m\u001b[43mnum\u001b[49m\u001b[43m)\u001b[49m\n",
      "File \u001b[0;32m~/mambaforge/envs/openptvpy/lib/python3.10/site-packages/matplotlib/backend_bases.py:1785\u001b[0m, in \u001b[0;36mFigureCanvasBase.new_manager\u001b[0;34m(cls, figure, num)\u001b[0m\n\u001b[1;32m   1774\u001b[0m \u001b[38;5;129m@classmethod\u001b[39m\n\u001b[1;32m   1775\u001b[0m \u001b[38;5;28;01mdef\u001b[39;00m \u001b[38;5;21mnew_manager\u001b[39m(\u001b[38;5;28mcls\u001b[39m, figure, num):\n\u001b[1;32m   1776\u001b[0m \u001b[38;5;250m    \u001b[39m\u001b[38;5;124;03m\"\"\"\u001b[39;00m\n\u001b[1;32m   1777\u001b[0m \u001b[38;5;124;03m    Create a new figure manager for *figure*, using this canvas class.\u001b[39;00m\n\u001b[1;32m   1778\u001b[0m \n\u001b[0;32m   (...)\u001b[0m\n\u001b[1;32m   1783\u001b[0m \u001b[38;5;124;03m    ``FigureManager.create_with_canvas``.\u001b[39;00m\n\u001b[1;32m   1784\u001b[0m \u001b[38;5;124;03m    \"\"\"\u001b[39;00m\n\u001b[0;32m-> 1785\u001b[0m     \u001b[38;5;28;01mreturn\u001b[39;00m \u001b[38;5;28;43mcls\u001b[39;49m\u001b[38;5;241;43m.\u001b[39;49m\u001b[43mmanager_class\u001b[49m\u001b[38;5;241;43m.\u001b[39;49m\u001b[43mcreate_with_canvas\u001b[49m\u001b[43m(\u001b[49m\u001b[38;5;28;43mcls\u001b[39;49m\u001b[43m,\u001b[49m\u001b[43m \u001b[49m\u001b[43mfigure\u001b[49m\u001b[43m,\u001b[49m\u001b[43m \u001b[49m\u001b[43mnum\u001b[49m\u001b[43m)\u001b[49m\n",
      "File \u001b[0;32m~/mambaforge/envs/openptvpy/lib/python3.10/site-packages/matplotlib/backends/backend_nbagg.py:74\u001b[0m, in \u001b[0;36mFigureManagerNbAgg.create_with_canvas\u001b[0;34m(cls, canvas_class, figure, num)\u001b[0m\n\u001b[1;32m     71\u001b[0m \u001b[38;5;129m@classmethod\u001b[39m\n\u001b[1;32m     72\u001b[0m \u001b[38;5;28;01mdef\u001b[39;00m \u001b[38;5;21mcreate_with_canvas\u001b[39m(\u001b[38;5;28mcls\u001b[39m, canvas_class, figure, num):\n\u001b[1;32m     73\u001b[0m     canvas \u001b[38;5;241m=\u001b[39m canvas_class(figure)\n\u001b[0;32m---> 74\u001b[0m     manager \u001b[38;5;241m=\u001b[39m \u001b[38;5;28;43mcls\u001b[39;49m\u001b[43m(\u001b[49m\u001b[43mcanvas\u001b[49m\u001b[43m,\u001b[49m\u001b[43m \u001b[49m\u001b[43mnum\u001b[49m\u001b[43m)\u001b[49m\n\u001b[1;32m     75\u001b[0m     \u001b[38;5;28;01mif\u001b[39;00m is_interactive():\n\u001b[1;32m     76\u001b[0m         manager\u001b[38;5;241m.\u001b[39mshow()\n",
      "File \u001b[0;32m~/mambaforge/envs/openptvpy/lib/python3.10/site-packages/matplotlib/backends/backend_nbagg.py:69\u001b[0m, in \u001b[0;36mFigureManagerNbAgg.__init__\u001b[0;34m(self, canvas, num)\u001b[0m\n\u001b[1;32m     67\u001b[0m \u001b[38;5;28;01mdef\u001b[39;00m \u001b[38;5;21m__init__\u001b[39m(\u001b[38;5;28mself\u001b[39m, canvas, num):\n\u001b[1;32m     68\u001b[0m     \u001b[38;5;28mself\u001b[39m\u001b[38;5;241m.\u001b[39m_shown \u001b[38;5;241m=\u001b[39m \u001b[38;5;28;01mFalse\u001b[39;00m\n\u001b[0;32m---> 69\u001b[0m     \u001b[38;5;28;43msuper\u001b[39;49m\u001b[43m(\u001b[49m\u001b[43m)\u001b[49m\u001b[38;5;241;43m.\u001b[39;49m\u001b[38;5;21;43m__init__\u001b[39;49m\u001b[43m(\u001b[49m\u001b[43mcanvas\u001b[49m\u001b[43m,\u001b[49m\u001b[43m \u001b[49m\u001b[43mnum\u001b[49m\u001b[43m)\u001b[49m\n",
      "File \u001b[0;32m~/mambaforge/envs/openptvpy/lib/python3.10/site-packages/matplotlib/backends/backend_webagg_core.py:432\u001b[0m, in \u001b[0;36mFigureManagerWebAgg.__init__\u001b[0;34m(self, canvas, num)\u001b[0m\n\u001b[1;32m    430\u001b[0m \u001b[38;5;28;01mdef\u001b[39;00m \u001b[38;5;21m__init__\u001b[39m(\u001b[38;5;28mself\u001b[39m, canvas, num):\n\u001b[1;32m    431\u001b[0m     \u001b[38;5;28mself\u001b[39m\u001b[38;5;241m.\u001b[39mweb_sockets \u001b[38;5;241m=\u001b[39m \u001b[38;5;28mset\u001b[39m()\n\u001b[0;32m--> 432\u001b[0m     \u001b[38;5;28;43msuper\u001b[39;49m\u001b[43m(\u001b[49m\u001b[43m)\u001b[49m\u001b[38;5;241;43m.\u001b[39;49m\u001b[38;5;21;43m__init__\u001b[39;49m\u001b[43m(\u001b[49m\u001b[43mcanvas\u001b[49m\u001b[43m,\u001b[49m\u001b[43m \u001b[49m\u001b[43mnum\u001b[49m\u001b[43m)\u001b[49m\n",
      "File \u001b[0;32m~/mambaforge/envs/openptvpy/lib/python3.10/site-packages/matplotlib/backend_bases.py:2664\u001b[0m, in \u001b[0;36mFigureManagerBase.__init__\u001b[0;34m(self, canvas, num)\u001b[0m\n\u001b[1;32m   2659\u001b[0m \u001b[38;5;28mself\u001b[39m\u001b[38;5;241m.\u001b[39mtoolmanager \u001b[38;5;241m=\u001b[39m (ToolManager(canvas\u001b[38;5;241m.\u001b[39mfigure)\n\u001b[1;32m   2660\u001b[0m                     \u001b[38;5;28;01mif\u001b[39;00m mpl\u001b[38;5;241m.\u001b[39mrcParams[\u001b[38;5;124m'\u001b[39m\u001b[38;5;124mtoolbar\u001b[39m\u001b[38;5;124m'\u001b[39m] \u001b[38;5;241m==\u001b[39m \u001b[38;5;124m'\u001b[39m\u001b[38;5;124mtoolmanager\u001b[39m\u001b[38;5;124m'\u001b[39m\n\u001b[1;32m   2661\u001b[0m                     \u001b[38;5;28;01melse\u001b[39;00m \u001b[38;5;28;01mNone\u001b[39;00m)\n\u001b[1;32m   2662\u001b[0m \u001b[38;5;28;01mif\u001b[39;00m (mpl\u001b[38;5;241m.\u001b[39mrcParams[\u001b[38;5;124m\"\u001b[39m\u001b[38;5;124mtoolbar\u001b[39m\u001b[38;5;124m\"\u001b[39m] \u001b[38;5;241m==\u001b[39m \u001b[38;5;124m\"\u001b[39m\u001b[38;5;124mtoolbar2\u001b[39m\u001b[38;5;124m\"\u001b[39m\n\u001b[1;32m   2663\u001b[0m         \u001b[38;5;129;01mand\u001b[39;00m \u001b[38;5;28mself\u001b[39m\u001b[38;5;241m.\u001b[39m_toolbar2_class):\n\u001b[0;32m-> 2664\u001b[0m     \u001b[38;5;28mself\u001b[39m\u001b[38;5;241m.\u001b[39mtoolbar \u001b[38;5;241m=\u001b[39m \u001b[38;5;28;43mself\u001b[39;49m\u001b[38;5;241;43m.\u001b[39;49m\u001b[43m_toolbar2_class\u001b[49m\u001b[43m(\u001b[49m\u001b[38;5;28;43mself\u001b[39;49m\u001b[38;5;241;43m.\u001b[39;49m\u001b[43mcanvas\u001b[49m\u001b[43m)\u001b[49m\n\u001b[1;32m   2665\u001b[0m \u001b[38;5;28;01melif\u001b[39;00m (mpl\u001b[38;5;241m.\u001b[39mrcParams[\u001b[38;5;124m\"\u001b[39m\u001b[38;5;124mtoolbar\u001b[39m\u001b[38;5;124m\"\u001b[39m] \u001b[38;5;241m==\u001b[39m \u001b[38;5;124m\"\u001b[39m\u001b[38;5;124mtoolmanager\u001b[39m\u001b[38;5;124m\"\u001b[39m\n\u001b[1;32m   2666\u001b[0m         \u001b[38;5;129;01mand\u001b[39;00m \u001b[38;5;28mself\u001b[39m\u001b[38;5;241m.\u001b[39m_toolmanager_toolbar_class):\n\u001b[1;32m   2667\u001b[0m     \u001b[38;5;28mself\u001b[39m\u001b[38;5;241m.\u001b[39mtoolbar \u001b[38;5;241m=\u001b[39m \u001b[38;5;28mself\u001b[39m\u001b[38;5;241m.\u001b[39m_toolmanager_toolbar_class(\u001b[38;5;28mself\u001b[39m\u001b[38;5;241m.\u001b[39mtoolmanager)\n",
      "File \u001b[0;32m~/mambaforge/envs/openptvpy/lib/python3.10/site-packages/matplotlib/backends/backend_webagg_core.py:392\u001b[0m, in \u001b[0;36mNavigationToolbar2WebAgg.__init__\u001b[0;34m(self, canvas)\u001b[0m\n\u001b[1;32m    390\u001b[0m \u001b[38;5;28;01mdef\u001b[39;00m \u001b[38;5;21m__init__\u001b[39m(\u001b[38;5;28mself\u001b[39m, canvas):\n\u001b[1;32m    391\u001b[0m     \u001b[38;5;28mself\u001b[39m\u001b[38;5;241m.\u001b[39mmessage \u001b[38;5;241m=\u001b[39m \u001b[38;5;124m'\u001b[39m\u001b[38;5;124m'\u001b[39m\n\u001b[0;32m--> 392\u001b[0m     \u001b[38;5;28;43msuper\u001b[39;49m\u001b[43m(\u001b[49m\u001b[43m)\u001b[49m\u001b[38;5;241;43m.\u001b[39;49m\u001b[38;5;21;43m__init__\u001b[39;49m\u001b[43m(\u001b[49m\u001b[43mcanvas\u001b[49m\u001b[43m)\u001b[49m\n",
      "File \u001b[0;32m~/mambaforge/envs/openptvpy/lib/python3.10/site-packages/matplotlib/backend_bases.py:2859\u001b[0m, in \u001b[0;36mNavigationToolbar2.__init__\u001b[0;34m(self, canvas)\u001b[0m\n\u001b[1;32m   2857\u001b[0m \u001b[38;5;28mself\u001b[39m\u001b[38;5;241m.\u001b[39mcanvas \u001b[38;5;241m=\u001b[39m canvas\n\u001b[1;32m   2858\u001b[0m canvas\u001b[38;5;241m.\u001b[39mtoolbar \u001b[38;5;241m=\u001b[39m \u001b[38;5;28mself\u001b[39m\n\u001b[0;32m-> 2859\u001b[0m \u001b[38;5;28mself\u001b[39m\u001b[38;5;241m.\u001b[39m_nav_stack \u001b[38;5;241m=\u001b[39m \u001b[43mcbook\u001b[49m\u001b[38;5;241;43m.\u001b[39;49m\u001b[43m_Stack\u001b[49m()\n\u001b[1;32m   2860\u001b[0m \u001b[38;5;66;03m# This cursor will be set after the initial draw.\u001b[39;00m\n\u001b[1;32m   2861\u001b[0m \u001b[38;5;28mself\u001b[39m\u001b[38;5;241m.\u001b[39m_last_cursor \u001b[38;5;241m=\u001b[39m tools\u001b[38;5;241m.\u001b[39mCursors\u001b[38;5;241m.\u001b[39mPOINTER\n",
      "File \u001b[0;32m~/mambaforge/envs/openptvpy/lib/python3.10/site-packages/matplotlib/_api/__init__.py:217\u001b[0m, in \u001b[0;36mcaching_module_getattr.<locals>.__getattr__\u001b[0;34m(name)\u001b[0m\n\u001b[1;32m    215\u001b[0m \u001b[38;5;28;01mif\u001b[39;00m name \u001b[38;5;129;01min\u001b[39;00m props:\n\u001b[1;32m    216\u001b[0m     \u001b[38;5;28;01mreturn\u001b[39;00m props[name]\u001b[38;5;241m.\u001b[39m\u001b[38;5;21m__get__\u001b[39m(instance)\n\u001b[0;32m--> 217\u001b[0m \u001b[38;5;28;01mraise\u001b[39;00m \u001b[38;5;167;01mAttributeError\u001b[39;00m(\n\u001b[1;32m    218\u001b[0m     \u001b[38;5;124mf\u001b[39m\u001b[38;5;124m\"\u001b[39m\u001b[38;5;124mmodule \u001b[39m\u001b[38;5;132;01m{\u001b[39;00m\u001b[38;5;28mcls\u001b[39m\u001b[38;5;241m.\u001b[39m\u001b[38;5;18m__module__\u001b[39m\u001b[38;5;132;01m!r}\u001b[39;00m\u001b[38;5;124m has no attribute \u001b[39m\u001b[38;5;132;01m{\u001b[39;00mname\u001b[38;5;132;01m!r}\u001b[39;00m\u001b[38;5;124m\"\u001b[39m)\n",
      "\u001b[0;31mAttributeError\u001b[0m: module 'matplotlib.cbook' has no attribute '_Stack'"
     ]
    }
   ],
   "source": [
    "\n",
    "im = imread(cal_dir / \"cam1.tif\")\n",
    "plt.imshow(im, cmap='gray')"
   ]
  },
  {
   "cell_type": "code",
   "execution_count": null,
   "metadata": {},
   "outputs": [],
   "source": [
    "ref_pts = np.array(\n",
    "    [\n",
    "        [-40.0, -25.0, 8.0],\n",
    "        [40.0, -15.0, 0.0],\n",
    "        [40.0, 15.0, 0.0],\n",
    "        [40.0, 0.0, 8.0],\n",
    "    ]\n",
    ")\n",
    "\n",
    "# Fake the image points by back-projection\n",
    "targets = arr_metric_to_pixel(\n",
    "    image_coordinates(ref_pts, cal, control.mm),\n",
    "    control,\n",
    ")\n",
    "\n",
    "cal.set_pos(np.array([0, 0, 100]))\n",
    "cal.set_angles(np.array([0, 0, 0]))\n",
    "\n",
    "# Jigg the fake detections to give raw_orient some challenge.\n",
    "targets[:, 1] -= 0.1"
   ]
  },
  {
   "cell_type": "code",
   "execution_count": null,
   "metadata": {},
   "outputs": [],
   "source": [
    "targs = [Target() for _ in targets]\n",
    "\n",
    "for ptx, pt in enumerate(targets):\n",
    "    targs[ptx].x = pt[0]\n",
    "    targs[ptx].y = pt[1]"
   ]
  },
  {
   "cell_type": "code",
   "execution_count": null,
   "metadata": {},
   "outputs": [],
   "source": [
    "# def residual(calibration_array, ref_pts, targs, control, cc):\n",
    "#     # print(calibration_array)\n",
    "#     # print(ref_pts)\n",
    "#     # print(targs)\n",
    "#     # print(control)\n",
    "#     # print(calibration_array)\n",
    "    \n",
    "#     c = Calibration()\n",
    "#     c.set_pos(calibration_array[:3])\n",
    "#     c.set_angles(calibration_array[3:])\n",
    "#     c.int_par.cc = cc\n",
    "#     c.update_rotation_matrix()\n",
    "    \n",
    "    \n",
    "#     # print(f\"{c.get_pos()=}\")\n",
    "                \n",
    "#     residual = 0\n",
    "#     for i in range(len(targs)):\n",
    "#         xc, yc = pixel_to_metric(targs[i].x, targs[i].y, control)\n",
    "#         # print(f\"{xc=}, {yc=} mm\")\n",
    "        \n",
    "#         xp, yp = img_coord(ref_pts[i], c, control.mm)\n",
    "#         # print(f\"{xp=}, {yp=} mm\")\n",
    "#         residual += ((xc - xp)**2 + (yc - yp)**2)\n",
    "        \n",
    "#         # print(f\"{residual=}\")\n",
    "        \n",
    "#     return residual"
   ]
  },
  {
   "cell_type": "code",
   "execution_count": null,
   "metadata": {},
   "outputs": [],
   "source": [
    "# x0 = np.hstack([cal.get_pos(), cal.get_angles()])\n",
    "# cc = orig_cal.int_par.cc\n",
    "\n",
    "# sol = opt.minimize(residual, x0, args=(ref_pts, targs, control, cc), method='Nelder-Mead', tol=1e-6)"
   ]
  },
  {
   "cell_type": "code",
   "execution_count": null,
   "metadata": {},
   "outputs": [],
   "source": []
  },
  {
   "cell_type": "code",
   "execution_count": null,
   "metadata": {},
   "outputs": [],
   "source": [
    "# print( residual(np.hstack([orig_cal.get_pos(), orig_cal.get_angles()]), ref_pts, targs, control, orig_cal.int_par.cc))"
   ]
  },
  {
   "cell_type": "code",
   "execution_count": null,
   "metadata": {},
   "outputs": [],
   "source": [
    "import copy\n",
    "def added_par_residual(added_par_array, ref_pts, targs, control, cal):\n",
    "    # print(calibration_array)\n",
    "    # print(ref_pts)\n",
    "    # print(targs)\n",
    "    # print(control)\n",
    "    # print(calibration_array)\n",
    "    c = copy.deepcopy(cal)\n",
    "    c.added_par = added_par_array\n",
    "    \n",
    "    # print(f\"{c.get_pos()=}\")\n",
    "                \n",
    "    residual = 0\n",
    "    for i in range(len(targs)):\n",
    "        xc, yc = pixel_to_metric(targs[i].x, targs[i].y, control)\n",
    "        # print(f\"{xc=}, {yc=} mm\")\n",
    "        \n",
    "        xp, yp = img_coord(ref_pts[i], c, control.mm)\n",
    "        # print(f\"{xp=}, {yp=} mm\")\n",
    "        residual += ((xc - xp)**2 + (yc - yp)**2)\n",
    "        \n",
    "        # print(f\"{residual=}\")\n",
    "        \n",
    "    return residual"
   ]
  },
  {
   "cell_type": "code",
   "execution_count": null,
   "metadata": {},
   "outputs": [],
   "source": [
    "x0 = np.array(cal.added_par.tolist())\n",
    "\n",
    "sol = opt.minimize(added_par_residual, x0, args=(ref_pts, targs, control, cal), method='Nelder-Mead', tol=1e-6)\n",
    "print(f\"{sol.x=}\")\n",
    "# print(sol.x - np.hstack([orig_cal.get_pos(), orig_cal.get_angles()]))\n",
    "\n"
   ]
  },
  {
   "cell_type": "code",
   "execution_count": null,
   "metadata": {},
   "outputs": [],
   "source": [
    "# print(sol.x)\n",
    "print(cal.added_par)\n",
    "cal.set_added_par(sol.x)\n",
    "print(cal.added_par)\n",
    "full_calibration(cal, ref_pts, targets, control, orient_par)\n",
    "print(cal.added_par)"
   ]
  },
  {
   "cell_type": "code",
   "execution_count": null,
   "metadata": {},
   "outputs": [],
   "source": [
    "print(cal.get_pos())\n",
    "print(cal.get_angles())\n",
    "print(cal.get_primary_point())\n",
    "print(cal.get_decentering())\n",
    "print(cal.added_par)"
   ]
  }
 ],
 "metadata": {
  "kernelspec": {
   "display_name": "Python 3 (ipykernel)",
   "language": "python",
   "name": "python3"
  },
  "language_info": {
   "codemirror_mode": {
    "name": "ipython",
    "version": 3
   },
   "file_extension": ".py",
   "mimetype": "text/x-python",
   "name": "python",
   "nbconvert_exporter": "python",
   "pygments_lexer": "ipython3",
   "version": "3.10.9"
  }
 },
 "nbformat": 4,
 "nbformat_minor": 2
}
