{
 "cells": [
  {
   "cell_type": "code",
   "execution_count": 8,
   "metadata": {},
   "outputs": [],
   "source": [
    "# Working with Frame and Frame buffer\n"
   ]
  },
  {
   "cell_type": "code",
   "execution_count": 9,
   "metadata": {},
   "outputs": [],
   "source": [
    "from openptv_python.tracking_frame_buf import Frame, FrameBuf\n",
    "from collections import deque"
   ]
  },
  {
   "cell_type": "code",
   "execution_count": 10,
   "metadata": {},
   "outputs": [
    {
     "ename": "TypeError",
     "evalue": "FrameBuf.__init__() missing 7 required positional arguments: 'buf_len', 'num_cams', 'max_targets', 'corres_file_base', 'linkage_file_base', 'prio_file_base', and 'target_file_base'",
     "output_type": "error",
     "traceback": [
      "\u001b[0;31m---------------------------------------------------------------------------\u001b[0m",
      "\u001b[0;31mTypeError\u001b[0m                                 Traceback (most recent call last)",
      "\u001b[1;32m/home/user/Documents/repos/openptvpy/openptv-python/tests/test_framebuf.ipynb Cell 3\u001b[0m line \u001b[0;36m1\n\u001b[0;32m----> <a href='vscode-notebook-cell:/home/user/Documents/repos/openptvpy/openptv-python/tests/test_framebuf.ipynb#W3sZmlsZQ%3D%3D?line=0'>1</a>\u001b[0m fb \u001b[39m=\u001b[39m FrameBuf() \u001b[39m# type: ignore\u001b[39;00m\n",
      "\u001b[0;31mTypeError\u001b[0m: FrameBuf.__init__() missing 7 required positional arguments: 'buf_len', 'num_cams', 'max_targets', 'corres_file_base', 'linkage_file_base', 'prio_file_base', and 'target_file_base'"
     ]
    }
   ],
   "source": [
    "fb = FrameBuf() # type: ignore"
   ]
  },
  {
   "cell_type": "code",
   "execution_count": 11,
   "metadata": {},
   "outputs": [],
   "source": [
    "frame = Frame(num_cams=4)"
   ]
  },
  {
   "cell_type": "code",
   "execution_count": 12,
   "metadata": {},
   "outputs": [
    {
     "ename": "TypeError",
     "evalue": "FrameBuf.__init__() missing 6 required positional arguments: 'num_cams', 'max_targets', 'corres_file_base', 'linkage_file_base', 'prio_file_base', and 'target_file_base'",
     "output_type": "error",
     "traceback": [
      "\u001b[0;31m---------------------------------------------------------------------------\u001b[0m",
      "\u001b[0;31mTypeError\u001b[0m                                 Traceback (most recent call last)",
      "\u001b[1;32m/home/user/Documents/repos/openptvpy/openptv-python/tests/test_framebuf.ipynb Cell 5\u001b[0m line \u001b[0;36m1\n\u001b[0;32m----> <a href='vscode-notebook-cell:/home/user/Documents/repos/openptvpy/openptv-python/tests/test_framebuf.ipynb#W0sZmlsZQ%3D%3D?line=0'>1</a>\u001b[0m fb \u001b[39m=\u001b[39m FrameBuf(deque([frame]\u001b[39m*\u001b[39;49m\u001b[39m4\u001b[39;49m))\n",
      "\u001b[0;31mTypeError\u001b[0m: FrameBuf.__init__() missing 6 required positional arguments: 'num_cams', 'max_targets', 'corres_file_base', 'linkage_file_base', 'prio_file_base', and 'target_file_base'"
     ]
    }
   ],
   "source": [
    "fb = FrameBuf(deque([frame]*4))"
   ]
  },
  {
   "cell_type": "code",
   "execution_count": null,
   "metadata": {},
   "outputs": [],
   "source": []
  }
 ],
 "metadata": {
  "kernelspec": {
   "display_name": "openptvpy",
   "language": "python",
   "name": "python3"
  },
  "language_info": {
   "codemirror_mode": {
    "name": "ipython",
    "version": 3
   },
   "file_extension": ".py",
   "mimetype": "text/x-python",
   "name": "python",
   "nbconvert_exporter": "python",
   "pygments_lexer": "ipython3",
   "version": "3.10.9"
  }
 },
 "nbformat": 4,
 "nbformat_minor": 2
}
