{
 "cells": [
  {
   "cell_type": "code",
   "execution_count": 1,
   "metadata": {},
   "outputs": [],
   "source": [
    "# test calibration using scipy.optimize"
   ]
  },
  {
   "cell_type": "code",
   "execution_count": 2,
   "metadata": {},
   "outputs": [],
   "source": [
    "import numpy as np\n",
    "import scipy.optimize as opt\n",
    "\n",
    "from openptv_python.calibration import Calibration\n",
    "from openptv_python.imgcoord import image_coordinates\n",
    "from openptv_python.orientation import (\n",
    "    external_calibration,\n",
    "    full_calibration\n",
    ")\n",
    "from openptv_python.parameters import ControlPar, OrientPar, read_control_par\n",
    "from openptv_python.tracking_frame_buf import Target\n",
    "from openptv_python.trafo import arr_metric_to_pixel\n",
    "from openptv_python.imgcoord import img_coord\n",
    "from openptv_python.trafo import pixel_to_metric\n",
    "from openptv_python.tracking_frame_buf import Target\n"
   ]
  },
  {
   "cell_type": "code",
   "execution_count": 3,
   "metadata": {},
   "outputs": [
    {
     "ename": "FileNotFoundError",
     "evalue": "Could not open file /home/user/Downloads/For_Alex_test_34/parameters/control.par",
     "output_type": "error",
     "traceback": [
      "\u001b[0;31m---------------------------------------------------------------------------\u001b[0m",
      "\u001b[0;31mFileNotFoundError\u001b[0m                         Traceback (most recent call last)",
      "Cell \u001b[0;32mIn[3], line 3\u001b[0m\n\u001b[1;32m      1\u001b[0m control_file_name \u001b[38;5;241m=\u001b[39m \u001b[38;5;124m\"\u001b[39m\u001b[38;5;124m/home/user/Downloads/For_Alex_test_34/parameters/control.par\u001b[39m\u001b[38;5;124m\"\u001b[39m\n\u001b[1;32m      2\u001b[0m \u001b[38;5;66;03m# self.control = ControlPar(4)\u001b[39;00m\n\u001b[0;32m----> 3\u001b[0m control \u001b[38;5;241m=\u001b[39m \u001b[43mread_control_par\u001b[49m\u001b[43m(\u001b[49m\u001b[43mcontrol_file_name\u001b[49m\u001b[43m)\u001b[49m\n\u001b[1;32m      5\u001b[0m orient_par_file_name \u001b[38;5;241m=\u001b[39m \u001b[38;5;124m\"\u001b[39m\u001b[38;5;124m/home/user/Downloads/For_Alex_test_34/parameters/orient.par\u001b[39m\u001b[38;5;124m\"\u001b[39m\n\u001b[1;32m      6\u001b[0m orient_par \u001b[38;5;241m=\u001b[39m OrientPar()\u001b[38;5;241m.\u001b[39mfrom_file(orient_par_file_name)\n",
      "File \u001b[0;32m~/Documents/repos/openptvpy/openptv-python/openptv_python/parameters.py:551\u001b[0m, in \u001b[0;36mread_control_par\u001b[0;34m(filename)\u001b[0m\n\u001b[1;32m    549\u001b[0m \u001b[38;5;28;01mdef\u001b[39;00m \u001b[38;5;21mread_control_par\u001b[39m(filename: \u001b[38;5;28mstr\u001b[39m) \u001b[38;5;241m-\u001b[39m\u001b[38;5;241m>\u001b[39m ControlPar:\n\u001b[1;32m    550\u001b[0m \u001b[38;5;250m    \u001b[39m\u001b[38;5;124;03m\"\"\"Read control parameters from file and return ControlPar object.\"\"\"\u001b[39;00m\n\u001b[0;32m--> 551\u001b[0m     \u001b[38;5;28;01mreturn\u001b[39;00m \u001b[43mControlPar\u001b[49m\u001b[43m(\u001b[49m\u001b[43m)\u001b[49m\u001b[38;5;241;43m.\u001b[39;49m\u001b[43mfrom_file\u001b[49m\u001b[43m(\u001b[49m\u001b[43mfilename\u001b[49m\u001b[43m)\u001b[49m\n",
      "File \u001b[0;32m~/Documents/repos/openptvpy/openptv-python/openptv_python/parameters.py:504\u001b[0m, in \u001b[0;36mControlPar.from_file\u001b[0;34m(cls, filename)\u001b[0m\n\u001b[1;32m    502\u001b[0m ret \u001b[38;5;241m=\u001b[39m \u001b[38;5;28mcls\u001b[39m()\n\u001b[1;32m    503\u001b[0m \u001b[38;5;28;01mif\u001b[39;00m \u001b[38;5;129;01mnot\u001b[39;00m os\u001b[38;5;241m.\u001b[39mpath\u001b[38;5;241m.\u001b[39misfile(filename):\n\u001b[0;32m--> 504\u001b[0m     \u001b[38;5;28;01mraise\u001b[39;00m \u001b[38;5;167;01mFileNotFoundError\u001b[39;00m(\u001b[38;5;124mf\u001b[39m\u001b[38;5;124m\"\u001b[39m\u001b[38;5;124mCould not open file \u001b[39m\u001b[38;5;132;01m{\u001b[39;00mfilename\u001b[38;5;132;01m}\u001b[39;00m\u001b[38;5;124m\"\u001b[39m)\n\u001b[1;32m    506\u001b[0m \u001b[38;5;28;01mwith\u001b[39;00m \u001b[38;5;28mopen\u001b[39m(filename, \u001b[38;5;124m\"\u001b[39m\u001b[38;5;124mr\u001b[39m\u001b[38;5;124m\"\u001b[39m, encoding\u001b[38;5;241m=\u001b[39m\u001b[38;5;124m\"\u001b[39m\u001b[38;5;124mutf-8\u001b[39m\u001b[38;5;124m\"\u001b[39m) \u001b[38;5;28;01mas\u001b[39;00m par_file:\n\u001b[1;32m    507\u001b[0m     ret\u001b[38;5;241m.\u001b[39mnum_cams \u001b[38;5;241m=\u001b[39m \u001b[38;5;28mint\u001b[39m(par_file\u001b[38;5;241m.\u001b[39mreadline()\u001b[38;5;241m.\u001b[39mstrip())\n",
      "\u001b[0;31mFileNotFoundError\u001b[0m: Could not open file /home/user/Downloads/For_Alex_test_34/parameters/control.par"
     ]
    }
   ],
   "source": [
    "\n",
    "control_file_name = \"/home/user/Downloads/For_Alex_test_34/parameters/ptv.par\"\n",
    "# self.control = ControlPar(4)\n",
    "control = read_control_par(control_file_name)\n",
    "\n",
    "orient_par_file_name = \"/home/user/Downloads/For_Alex_test_34/parameters/orient.par\"\n",
    "orient_par = OrientPar().from_file(orient_par_file_name)\n",
    "\n",
    "cal = Calibration().from_file(\n",
    "    \"/home/user/Downloads/For_Alex_test_34/cal/cam1.tif.ori\",\n",
    "    \"/home/user/Downloads/For_Alex_test_34/cal/cam1.tif.addpar\",\n",
    ")\n",
    "orig_cal = Calibration().from_file(\n",
    "    \"/home/user/Downloads/For_Alex_test_34/cal/cam1.tif.ori\",\n",
    "    \"/home/user/Downloads/For_Alex_test_34/cal/cam1.tif.addpar\",\n",
    ")\n",
    "\n",
    "\n",
    "# def test_external_calibration(self):\n",
    "\"\"\"External calibration using clicked points.\"\"\"\n",
    "ref_pts = np.array(\n",
    "    [\n",
    "        [-40.0, -25.0, 8.0],\n",
    "        [40.0, -15.0, 0.0],\n",
    "        [40.0, 15.0, 0.0],\n",
    "        [40.0, 0.0, 8.0],\n",
    "    ]\n",
    ")\n",
    "\n",
    "# Fake the image points by back-projection\n",
    "targets = arr_metric_to_pixel(\n",
    "    image_coordinates(ref_pts, cal, control.mm),\n",
    "    control,\n",
    ")\n",
    "\n",
    "# Jigg the fake detections to give raw_orient some challenge.\n",
    "targets[:, 1] -= 0.1\n",
    "\n",
    "external_calibration(cal, ref_pts, targets, control)\n",
    "\n",
    "np.testing.assert_array_almost_equal(\n",
    "    cal.get_angles(), orig_cal.get_angles(), decimal=3\n",
    ")\n",
    "np.testing.assert_array_almost_equal(\n",
    "    cal.get_pos(), orig_cal.get_pos(), decimal=3\n",
    ")\n",
    "\n",
    "\n",
    "_, _, _ = full_calibration(\n",
    "            cal,\n",
    "            ref_pts,\n",
    "            targets,\n",
    "            control,\n",
    "            orient_par\n",
    "            )\n",
    "\n",
    "np.testing.assert_array_almost_equal(\n",
    "    cal.get_angles(), orig_cal.get_angles(), decimal=3\n",
    ")\n",
    "np.testing.assert_array_almost_equal(\n",
    "    cal.get_pos(), orig_cal.get_pos(), decimal=3\n",
    ")"
   ]
  },
  {
   "cell_type": "code",
   "execution_count": null,
   "metadata": {},
   "outputs": [],
   "source": [
    "control_file_name = \"/home/user/Downloads/For_Alex_test_34/parameters/control.par\"\n",
    "control = read_control_par(control_file_name)\n",
    "\n",
    "orient_par_file_name = \"/home/user/Downloads/For_Alex_test_34/parameters/orient.par\"\n",
    "orient_par = OrientPar().from_file(orient_par_file_name)\n",
    "\n",
    "cal = Calibration().from_file(\n",
    "    \"/home/user/Downloads/For_Alex_test_34/cal/cam1.tif.ori\",\n",
    "    \"/home/user/Downloads/For_Alex_test_34/cal/cam1.tif.addpar\",\n",
    ")\n",
    "orig_cal = Calibration().from_file(\n",
    "    \"/home/user/Downloads/For_Alex_test_34/cal/cam1.tif.ori\",\n",
    "    \"/home/user/Downloads/For_Alex_test_34/cal/cam1.tif.addpar\")"
   ]
  },
  {
   "cell_type": "code",
   "execution_count": null,
   "metadata": {},
   "outputs": [],
   "source": [
    "ref_pts = np.array(\n",
    "    [\n",
    "        [-40.0, -25.0, 8.0],\n",
    "        [40.0, -15.0, 0.0],\n",
    "        [40.0, 15.0, 0.0],\n",
    "        [40.0, 0.0, 8.0],\n",
    "    ]\n",
    ")\n",
    "\n",
    "# Fake the image points by back-projection\n",
    "targets = arr_metric_to_pixel(\n",
    "    image_coordinates(ref_pts, cal, control.mm),\n",
    "    control,\n",
    ")\n",
    "\n",
    "cal.set_pos(np.array([0, 0, 100]))\n",
    "cal.set_angles(np.array([0, 0, 0]))\n",
    "\n",
    "# Jigg the fake detections to give raw_orient some challenge.\n",
    "targets[:, 1] -= 0.1"
   ]
  },
  {
   "cell_type": "code",
   "execution_count": null,
   "metadata": {},
   "outputs": [],
   "source": [
    "targs = [Target() for _ in targets]\n",
    "\n",
    "for ptx, pt in enumerate(targets):\n",
    "    targs[ptx].x = pt[0]\n",
    "    targs[ptx].y = pt[1]"
   ]
  },
  {
   "cell_type": "code",
   "execution_count": null,
   "metadata": {},
   "outputs": [],
   "source": [
    "# def residual(calibration_array, ref_pts, targs, control, cc):\n",
    "#     # print(calibration_array)\n",
    "#     # print(ref_pts)\n",
    "#     # print(targs)\n",
    "#     # print(control)\n",
    "#     # print(calibration_array)\n",
    "    \n",
    "#     c = Calibration()\n",
    "#     c.set_pos(calibration_array[:3])\n",
    "#     c.set_angles(calibration_array[3:])\n",
    "#     c.int_par.cc = cc\n",
    "#     c.update_rotation_matrix()\n",
    "    \n",
    "    \n",
    "#     # print(f\"{c.get_pos()=}\")\n",
    "                \n",
    "#     residual = 0\n",
    "#     for i in range(len(targs)):\n",
    "#         xc, yc = pixel_to_metric(targs[i].x, targs[i].y, control)\n",
    "#         # print(f\"{xc=}, {yc=} mm\")\n",
    "        \n",
    "#         xp, yp = img_coord(ref_pts[i], c, control.mm)\n",
    "#         # print(f\"{xp=}, {yp=} mm\")\n",
    "#         residual += ((xc - xp)**2 + (yc - yp)**2)\n",
    "        \n",
    "#         # print(f\"{residual=}\")\n",
    "        \n",
    "#     return residual"
   ]
  },
  {
   "cell_type": "code",
   "execution_count": null,
   "metadata": {},
   "outputs": [],
   "source": [
    "# x0 = np.hstack([cal.get_pos(), cal.get_angles()])\n",
    "# cc = orig_cal.int_par.cc\n",
    "\n",
    "# sol = opt.minimize(residual, x0, args=(ref_pts, targs, control, cc), method='Nelder-Mead', tol=1e-6)"
   ]
  },
  {
   "cell_type": "code",
   "execution_count": null,
   "metadata": {},
   "outputs": [],
   "source": []
  },
  {
   "cell_type": "code",
   "execution_count": null,
   "metadata": {},
   "outputs": [],
   "source": [
    "# print( residual(np.hstack([orig_cal.get_pos(), orig_cal.get_angles()]), ref_pts, targs, control, orig_cal.int_par.cc))"
   ]
  },
  {
   "cell_type": "code",
   "execution_count": null,
   "metadata": {},
   "outputs": [],
   "source": [
    "import copy\n",
    "def added_par_residual(added_par_array, ref_pts, targs, control, cal):\n",
    "    # print(calibration_array)\n",
    "    # print(ref_pts)\n",
    "    # print(targs)\n",
    "    # print(control)\n",
    "    # print(calibration_array)\n",
    "    c = copy.deepcopy(cal)\n",
    "    c.added_par = added_par_array\n",
    "    \n",
    "    # print(f\"{c.get_pos()=}\")\n",
    "                \n",
    "    residual = 0\n",
    "    for i in range(len(targs)):\n",
    "        xc, yc = pixel_to_metric(targs[i].x, targs[i].y, control)\n",
    "        # print(f\"{xc=}, {yc=} mm\")\n",
    "        \n",
    "        xp, yp = img_coord(ref_pts[i], c, control.mm)\n",
    "        # print(f\"{xp=}, {yp=} mm\")\n",
    "        residual += ((xc - xp)**2 + (yc - yp)**2)\n",
    "        \n",
    "        # print(f\"{residual=}\")\n",
    "        \n",
    "    return residual"
   ]
  },
  {
   "cell_type": "code",
   "execution_count": null,
   "metadata": {},
   "outputs": [
    {
     "name": "stdout",
     "output_type": "stream",
     "text": [
      "sol.x=array([-2.22546580e-03,  1.70567795e-06, -3.75579841e-10, -1.43985798e-03,\n",
      "       -1.07047604e-03,  1.07511509e+00,  8.82840749e-04])\n"
     ]
    }
   ],
   "source": [
    "x0 = np.array(cal.added_par.tolist())\n",
    "\n",
    "sol = opt.minimize(added_par_residual, x0, args=(ref_pts, targs, control, cal), method='Nelder-Mead', tol=1e-6)\n",
    "print(f\"{sol.x=}\")\n",
    "# print(sol.x - np.hstack([orig_cal.get_pos(), orig_cal.get_angles()]))\n",
    "\n"
   ]
  },
  {
   "cell_type": "code",
   "execution_count": null,
   "metadata": {},
   "outputs": [
    {
     "name": "stdout",
     "output_type": "stream",
     "text": [
      "[-2.22546580e-03  1.70567795e-06 -3.75579841e-10 -1.43985798e-03\n",
      " -1.07047604e-03  1.07511509e+00  8.82840749e-04]\n",
      "[-2.22546580e-03  1.70567795e-06 -3.75579841e-10 -1.43985798e-03\n",
      " -1.07047604e-03  1.07511509e+00  8.82840749e-04]\n"
     ]
    },
    {
     "name": "stdout",
     "output_type": "stream",
     "text": [
      "Coefficients (beta): [ 4.35354651e-23 -9.58410085e-24  2.44311581e-23 -3.81844354e-22\n",
      " -2.05550842e-21  5.01212242e-23 -9.91129061e-24  2.22178845e-25\n",
      "  1.12830459e-28 -3.41946585e-12 -8.56806960e-12  6.42172735e-19\n",
      "  7.35687222e-14 -4.19029078e-15 -8.62741036e-14  4.64343698e-17] \n",
      "                 Residuals: [] \n",
      "                 singular_values: None \n",
      "                 rank: 7 \n",
      "             \n",
      "[-2.22546580e-03  1.70567795e-06 -3.75579841e-10 -1.43985798e-03\n",
      " -1.07047604e-03  1.07511509e+00  8.82840749e-04]\n"
     ]
    }
   ],
   "source": [
    "# print(sol.x)\n",
    "print(cal.added_par)\n",
    "cal.set_added_par(sol.x)\n",
    "print(cal.added_par)\n",
    "full_calibration(cal, ref_pts, targets, control, orient_par)\n",
    "print(cal.added_par)"
   ]
  },
  {
   "cell_type": "code",
   "execution_count": null,
   "metadata": {},
   "outputs": [
    {
     "name": "stdout",
     "output_type": "stream",
     "text": [
      "[17.52102953 16.18864526 99.01488232]\n",
      "[-0.14194853  0.14975585 -0.0373757 ]\n",
      "[ -2.42252617   3.22403363 100.00053252]\n",
      "[-0.00143986 -0.00107048]\n",
      "[-2.22546580e-03  1.70567795e-06 -3.75579841e-10 -1.43985798e-03\n",
      " -1.07047604e-03  1.07511509e+00  8.82840749e-04]\n"
     ]
    }
   ],
   "source": [
    "print(cal.get_pos())\n",
    "print(cal.get_angles())\n",
    "print(cal.get_primary_point())\n",
    "print(cal.get_decentering())\n",
    "print(cal.added_par)"
   ]
  }
 ],
 "metadata": {
  "kernelspec": {
   "display_name": "openptvpy",
   "language": "python",
   "name": "python3"
  },
  "language_info": {
   "codemirror_mode": {
    "name": "ipython",
    "version": 3
   },
   "file_extension": ".py",
   "mimetype": "text/x-python",
   "name": "python",
   "nbconvert_exporter": "python",
   "pygments_lexer": "ipython3",
   "version": "3.10.9"
  }
 },
 "nbformat": 4,
 "nbformat_minor": 2
}
