{
 "cells": [
  {
   "cell_type": "code",
   "execution_count": 38,
   "metadata": {},
   "outputs": [],
   "source": [
    "import numpy as np\n",
    "from scipy.optimize import minimize\n",
    "from openptv_python.epi import img_coord\n",
    "from openptv_python.calibration import Calibration\n",
    "from openptv_python.parameters import MultimediaPar, ControlPar\n",
    "from openptv_python.calibration import Exterior, Glass, Interior, ap_52\n"
   ]
  },
  {
   "cell_type": "code",
   "execution_count": 39,
   "metadata": {},
   "outputs": [],
   "source": [
    "# Based on the C tests in liboptv/check_orientation.c\n",
    "\n",
    "from openptv_python.imgcoord import image_coordinates\n",
    "from openptv_python.parameters import OrientPar, read_control_par\n",
    "from openptv_python.tracking_frame_buf import TargetArray\n",
    "from openptv_python.trafo import arr_metric_to_pixel\n",
    "\n",
    "\n",
    "control_file_name = \"testing_folder/corresp/control.par\"\n",
    "# control = ControlPar(4)\n",
    "control = read_control_par(control_file_name)\n",
    "\n",
    "orient_par_file_name = \"testing_folder/corresp/orient.par\"\n",
    "orient_par = OrientPar().from_file(orient_par_file_name)\n",
    "\n",
    "cal = Calibration().from_file(\n",
    "    \"testing_folder/calibration/cam1.tif.ori\",\n",
    "    \"testing_folder/calibration/cam1.tif.addpar\",\n",
    ")\n",
    "orig_cal = Calibration().from_file(\n",
    "    \"testing_folder/calibration/cam1.tif.ori\",\n",
    "    \"testing_folder/calibration/cam1.tif.addpar\",\n",
    ")\n",
    "\n",
    "\n",
    "# def test_external_calibration(self):\n",
    "#     \"\"\"External calibration using clicked points.\"\"\"\n",
    "#     ref_pts = np.array(\n",
    "#         [\n",
    "#             [-40.0, -25.0, 8.0],\n",
    "#             [40.0, -15.0, 0.0],\n",
    "#             [40.0, 15.0, 0.0],\n",
    "#             [40.0, 0.0, 8.0],\n",
    "#         ]\n",
    "#     )\n",
    "\n",
    "#     # Fake the image points by back-projection\n",
    "#     targets = arr_metric_to_pixel(\n",
    "#         image_coordinates(ref_pts, cal, control.mm),\n",
    "#         control,\n",
    "#     )\n",
    "\n",
    "#     # Jigg the fake detections to give raw_orient some challenge.\n",
    "#     targets[:, 1] -= 0.1\n",
    "\n",
    "#     # assertTrue(external_calibration(cal, ref_pts, targets, control))\n",
    "#     np.testing.assert_array_almost_equal(\n",
    "#         cal.get_angles(), orig_cal.get_angles(), decimal=3\n",
    "#     )\n",
    "#     np.testing.assert_array_almost_equal(\n",
    "#         cal.get_pos(), orig_cal.get_pos(), decimal=3\n",
    "#     )\n",
    "\n",
    "\"\"\"Full calibration using clicked points.\"\"\"\n",
    "ref_pts = np.array(\n",
    "    [\n",
    "        a.flatten()\n",
    "        for a in np.meshgrid(np.r_[-60:-30:4j], np.r_[0:15:4j], np.r_[0:15:4j])\n",
    "    ]\n",
    ").T\n",
    "\n",
    "# Fake the image points by back-projection\n",
    "targets = arr_metric_to_pixel(\n",
    "    image_coordinates(ref_pts, cal, control.mm),\n",
    "    control,\n",
    ")\n",
    "\n",
    "# # Full calibration works with TargetArray objects, not NumPy.\n",
    "# target_array = TargetArray(len(targets))\n",
    "# for i, trgt in enumerate(target_array):\n",
    "#     trgt.set_pnr(i)\n",
    "#     trgt.set_pos(targets[i])\n",
    "\n",
    "# Perturb the calibration object, then compore result to original.\n",
    "cal.set_pos(cal.get_pos() + np.r_[15.0, -15.0, 15.0])\n",
    "# cal.set_angles(cal.get_angles() + np.r_[-0.5, 0.5, -0.5])"
   ]
  },
  {
   "cell_type": "code",
   "execution_count": 40,
   "metadata": {},
   "outputs": [],
   "source": [
    "def unflat_cal(flat_cal: np.ndarray):\n",
    "    # print(Exterior(*flat_cal[:6]))\n",
    "    # print(Interior(*flat_cal[6:9]))\n",
    "    # print(ap_52(*flat_cal[9:]))\n",
    "    \n",
    "    return Calibration(\n",
    "        Exterior(*flat_cal[:6]),\n",
    "        Interior(*flat_cal[6:9]),\n",
    "        Glass(0,0,1),\n",
    "        ap_52(*flat_cal[9:]) \n",
    "    )\n",
    "        \n",
    "def cost_function(flat_cal: np.ndarray, fix: np.ndarray, pix: np.ndarray, cpar: ControlPar):\n",
    "    # Calculate the difference between predicted and actual 2D points\n",
    "    # predicted_points = np.array([predict_2d_points(flat_cal, cpar, point) for point in fix])\n",
    "    cal = unflat_cal(flat_cal)\n",
    "    predicted_points = arr_metric_to_pixel(\n",
    "        image_coordinates(fix, cal, cpar.mm),\n",
    "        cpar,\n",
    "    )\n",
    "    # print(pix)\n",
    "    # print(predicted_points)\n",
    "    residuals = pix - predicted_points\n",
    "    # print(residuals)\n",
    "    \n",
    "    # Return the sum of squared residuals\n",
    "    return np.sum(np.sum(residuals**2, axis=1))\n",
    "\n",
    "# Define the optimization function for Scipy\n",
    "def optimize_function(flat_cal: np.ndarray, fix: np.ndarray, pix: np.ndarray, cpar: ControlPar):\n",
    "    # cal = cal_flat.reshape(cal.shape)  # Reshape the flattened calibration parameters\n",
    "    return cost_function(flat_cal, fix, pix, cpar)\n",
    "\n",
    "# Flatten the initial calibration parameters\n",
    "def flat_calibration(cal: Calibration):\n",
    "    # print(cal.ext_par)\n",
    "    # print(cal.int_par)\n",
    "    # print(cal.added_par)\n",
    "    return np.array([cal.ext_par.x0, cal.ext_par.y0, cal.ext_par.z0, \n",
    "            cal.ext_par.omega, cal.ext_par.phi, cal.ext_par.kappa,\n",
    "            cal.int_par.xh, cal.int_par.yh, cal.int_par.cc, \n",
    "            cal.added_par.k1, cal.added_par.k2, cal.added_par.k3, \n",
    "            cal.added_par.p1, cal.added_par.p2,\n",
    "            cal.added_par.scx, cal.added_par.she])\n",
    "    \n",
    "initial_cal_flat = flat_calibration(cal)"
   ]
  },
  {
   "cell_type": "code",
   "execution_count": 41,
   "metadata": {},
   "outputs": [
    {
     "data": {
      "text/plain": [
       "215469108.02916348"
      ]
     },
     "execution_count": 41,
     "metadata": {},
     "output_type": "execute_result"
    }
   ],
   "source": [
    "cost_function(initial_cal_flat, ref_pts, targets, control)"
   ]
  },
  {
   "cell_type": "code",
   "execution_count": 42,
   "metadata": {},
   "outputs": [],
   "source": [
    "# minimize(optimize_function, initial_cal_flat, args=(ref_pts, targets, control), method='Nelder-Mead', tol=1e-3, options={'disp': True})\n"
   ]
  },
  {
   "cell_type": "code",
   "execution_count": 48,
   "metadata": {},
   "outputs": [
    {
     "name": "stdout",
     "output_type": "stream",
     "text": [
      "RUNNING THE L-BFGS-B CODE\n",
      "\n",
      "           * * *\n",
      "\n",
      "Machine precision = 2.220D-16\n",
      " N =           16     M =           10\n",
      "\n",
      "At X0         0 variables are exactly at the bounds\n",
      "\n",
      "At iterate    0    f=  2.15469D+08    |proj g|=  5.07887D+20\n"
     ]
    },
    {
     "name": "stderr",
     "output_type": "stream",
     "text": [
      " This problem is unconstrained.\n"
     ]
    },
    {
     "name": "stdout",
     "output_type": "stream",
     "text": [
      "\n",
      "At iterate    1    f=  4.07248D+07    |proj g|=  5.02021D+20\n"
     ]
    },
    {
     "name": "stderr",
     "output_type": "stream",
     "text": [
      "\n",
      " Bad direction in the line search;\n",
      "   refresh the lbfgs memory and restart the iteration.\n"
     ]
    },
    {
     "name": "stdout",
     "output_type": "stream",
     "text": [
      "\n",
      "At iterate    2    f=  4.07248D+07    |proj g|=  5.02021D+20\n",
      "\n",
      "           * * *\n",
      "\n",
      "Tit   = total number of iterations\n",
      "Tnf   = total number of function evaluations\n",
      "Tnint = total number of segments explored during Cauchy searches\n",
      "Skip  = number of BFGS updates skipped\n",
      "Nact  = number of active bounds at final generalized Cauchy point\n",
      "Projg = norm of the final projected gradient\n",
      "F     = final function value\n",
      "\n",
      "           * * *\n",
      "\n",
      "   N    Tit     Tnf  Tnint  Skip  Nact     Projg        F\n",
      "   16      2     42      2     0     0   5.020D+20   4.072D+07\n",
      "  F =   40724783.437369630     \n",
      "\n",
      "CONVERGENCE: REL_REDUCTION_OF_F_<=_FACTR*EPSMCH             \n"
     ]
    }
   ],
   "source": [
    "\n",
    "# Use Scipy's minimize function\n",
    "result = minimize(optimize_function, initial_cal_flat, args=(ref_pts, targets, control), method='L-BFGS-B',tol=1e-4, options={'disp': True})\n",
    "\n",
    "# Reshape the result to obtain the optimized calibration parameters\n",
    "optimized_cal_flat = result.x\n",
    "# optimized_cal = optimized_cal_flat.reshape(cal.shape)\n"
   ]
  },
  {
   "cell_type": "code",
   "execution_count": 44,
   "metadata": {},
   "outputs": [
    {
     "name": "stdout",
     "output_type": "stream",
     "text": [
      "Calibration(ext_par=Exterior: x0=120.2632, y0=87.7458, z0=418.8822\n",
      "omega=-0.2383291, phi=0.244281, kappa=0.0552577\n",
      ", int_par=Interior(xh=-2.4742, yh=3.2567, cc=100.0), glass_par=Glass(vec_x=0.0001, vec_y=1e-05, vec_z=150.0), added_par=ap_52(k1=0.0, k2=0.0, k3=0.0, p1=0.0, p2=0.0, scx=1.0, she=0.0), mmlut=mm_lut(origin=array([0., 0., 0.]), nr=0, nz=0, rw=0, data=None))\n"
     ]
    }
   ],
   "source": [
    "print(cal)"
   ]
  },
  {
   "cell_type": "code",
   "execution_count": 45,
   "metadata": {},
   "outputs": [
    {
     "name": "stdout",
     "output_type": "stream",
     "text": [
      "[ 0.00000000e+00  0.00000000e+00  0.00000000e+00  0.00000000e+00\n",
      "  0.00000000e+00  0.00000000e+00  0.00000000e+00  0.00000000e+00\n",
      "  0.00000000e+00  1.47948675e-19  3.27157385e-16  5.84302988e-11\n",
      " -8.72898975e-21 -4.20889534e-21  0.00000000e+00 -2.10925059e-23]\n"
     ]
    }
   ],
   "source": [
    "print(initial_cal_flat - optimized_cal_flat)"
   ]
  },
  {
   "cell_type": "code",
   "execution_count": 46,
   "metadata": {},
   "outputs": [
    {
     "name": "stdout",
     "output_type": "stream",
     "text": [
      "Calibration(ext_par=Exterior: x0=120.2632, y0=87.7458, z0=418.8822\n",
      "omega=-0.2383291, phi=0.244281, kappa=0.0552577\n",
      ", int_par=Interior(xh=-2.4742, yh=3.2567, cc=100.0), glass_par=Glass(vec_x=0, vec_y=0, vec_z=1), added_par=ap_52(k1=-1.4794867492626326e-19, k2=-3.271573848305543e-16, k3=-5.843029880743216e-11, p1=8.72898974564643e-21, p2=4.208895339140038e-21, scx=1.0, she=2.10925059388362e-23), mmlut=mm_lut(origin=array([0., 0., 0.]), nr=0, nz=0, rw=0, data=None))\n"
     ]
    }
   ],
   "source": [
    "print(unflat_cal(optimized_cal_flat))"
   ]
  },
  {
   "cell_type": "code",
   "execution_count": 47,
   "metadata": {},
   "outputs": [
    {
     "data": {
      "text/plain": [
       "40724783.43736963"
      ]
     },
     "execution_count": 47,
     "metadata": {},
     "output_type": "execute_result"
    }
   ],
   "source": [
    "cost_function(optimized_cal_flat, ref_pts, targets, control)"
   ]
  }
 ],
 "metadata": {
  "kernelspec": {
   "display_name": "openptvpy",
   "language": "python",
   "name": "python3"
  },
  "language_info": {
   "codemirror_mode": {
    "name": "ipython",
    "version": 3
   },
   "file_extension": ".py",
   "mimetype": "text/x-python",
   "name": "python",
   "nbconvert_exporter": "python",
   "pygments_lexer": "ipython3",
   "version": "3.10.9"
  }
 },
 "nbformat": 4,
 "nbformat_minor": 2
}
