{
 "cells": [
  {
   "cell_type": "code",
   "execution_count": 3,
   "metadata": {},
   "outputs": [],
   "source": [
    "import numpy as np\n",
    "from scipy.optimize import minimize\n",
    "from openptv_python.epi import img_coord\n",
    "from openptv_python.calibration import Calibration\n",
    "from openptv_python.parameters import MultimediaPar, ControlPar"
   ]
  },
  {
   "cell_type": "code",
   "execution_count": 4,
   "metadata": {},
   "outputs": [
    {
     "ename": "NameError",
     "evalue": "name 'cal' is not defined",
     "output_type": "error",
     "traceback": [
      "\u001b[0;31m---------------------------------------------------------------------------\u001b[0m",
      "\u001b[0;31mNameError\u001b[0m                                 Traceback (most recent call last)",
      "Cell \u001b[0;32mIn[4], line 31\u001b[0m\n\u001b[1;32m     28\u001b[0m     \u001b[38;5;28;01mreturn\u001b[39;00m cost_function(cal, fix, pix)\n\u001b[1;32m     30\u001b[0m \u001b[38;5;66;03m# Flatten the initial calibration parameters\u001b[39;00m\n\u001b[0;32m---> 31\u001b[0m initial_cal_flat \u001b[38;5;241m=\u001b[39m \u001b[43mcal\u001b[49m\u001b[38;5;241m.\u001b[39mflatten()\n\u001b[1;32m     33\u001b[0m \u001b[38;5;66;03m# Use Scipy's minimize function\u001b[39;00m\n\u001b[1;32m     34\u001b[0m result \u001b[38;5;241m=\u001b[39m minimize(optimize_function, initial_cal_flat, args\u001b[38;5;241m=\u001b[39m(fix, pix), method\u001b[38;5;241m=\u001b[39m\u001b[38;5;124m'\u001b[39m\u001b[38;5;124mL-BFGS-B\u001b[39m\u001b[38;5;124m'\u001b[39m)\n",
      "\u001b[0;31mNameError\u001b[0m: name 'cal' is not defined"
     ]
    }
   ],
   "source": [
    "\n",
    "\n",
    "def predict_2d_points(cal: Calibration, mm: MultimediaPar, fix: np.ndarray):\n",
    "    # Placeholder function to predict 2D points based on calibration parameters and 3D points\n",
    "    # You should replace this function with the actual implementation based on your calibration model\n",
    "    xp, yp = img_coord(fix, cal, mm)\n",
    "    return np.r_[xp, yp]\n",
    "\n",
    "def cost_function(cal: Calibration, cpar: ControlPar, fix: np.ndarray, pix: np.ndarray):\n",
    "    # Calculate the difference between predicted and actual 2D points\n",
    "    predicted_points = np.array([predict_2d_points(cal, cpar.mm, point) for point in fix])\n",
    "    residuals = pix - predicted_points.flatten()\n",
    "    \n",
    "    # Return the sum of squared residuals\n",
    "    return np.sum(residuals**2)\n",
    "\n",
    "# Example usage\n",
    "# Assuming Calibration class is defined with appropriate parameters\n",
    "# cal = Calibration()\n",
    "# fix = np.array([[x1, y1, z1], [x2, y2, z2], ...])  # 3D points\n",
    "# pix = np.array([[u1, v1], [u2, v2], ...])  # 2D points\n",
    "\n",
    "# Define the optimization function for Scipy\n",
    "def optimize_function(cal: Calibration, fix: np.ndarray, pix: np.ndarray, cpar: ControlPar):\n",
    "    # cal = cal_flat.reshape(cal.shape)  # Reshape the flattened calibration parameters\n",
    "    return cost_function(cal, cpar, fix, pix)\n",
    "\n",
    "# Flatten the initial calibration parameters\n",
    "initial_cal_flat = cal.flatten()\n",
    "\n",
    "# Use Scipy's minimize function\n",
    "result = minimize(optimize_function, initial_cal_flat, args=(fix, pix), method='L-BFGS-B')\n",
    "\n",
    "# Reshape the result to obtain the optimized calibration parameters\n",
    "optimized_cal_flat = result.x\n",
    "optimized_cal = optimized_cal_flat.reshape(cal.shape)\n"
   ]
  }
 ],
 "metadata": {
  "kernelspec": {
   "display_name": "openptvpy",
   "language": "python",
   "name": "python3"
  },
  "language_info": {
   "codemirror_mode": {
    "name": "ipython",
    "version": 3
   },
   "file_extension": ".py",
   "mimetype": "text/x-python",
   "name": "python",
   "nbconvert_exporter": "python",
   "pygments_lexer": "ipython3",
   "version": "3.10.9"
  }
 },
 "nbformat": 4,
 "nbformat_minor": 2
}
