{
 "cells": [
  {
   "cell_type": "code",
   "execution_count": 1,
   "metadata": {},
   "outputs": [],
   "source": [
    "from typing import List\n",
    "from openptv_python.tracking_frame_buf import Frame\n",
    "from openptv_python.parameters import VolumePar, ControlPar\n",
    "from openptv_python.calibration import Calibration\n",
    "from openptv_python.correspondences import Correspond\n",
    "from openptv_python.epi import Coord2d, epi_mm\n",
    "from openptv_python.find_candidate import find_start_point, find_start_point_numpy\n",
    "# from openptv_python.tracking_frame_buf import Target\n",
    "MAXCAND = 1000\n",
    "import pytest\n",
    "from openptv_python.find_candidate import find_candidate"
   ]
  },
  {
   "cell_type": "code",
   "execution_count": 2,
   "metadata": {},
   "outputs": [],
   "source": [
    "vpar = VolumePar()\n",
    "vpar.set_eps0(0.1)"
   ]
  },
  {
   "cell_type": "code",
   "execution_count": 4,
   "metadata": {},
   "outputs": [],
   "source": [
    "import ipytest\n",
    "ipytest.autoconfig()"
   ]
  },
  {
   "cell_type": "code",
   "execution_count": 11,
   "metadata": {},
   "outputs": [
    {
     "name": "stdout",
     "output_type": "stream",
     "text": [
      "\n",
      "============================================== ERRORS ==============================================\n",
      "\u001b[31m\u001b[1m______________________ ERROR collecting t_5c986eb9e17f4053a84be4622b6a8c41.py ______________________\u001b[0m\n",
      "t_5c986eb9e17f4053a84be4622b6a8c41.py::test_find_start_point: \u001b[95min\u001b[39;49;00m \u001b[33m\"\u001b[39;49;00m\u001b[33mparametrize\u001b[39;49;00m\u001b[33m\"\u001b[39;49;00m the number of names (\u001b[94m2\u001b[39;49;00m):\u001b[90m\u001b[39;49;00m\n",
      "  [\u001b[33m'\u001b[39;49;00m\u001b[33mtest_input\u001b[39;49;00m\u001b[33m'\u001b[39;49;00m, \u001b[33m'\u001b[39;49;00m\u001b[33mexpected\u001b[39;49;00m\u001b[33m'\u001b[39;49;00m]\u001b[90m\u001b[39;49;00m\n",
      "must be equal to the number of values (\u001b[94m5\u001b[39;49;00m):\u001b[90m\u001b[39;49;00m\n",
      "  ([Coord2d(pnr=\u001b[94m1\u001b[39;49;00m, x=\u001b[94m2\u001b[39;49;00m, y=\u001b[94m3\u001b[39;49;00m), Coord2d(pnr=\u001b[94m4\u001b[39;49;00m, x=\u001b[94m5\u001b[39;49;00m, y=\u001b[94m6\u001b[39;49;00m), Coord2d(pnr=\u001b[94m7\u001b[39;49;00m, x=\u001b[94m8\u001b[39;49;00m, y=\u001b[94m9\u001b[39;49;00m)], \u001b[94m3\u001b[39;49;00m, \u001b[94m6.0\u001b[39;49;00m, VolumePar(X_lay=[], z_min_lay=[], z_max_lay=[], cn=\u001b[94m0.0\u001b[39;49;00m, cnx=\u001b[94m0.0\u001b[39;49;00m, cny=\u001b[94m0.0\u001b[39;49;00m, csumg=\u001b[94m0.0\u001b[39;49;00m, eps0=\u001b[94m0.1\u001b[39;49;00m, corrmin=\u001b[94m0.0\u001b[39;49;00m), \u001b[94m1\u001b[39;49;00m)\u001b[90m\u001b[39;49;00m\n",
      "\u001b[36m\u001b[1m===================================== short test summary info ======================================\u001b[0m\n",
      "\u001b[31mERROR\u001b[0m t_5c986eb9e17f4053a84be4622b6a8c41.py\n",
      "!!!!!!!!!!!!!!!!!!!!!!!!!!!!!! Interrupted: 1 error during collection !!!!!!!!!!!!!!!!!!!!!!!!!!!!!!\n",
      "\u001b[31m\u001b[31m\u001b[1m1 error\u001b[0m\u001b[31m in 0.36s\u001b[0m\u001b[0m\n"
     ]
    }
   ],
   "source": [
    "%%ipytest\n",
    "\n",
    "# Pytest unit tests\n",
    "@pytest.mark.parametrize(\"test_input,expected\", [\n",
    "    # Test cases for the original function\n",
    "    ([Coord2d(1, 2, 3), Coord2d(4, 5, 6), Coord2d(7, 8, 9)], 3, 6.0, vpar, 1),\n",
    "    ([Coord2d(1, 2, 3), Coord2d(4, 5, 6), Coord2d(7, 8, 9)], 5, 2.0, vpar, 0),\n",
    "    # Test cases for the optimized function\n",
    "    ([Coord2d(1, 2, 3), Coord2d(4, 5, 6), Coord2d(7, 8, 9)], 3, vpar, 1),\n",
    "    ([Coord2d(1, 2, 3), Coord2d(4, 5, 6), Coord2d(7, 8, 9)], 8, vpar, 3),\n",
    "])\n",
    "def test_find_start_point(test_input, expected):\n",
    "    result_original = find_start_point(test_input, *expected[1:])\n",
    "    result_optimized = find_start_point_numpy(test_input, *expected[1:])\n",
    "    assert result_original == expected, f\"Original: {result_original}, Expected: {expected}\"\n",
    "    assert result_optimized == expected, f\"Optimized: {result_optimized}, Expected: {expected}\""
   ]
  },
  {
   "cell_type": "code",
   "execution_count": 20,
   "metadata": {},
   "outputs": [
    {
     "name": "stdout",
     "output_type": "stream",
     "text": [
      "Coord2d(pnr=1, x=2, y=3)\n"
     ]
    }
   ],
   "source": [
    "tmp = Coord2d(1, 2, 3)\n",
    "print(tmp)"
   ]
  },
  {
   "cell_type": "code",
   "execution_count": 21,
   "metadata": {},
   "outputs": [
    {
     "name": "stdout",
     "output_type": "stream",
     "text": [
      "0\n"
     ]
    }
   ],
   "source": [
    "start_point  = find_start_point([Coord2d(1, 2, 3), Coord2d(4, 5, 6), Coord2d(7, 8, 9)], 3, 6.0, vpar)\n",
    "print(f\"{start_point}\")"
   ]
  },
  {
   "cell_type": "code",
   "execution_count": 22,
   "metadata": {},
   "outputs": [],
   "source": [
    "# find_start_point_numpy([Coord2d(1, 2, 3), Coord2d(4, 5, 6), Coord2d(7, 8, 9)], 6.0, vpar)"
   ]
  },
  {
   "cell_type": "code",
   "execution_count": 23,
   "metadata": {},
   "outputs": [],
   "source": [
    "\n",
    "def match_pairs(corr_list: List[List[List[Correspond]]], corrected: List[List[Coord2d]], frm: Frame, vpar: VolumePar, cpar: ControlPar, calib: List[Calibration]):\n",
    "    \"\"\"\n",
    "    Match pairs of cameras.\n",
    "\n",
    "    This function matches pairs of cameras by finding corresponding points in each camera. The correspondences are stored in the `corr_lists` argument.\n",
    "\n",
    "    The following steps are performed:\n",
    "    1. For each pair of cameras, the epipolar lines for the two cameras are calculated.\n",
    "    2. For each target in the first camera, the corresponding points in the second camera are found by searching along the epipolar line.\n",
    "    3. The correspondences are stored in the `corr_lists` argument.\n",
    "\n",
    "    The `corr_lists` argument is a list of lists of lists of `Correspond` objects. Each inner list corresponds to a pair of cameras, and each inner-most list corresponds to a correspondence between two points in the two cameras. The `Correspond` objects have the following attributes:\n",
    "    * `p1`: The index of the target in the first camera.\n",
    "    * `p2`: The index of the target in the second camera.\n",
    "    * `corr`: The correspondence score.\n",
    "    * `dist`: The distance between the two points.\n",
    "\n",
    "    The following are the arguments for the function:\n",
    "    * `corr_lists`: A list of lists of lists of `Correspond` objects. Each inner list corresponds to a pair of cameras, and each inner-most list corresponds to a correspondence between two points in the two cameras.\n",
    "    * `corrected`: A list of lists of `Coord2d` objects. Each inner list corresponds to a camera, and each inner-most object corresponds to the corrected coordinates of a target in that camera.\n",
    "    * `frm`: A `frame` object.\n",
    "    * `vpar`: A `VolumePar` object.\n",
    "    * `cpar`: A `ControlPar` object.\n",
    "    * `calib`: A list of `Calibration` objects.\n",
    "\n",
    "    The function returns None.\n",
    "    \"\"\"\n",
    "    for i1 in range(cpar.num_cams - 1):\n",
    "        for i2 in range(i1 + 1, cpar.num_cams):\n",
    "            for i in range(frm.num_targets[i1]):\n",
    "                xa12, ya12, xb12, yb12 = epi_mm(corrected[i1][i].x, corrected[i1][i].y, calib[i1], calib[i2], cpar.mm, vpar)\n",
    "                # origin point in the corr_list\n",
    "                corr_list[i1][i2][i].p1 = i\n",
    "                pt1 = corrected[i1][i].pnr\n",
    "                # search for a conjugate point in corrected[i2]\n",
    "                cand = find_candidate(corrected[i2], frm.targets[i2], frm.num_targets[i2], xa12, ya12, xb12, yb12, frm.targets[i1][pt1].n, frm.targets[i1][pt1].nx, frm.targets[i1][pt1].ny, frm.targets[i1][pt1].sumg, vpar, cpar, calib[i2])\n",
    "                # write all corresponding candidates to the preliminary corr_list of correspondences\n",
    "                count = len(cand)\n",
    "                if count > MAXCAND:\n",
    "                    count = MAXCAND\n",
    "                for j in range(count):\n",
    "                    corr_list[i1][i2][i].p2[j] = cand[j].pnr\n",
    "                    corr_list[i1][i2][i].corr[j] = cand[j].corr\n",
    "                    corr_list[i1][i2][i].dist[j] = cand[j].tol\n",
    "                    corr_list[i1][i2][i].n = count\n"
   ]
  },
  {
   "cell_type": "code",
   "execution_count": 24,
   "metadata": {},
   "outputs": [],
   "source": [
    "\n",
    "# def test_match_pairs():\n",
    "# Test case 1\n",
    "corr_list = [[[Correspond() for _ in range(10)] for _ in range(10)] for _ in range(10)]\n",
    "corrected = [[Coord2d() for _ in range(10)] for _ in range(10)]\n",
    "frm = Frame(num_cams=2)\n",
    "vpar = VolumePar()\n",
    "cpar = ControlPar()\n",
    "calib = [Calibration() for _ in range(10)]\n",
    "match_pairs(corr_list, corrected, frm, vpar, cpar, calib)\n"
   ]
  },
  {
   "cell_type": "code",
   "execution_count": 25,
   "metadata": {},
   "outputs": [
    {
     "data": {
      "text/plain": [
       "[0,\n",
       " 0,\n",
       " 0,\n",
       " 0,\n",
       " 0,\n",
       " 0,\n",
       " 0,\n",
       " 0,\n",
       " 0,\n",
       " 0,\n",
       " 0,\n",
       " 0,\n",
       " 0,\n",
       " 0,\n",
       " 0,\n",
       " 0,\n",
       " 0,\n",
       " 0,\n",
       " 0,\n",
       " 0,\n",
       " 0,\n",
       " 0,\n",
       " 0,\n",
       " 0,\n",
       " 0,\n",
       " 0,\n",
       " 0,\n",
       " 0,\n",
       " 0,\n",
       " 0,\n",
       " 0,\n",
       " 0,\n",
       " 0,\n",
       " 0,\n",
       " 0,\n",
       " 0,\n",
       " 0,\n",
       " 0,\n",
       " 0,\n",
       " 0,\n",
       " 0,\n",
       " 0,\n",
       " 0,\n",
       " 0,\n",
       " 0,\n",
       " 0,\n",
       " 0,\n",
       " 0,\n",
       " 0,\n",
       " 0,\n",
       " 0,\n",
       " 0,\n",
       " 0,\n",
       " 0,\n",
       " 0,\n",
       " 0,\n",
       " 0,\n",
       " 0,\n",
       " 0,\n",
       " 0,\n",
       " 0,\n",
       " 0,\n",
       " 0,\n",
       " 0,\n",
       " 0,\n",
       " 0,\n",
       " 0,\n",
       " 0,\n",
       " 0,\n",
       " 0,\n",
       " 0,\n",
       " 0,\n",
       " 0,\n",
       " 0,\n",
       " 0,\n",
       " 0,\n",
       " 0,\n",
       " 0,\n",
       " 0,\n",
       " 0,\n",
       " 0,\n",
       " 0,\n",
       " 0,\n",
       " 0,\n",
       " 0,\n",
       " 0,\n",
       " 0,\n",
       " 0,\n",
       " 0,\n",
       " 0,\n",
       " 0,\n",
       " 0,\n",
       " 0,\n",
       " 0,\n",
       " 0,\n",
       " 0,\n",
       " 0,\n",
       " 0,\n",
       " 0,\n",
       " 0]"
      ]
     },
     "execution_count": 25,
     "metadata": {},
     "output_type": "execute_result"
    }
   ],
   "source": [
    "corr_list[0][0][0].p2"
   ]
  },
  {
   "cell_type": "code",
   "execution_count": 26,
   "metadata": {},
   "outputs": [
    {
     "name": "stderr",
     "output_type": "stream",
     "text": [
      "Traceback (most recent call last):\n",
      "  File \"_pydevd_bundle/pydevd_cython.pyx\", line 577, in _pydevd_bundle.pydevd_cython.PyDBFrame._handle_exception\n",
      "  File \"_pydevd_bundle/pydevd_cython.pyx\", line 312, in _pydevd_bundle.pydevd_cython.PyDBFrame.do_wait_suspend\n",
      "  File \"/home/user/mambaforge/envs/openptvpy/lib/python3.10/site-packages/debugpy/_vendored/pydevd/pydevd.py\", line 2070, in do_wait_suspend\n",
      "    keep_suspended = self._do_wait_suspend(thread, frame, event, arg, suspend_type, from_this_thread, frames_tracker)\n",
      "  File \"/home/user/mambaforge/envs/openptvpy/lib/python3.10/site-packages/debugpy/_vendored/pydevd/pydevd.py\", line 2106, in _do_wait_suspend\n",
      "    time.sleep(0.01)\n",
      "KeyboardInterrupt\n"
     ]
    },
    {
     "ename": "AssertionError",
     "evalue": "assert 0 == 1",
     "output_type": "error",
     "traceback": [
      "\u001b[0;31m---------------------------------------------------------------------------\u001b[0m",
      "\u001b[0;31mAssertionError\u001b[0m                            Traceback (most recent call last)",
      "\u001b[1;32m/home/user/Documents/repos/openptvpy/openptv-python/tests/test_match_pairs.ipynb Cell 13\u001b[0m line \u001b[0;36m3\n\u001b[1;32m      <a href='vscode-notebook-cell:/home/user/Documents/repos/openptvpy/openptv-python/tests/test_match_pairs.ipynb#W4sZmlsZQ%3D%3D?line=1'>2</a>\u001b[0m \u001b[39massert\u001b[39;00m corr_list[\u001b[39m0\u001b[39m][\u001b[39m1\u001b[39m][\u001b[39m0\u001b[39m]\u001b[39m.\u001b[39mp1 \u001b[39m==\u001b[39m \u001b[39m0\u001b[39m\n\u001b[0;32m----> <a href='vscode-notebook-cell:/home/user/Documents/repos/openptvpy/openptv-python/tests/test_match_pairs.ipynb#W4sZmlsZQ%3D%3D?line=2'>3</a>\u001b[0m \u001b[39massert\u001b[39;00m corr_list[\u001b[39m0\u001b[39m][\u001b[39m1\u001b[39m][\u001b[39m0\u001b[39m]\u001b[39m.\u001b[39mp2[\u001b[39m0\u001b[39m] \u001b[39m==\u001b[39m \u001b[39m1\u001b[39m\n\u001b[1;32m      <a href='vscode-notebook-cell:/home/user/Documents/repos/openptvpy/openptv-python/tests/test_match_pairs.ipynb#W4sZmlsZQ%3D%3D?line=3'>4</a>\u001b[0m \u001b[39massert\u001b[39;00m corr_list[\u001b[39m0\u001b[39m][\u001b[39m1\u001b[39m][\u001b[39m0\u001b[39m]\u001b[39m.\u001b[39mcorr[\u001b[39m0\u001b[39m] \u001b[39m==\u001b[39m \u001b[39m0.5\u001b[39m\n\u001b[1;32m      <a href='vscode-notebook-cell:/home/user/Documents/repos/openptvpy/openptv-python/tests/test_match_pairs.ipynb#W4sZmlsZQ%3D%3D?line=4'>5</a>\u001b[0m \u001b[39massert\u001b[39;00m corr_list[\u001b[39m0\u001b[39m][\u001b[39m1\u001b[39m][\u001b[39m0\u001b[39m]\u001b[39m.\u001b[39mdist[\u001b[39m0\u001b[39m] \u001b[39m==\u001b[39m \u001b[39m1.0\u001b[39m\n",
      "\u001b[0;31mAssertionError\u001b[0m: assert 0 == 1"
     ]
    }
   ],
   "source": [
    "\n",
    "assert corr_list[0][1][0].p1 == 0\n",
    "assert corr_list[0][1][0].p2[0] == 1\n",
    "assert corr_list[0][1][0].corr[0] == 0.5\n",
    "assert corr_list[0][1][0].dist[0] == 1.0\n",
    "assert corr_list[0][1][0].n == 1\n"
   ]
  },
  {
   "cell_type": "code",
   "execution_count": null,
   "metadata": {},
   "outputs": [],
   "source": [
    "\n",
    "# Test case 2\n",
    "corr_list = [[[Correspond() for _ in range(5)] for _ in range(5)] for _ in range(5)]\n",
    "corrected = [[Coord2d() for _ in range(5)] for _ in range(5)]\n",
    "frm = Frame(4)\n",
    "vpar = VolumePar()\n",
    "cpar = ControlPar()\n",
    "calib = [Calibration() for _ in range(5)]\n",
    "match_pairs(corr_list, corrected, frm, vpar, cpar, calib)\n",
    "assert corr_list[2][3][1].p1 == 1\n",
    "assert corr_list[2][3][1].p2[0] == 2\n",
    "assert corr_list[2][3][1].corr[0] == 0.8\n",
    "assert corr_list[2][3][1].dist[0] == 1.2\n",
    "assert corr_list[2][3][1].n == 1\n"
   ]
  }
 ],
 "metadata": {
  "kernelspec": {
   "display_name": "openptvpy",
   "language": "python",
   "name": "python3"
  },
  "language_info": {
   "codemirror_mode": {
    "name": "ipython",
    "version": 3
   },
   "file_extension": ".py",
   "mimetype": "text/x-python",
   "name": "python",
   "nbconvert_exporter": "python",
   "pygments_lexer": "ipython3",
   "version": "3.10.9"
  },
  "orig_nbformat": 4
 },
 "nbformat": 4,
 "nbformat_minor": 2
}
