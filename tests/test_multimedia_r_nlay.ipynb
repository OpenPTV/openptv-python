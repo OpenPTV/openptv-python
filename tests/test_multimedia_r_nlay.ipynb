{
 "cells": [
  {
   "cell_type": "code",
   "execution_count": 1,
   "metadata": {},
   "outputs": [],
   "source": [
    "from openptv_python.calibration import Calibration, read_calibration\n",
    "from openptv_python.parameters import MultimediaPar\n",
    "import numpy as np\n",
    "import matplotlib.pyplot as plt"
   ]
  },
  {
   "cell_type": "code",
   "execution_count": 2,
   "metadata": {},
   "outputs": [],
   "source": [
    "import math\n",
    "\n",
    "def multimed_r_nlay(cal, mm, pos):\n",
    "    it = 0\n",
    "    n_iter = 40\n",
    "    mmf = 1.0\n",
    "    \n",
    "    # Extracting values from the pos vector\n",
    "    X, Y, Z = pos\n",
    "    \n",
    "    # Calculate r and initialize rq\n",
    "    r = math.sqrt((X - cal.ext_par.x0)**2 + (Y - cal.ext_par.y0)**2)\n",
    "    rq = r\n",
    "    \n",
    "    # Calculate zout\n",
    "    zout = Z + sum(mm.d[i] for i in range(1, mm.nlay))\n",
    "    \n",
    "    while True:\n",
    "        # Calculate beta1\n",
    "        beta1 = math.atan(rq / (cal.ext_par.z0 - Z))\n",
    "        \n",
    "        # Calculate beta2 for each layer\n",
    "        beta2 = [math.asin(math.sin(beta1) * mm.n1 / mm.n2[i]) for i in range(mm.nlay)]\n",
    "        \n",
    "        # Calculate beta3\n",
    "        beta3 = math.asin(math.sin(beta1) * mm.n1 / mm.n3)\n",
    "        \n",
    "        # Calculate rbeta\n",
    "        rbeta = (cal.ext_par.z0 - mm.d[0]) * math.tan(beta1) - zout * math.tan(beta3)\n",
    "        rbeta += sum(mm.d[i] * math.tan(beta2[i]) for i in range(mm.nlay))\n",
    "        \n",
    "        # Calculate rdiff and update rq\n",
    "        rdiff = r - rbeta\n",
    "        rq += rdiff\n",
    "        \n",
    "        # Increment iteration counter\n",
    "        it += 1\n",
    "        \n",
    "        # Check convergence criteria\n",
    "        if not (-0.001 <= rdiff <= 0.001) or it >= n_iter:\n",
    "            break\n",
    "    \n",
    "    if it >= n_iter:\n",
    "        print(f\"multimed_r_nlay stopped after {n_iter} iterations\")\n",
    "        return 1.0\n",
    "    \n",
    "    return rq / r if r != 0 else 1.0\n"
   ]
  },
  {
   "cell_type": "code",
   "execution_count": 3,
   "metadata": {},
   "outputs": [],
   "source": [
    "pos = np.zeros(3, dtype=np.float64)\n",
    "mm = MultimediaPar(n1=1.0, n2=[1.46], n3=1.33, d=[10.0])\n",
    "cal = Calibration()\n",
    "cal.ext_par.z0 = 100.0"
   ]
  },
  {
   "cell_type": "code",
   "execution_count": 4,
   "metadata": {},
   "outputs": [
    {
     "name": "stdout",
     "output_type": "stream",
     "text": [
      "multimed_r_nlay stopped after 40 iterations\n",
      "1.0\n"
     ]
    }
   ],
   "source": [
    "rdiff = multimed_r_nlay(cal, mm, pos)\n",
    "print(rdiff)"
   ]
  },
  {
   "cell_type": "code",
   "execution_count": 5,
   "metadata": {},
   "outputs": [
    {
     "data": {
      "text/plain": [
       "[<matplotlib.lines.Line2D at 0x7f1c29268610>]"
      ]
     },
     "execution_count": 5,
     "metadata": {},
     "output_type": "execute_result"
    },
    {
     "data": {
      "image/png": "[encoded data removed]",
      "text/plain": [
       "<Figure size 640x480 with 1 Axes>"
      ]
     },
     "metadata": {},
     "output_type": "display_data"
    }
   ],
   "source": [
    "plt.figure()\n",
    "plt.plot(pos[0], pos[2], 'o')\n",
    "plt.plot(cal.ext_par.x0, cal.ext_par.z0, 'x')"
   ]
  },
  {
   "cell_type": "code",
   "execution_count": null,
   "metadata": {},
   "outputs": [],
   "source": []
  }
 ],
 "metadata": {
  "kernelspec": {
   "display_name": "openptvpy",
   "language": "python",
   "name": "python3"
  },
  "language_info": {
   "codemirror_mode": {
    "name": "ipython",
    "version": 3
   },
   "file_extension": ".py",
   "mimetype": "text/x-python",
   "name": "python",
   "nbconvert_exporter": "python",
   "pygments_lexer": "ipython3",
   "version": "3.10.9"
  }
 },
 "nbformat": 4,
 "nbformat_minor": 2
}
