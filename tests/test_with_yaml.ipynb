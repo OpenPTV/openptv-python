{
 "cells": [
  {
   "cell_type": "code",
   "execution_count": 1,
   "metadata": {},
   "outputs": [
    {
     "name": "stdout",
     "output_type": "stream",
     "text": [
      "Read parameters:\n",
      "{'param1': 4, 'param2': ['dumbbell/cam1_Scene77_4085', 'cal/cam1.tif', 'dumbbell/cam2_Scene77_4085', 'cal/cam2.tif', 'dumbbell/cam3_Scene77_4085', 'cal/cam3.tif', 'dumbbell/cam4_Scene77_4085', 'cal/cam4.tif'], 'param3': [1, 0, 1, 1280, 1024, 0.017, 0.017, 0, 1, 1.49, 1.33, 5]}\n"
     ]
    }
   ],
   "source": [
    "import yaml\n",
    "\n",
    "\n",
    "def read_parameters_from_yaml(file_path):\n",
    "    with open(file_path, \"r\") as file:\n",
    "        parameters = yaml.safe_load(file)\n",
    "    return parameters\n",
    "\n",
    "\n",
    "def write_parameters_to_yaml(file_path, parameters):\n",
    "    with open(file_path, \"w\") as file:\n",
    "        yaml.dump(parameters, file, default_flow_style=False)\n",
    "\n",
    "\n",
    "# Assuming the parameters are stored in a dictionary\n",
    "parameters = {\n",
    "    \"param1\": 4,\n",
    "    \"param2\": [\n",
    "        \"dumbbell/cam1_Scene77_4085\",\n",
    "        \"cal/cam1.tif\",\n",
    "        \"dumbbell/cam2_Scene77_4085\",\n",
    "        \"cal/cam2.tif\",\n",
    "        \"dumbbell/cam3_Scene77_4085\",\n",
    "        \"cal/cam3.tif\",\n",
    "        \"dumbbell/cam4_Scene77_4085\",\n",
    "        \"cal/cam4.tif\",\n",
    "    ],\n",
    "    \"param3\": [1, 0, 1, 1280, 1024, 0.017, 0.017, 0, 1, 1.49, 1.33, 5],\n",
    "}\n",
    "\n",
    "# Example paths for the parameter file\n",
    "parameter_file_path = \"parameters.yaml\"\n",
    "\n",
    "# Writing parameters to YAML file\n",
    "write_parameters_to_yaml(parameter_file_path, parameters)\n",
    "\n",
    "# Reading parameters from YAML file\n",
    "read_parameters = read_parameters_from_yaml(parameter_file_path)\n",
    "\n",
    "# Displaying the read parameters\n",
    "print(\"Read parameters:\")\n",
    "print(read_parameters)"
   ]
  },
  {
   "cell_type": "code",
   "execution_count": 2,
   "metadata": {},
   "outputs": [
    {
     "name": "stdout",
     "output_type": "stream",
     "text": [
      "Read parameters from YAML file:\n",
      "{'param1': 4, 'param2': ['dumbbell/cam1_Scene77_4085', 'cal/cam1.tif', 'dumbbell/cam2_Scene77_4085', 'cal/cam2.tif', 'dumbbell/cam3_Scene77_4085', 'cal/cam3.tif', 'dumbbell/cam4_Scene77_4085', 'cal/cam4.tif'], 'param3': [1, 0, 1, 1280, 1024, 0.017, 0.017, 0, 1, 1.49, 1.33, 5]}\n"
     ]
    }
   ],
   "source": [
    "class Parameters:\n",
    "    def __init__(self, param1, param2, param3):\n",
    "        self.param1 = param1\n",
    "        self.param2 = param2\n",
    "        self.param3 = param3\n",
    "\n",
    "\n",
    "# Create an instance of the Parameters class\n",
    "parameters_instance = Parameters(\n",
    "    param1=4,\n",
    "    param2=[\n",
    "        \"dumbbell/cam1_Scene77_4085\",\n",
    "        \"cal/cam1.tif\",\n",
    "        \"dumbbell/cam2_Scene77_4085\",\n",
    "        \"cal/cam2.tif\",\n",
    "        \"dumbbell/cam3_Scene77_4085\",\n",
    "        \"cal/cam3.tif\",\n",
    "        \"dumbbell/cam4_Scene77_4085\",\n",
    "        \"cal/cam4.tif\",\n",
    "    ],\n",
    "    param3=[1, 0, 1, 1280, 1024, 0.017, 0.017, 0, 1, 1.49, 1.33, 5],\n",
    ")\n",
    "\n",
    "# Convert the instance to a dictionary\n",
    "parameters_dict = {\n",
    "    \"param1\": parameters_instance.param1,\n",
    "    \"param2\": parameters_instance.param2,\n",
    "    \"param3\": parameters_instance.param3,\n",
    "}\n",
    "\n",
    "# Define the path for the YAML file\n",
    "yaml_file_path = \"parameters_instance.yaml\"\n",
    "\n",
    "# Write the class instance to the YAML file\n",
    "with open(yaml_file_path, \"w\") as yaml_file:\n",
    "    yaml.dump(parameters_dict, yaml_file, default_flow_style=False)\n",
    "\n",
    "# Read the YAML file back into a dictionary\n",
    "with open(yaml_file_path, \"r\") as yaml_file:\n",
    "    read_parameters_dict = yaml.safe_load(yaml_file)\n",
    "\n",
    "# Display the read parameters\n",
    "print(\"Read parameters from YAML file:\")\n",
    "print(read_parameters_dict)"
   ]
  },
  {
   "cell_type": "code",
   "execution_count": 3,
   "metadata": {},
   "outputs": [],
   "source": [
    "from openptv_python.parameters import ControlPar\n",
    "\n",
    "cpar = ControlPar()"
   ]
  },
  {
   "cell_type": "code",
   "execution_count": 4,
   "metadata": {},
   "outputs": [],
   "source": [
    "cpar.from_file(\"../tests/testing_fodder/parameters/ptv.par\")"
   ]
  },
  {
   "cell_type": "code",
   "execution_count": 5,
   "metadata": {},
   "outputs": [
    {
     "data": {
      "text/plain": [
       "ControlPar(num_cams=4, img_base_name=['dumbbell/cam1_Scene77_4085', 'dumbbell/cam2_Scene77_4085', 'dumbbell/cam3_Scene77_4085', 'dumbbell/cam4_Scene77_4085'], cal_img_base_name=['cal/cam1.tif', 'cal/cam2.tif', 'cal/cam3.tif', 'cal/cam4.tif'], hp_flag=1, all_cam_flag=0, tiff_flag=1, imx=1280, imy=1024, pix_x=0.017, pix_y=0.017, chfield=0, mm=MultimediaPar(nlay=1, n1=1.0, n2=[1.49], d=[5.0], n3=1.33))"
      ]
     },
     "execution_count": 5,
     "metadata": {},
     "output_type": "execute_result"
    }
   ],
   "source": [
    "cpar"
   ]
  },
  {
   "cell_type": "code",
   "execution_count": 6,
   "metadata": {},
   "outputs": [],
   "source": [
    "# Define the path for the YAML file\n",
    "yaml_file_path = \"ptv_par.yaml\"\n",
    "\n",
    "# Write the class instance to the YAML file\n",
    "with open(yaml_file_path, \"w\") as yaml_file:\n",
    "    yaml.dump(cpar.to_dict(), yaml_file, default_flow_style=False)"
   ]
  },
  {
   "cell_type": "code",
   "execution_count": 7,
   "metadata": {},
   "outputs": [
    {
     "data": {
      "text/plain": [
       "{'num_cams': 4,\n",
       " 'img_base_name': ['dumbbell/cam1_Scene77_4085',\n",
       "  'dumbbell/cam2_Scene77_4085',\n",
       "  'dumbbell/cam3_Scene77_4085',\n",
       "  'dumbbell/cam4_Scene77_4085'],\n",
       " 'cal_img_base_name': ['cal/cam1.tif',\n",
       "  'cal/cam2.tif',\n",
       "  'cal/cam3.tif',\n",
       "  'cal/cam4.tif'],\n",
       " 'hp_flag': 1,\n",
       " 'all_cam_flag': 0,\n",
       " 'tiff_flag': 1,\n",
       " 'imx': 1280,\n",
       " 'imy': 1024,\n",
       " 'pix_x': 0.017,\n",
       " 'pix_y': 0.017,\n",
       " 'chfield': 0,\n",
       " 'mm': MultimediaPar(nlay=1, n1=1.0, n2=[1.49], d=[5.0], n3=1.33)}"
      ]
     },
     "execution_count": 7,
     "metadata": {},
     "output_type": "execute_result"
    }
   ],
   "source": [
    "cpar.__dict__"
   ]
  },
  {
   "cell_type": "code",
   "execution_count": 8,
   "metadata": {},
   "outputs": [
    {
     "data": {
      "text/plain": [
       "{'num_cams': 4,\n",
       " 'img_base_name': ['dumbbell/cam1_Scene77_4085',\n",
       "  'dumbbell/cam2_Scene77_4085',\n",
       "  'dumbbell/cam3_Scene77_4085',\n",
       "  'dumbbell/cam4_Scene77_4085'],\n",
       " 'cal_img_base_name': ['cal/cam1.tif',\n",
       "  'cal/cam2.tif',\n",
       "  'cal/cam3.tif',\n",
       "  'cal/cam4.tif'],\n",
       " 'hp_flag': 1,\n",
       " 'all_cam_flag': 0,\n",
       " 'tiff_flag': 1,\n",
       " 'imx': 1280,\n",
       " 'imy': 1024,\n",
       " 'pix_x': 0.017,\n",
       " 'pix_y': 0.017,\n",
       " 'chfield': 0,\n",
       " 'mm': {'nlay': 1, 'n1': 1.0, 'n2': [1.49], 'd': [5.0], 'n3': 1.33}}"
      ]
     },
     "execution_count": 8,
     "metadata": {},
     "output_type": "execute_result"
    }
   ],
   "source": [
    "cpar.to_dict()"
   ]
  },
  {
   "cell_type": "code",
   "execution_count": 9,
   "metadata": {},
   "outputs": [
    {
     "name": "stdout",
     "output_type": "stream",
     "text": [
      "Read parameters from YAML file:\n",
      "{'all_cam_flag': 0, 'cal_img_base_name': ['cal/cam1.tif', 'cal/cam2.tif', 'cal/cam3.tif', 'cal/cam4.tif'], 'chfield': 0, 'hp_flag': 1, 'img_base_name': ['dumbbell/cam1_Scene77_4085', 'dumbbell/cam2_Scene77_4085', 'dumbbell/cam3_Scene77_4085', 'dumbbell/cam4_Scene77_4085'], 'imx': 1280, 'imy': 1024, 'mm': {'d': [5.0], 'n1': 1.0, 'n2': [1.49], 'n3': 1.33, 'nlay': 1}, 'num_cams': 4, 'pix_x': 0.017, 'pix_y': 0.017, 'tiff_flag': 1}\n"
     ]
    }
   ],
   "source": [
    "# Read the YAML file back into a dictionary\n",
    "with open(yaml_file_path, \"r\") as yaml_file:\n",
    "    read_parameters_dict = yaml.safe_load(yaml_file)\n",
    "\n",
    "# Display the read parameters\n",
    "print(\"Read parameters from YAML file:\")\n",
    "print(read_parameters_dict)"
   ]
  },
  {
   "cell_type": "code",
   "execution_count": null,
   "metadata": {},
   "outputs": [],
   "source": []
  },
  {
   "cell_type": "code",
   "execution_count": 10,
   "metadata": {},
   "outputs": [
    {
     "name": "stdout",
     "output_type": "stream",
     "text": [
      "Read merged data from YAML file with titles Title1 and Title2:\n",
      "{'Title1': {'param1': 4, 'param2': ['dumbbell/cam1_Scene77_4085', 'cal/cam1.tif', 'dumbbell/cam2_Scene77_4085', 'cal/cam2.tif', 'dumbbell/cam3_Scene77_4085', 'cal/cam3.tif', 'dumbbell/cam4_Scene77_4085', 'cal/cam4.tif'], 'param3': [1, 0, 1, 1280, 1024, 0.017, 0.017, 0, 1, 1.49, 1.33, 5]}, 'Title2': {'all_cam_flag': 0, 'cal_img_base_name': ['cal/cam1.tif', 'cal/cam2.tif', 'cal/cam3.tif', 'cal/cam4.tif'], 'chfield': 0, 'hp_flag': 1, 'img_base_name': ['dumbbell/cam1_Scene77_4085', 'dumbbell/cam2_Scene77_4085', 'dumbbell/cam3_Scene77_4085', 'dumbbell/cam4_Scene77_4085'], 'imx': 1280, 'imy': 1024, 'mm': {'d': [5.0], 'n1': 1.0, 'n2': [1.49], 'n3': 1.33, 'nlay': 1}, 'num_cams': 4, 'pix_x': 0.017, 'pix_y': 0.017, 'tiff_flag': 1}}\n"
     ]
    }
   ],
   "source": [
    "def merge_yaml_files(file1_path, file2_path, merged_file_path, title1, title2):\n",
    "    # Read YAML files\n",
    "    with open(file1_path, \"r\") as file1:\n",
    "        data1 = yaml.safe_load(file1)\n",
    "    with open(file2_path, \"r\") as file2:\n",
    "        data2 = yaml.safe_load(file2)\n",
    "\n",
    "    # Create a dictionary with titles\n",
    "    merged_data = {title1: data1, title2: data2}\n",
    "\n",
    "    # Write merged data to a new YAML file\n",
    "    with open(merged_file_path, \"w\") as merged_file:\n",
    "        yaml.dump(merged_data, merged_file, default_flow_style=False)\n",
    "\n",
    "\n",
    "# Example paths for the YAML files\n",
    "yaml_file1_path = \"parameters.yaml\"\n",
    "yaml_file2_path = \"ptv_par.yaml\"\n",
    "merged_yaml_file_path = \"merged_file.yaml\"\n",
    "\n",
    "# Example titles for the YAML files\n",
    "title1 = \"Title1\"\n",
    "title2 = \"Title2\"\n",
    "\n",
    "# Merge the YAML files\n",
    "merge_yaml_files(\n",
    "    yaml_file1_path, yaml_file2_path, merged_yaml_file_path, title1, title2\n",
    ")\n",
    "\n",
    "# Read the merged YAML file back into a dictionary\n",
    "with open(merged_yaml_file_path, \"r\") as merged_file:\n",
    "    read_merged_data = yaml.safe_load(merged_file)\n",
    "\n",
    "# Display the read merged data\n",
    "print(f\"Read merged data from YAML file with titles {title1} and {title2}:\")\n",
    "print(read_merged_data)"
   ]
  },
  {
   "cell_type": "code",
   "execution_count": 11,
   "metadata": {},
   "outputs": [
    {
     "name": "stdout",
     "output_type": "stream",
     "text": [
      "ControlPar(num_cams=4, img_base_name=['dumbbell/cam1_Scene77_4085', 'dumbbell/cam2_Scene77_4085', 'dumbbell/cam3_Scene77_4085', 'dumbbell/cam4_Scene77_4085'], cal_img_base_name=['cal/cam1.tif', 'cal/cam2.tif', 'cal/cam3.tif', 'cal/cam4.tif'], hp_flag=1, all_cam_flag=0, tiff_flag=1, imx=1280, imy=1024, pix_x=0.017, pix_y=0.017, chfield=0, mm=MultimediaPar(nlay=1, n1=1.0, n2=[1.49], d=[5.0], n3=1.33))\n"
     ]
    }
   ],
   "source": [
    "# Example usage\n",
    "control_par_dict = {\n",
    "    \"num_cams\": 4,\n",
    "    \"img_base_name\": [\n",
    "        \"dumbbell/cam1_Scene77_4085\",\n",
    "        \"dumbbell/cam2_Scene77_4085\",\n",
    "        \"dumbbell/cam3_Scene77_4085\",\n",
    "        \"dumbbell/cam4_Scene77_4085\",\n",
    "    ],\n",
    "    \"cal_img_base_name\": [\n",
    "        \"cal/cam1.tif\",\n",
    "        \"cal/cam2.tif\",\n",
    "        \"cal/cam3.tif\",\n",
    "        \"cal/cam4.tif\",\n",
    "    ],\n",
    "    \"hp_flag\": 1,\n",
    "    \"all_cam_flag\": 0,\n",
    "    \"tiff_flag\": 1,\n",
    "    \"imx\": 1280,\n",
    "    \"imy\": 1024,\n",
    "    \"pix_x\": 0.017,\n",
    "    \"pix_y\": 0.017,\n",
    "    \"chfield\": 0,\n",
    "    \"mm\": {\"nlay\": 1, \"n1\": 1.0, \"n2\": [1.49], \"d\": [5.0], \"n3\": 1.33},\n",
    "}\n",
    "\n",
    "# Convert the dictionary back to ControlPar instance\n",
    "control_par_instance = ControlPar.from_dict(control_par_dict)\n",
    "\n",
    "# Print the resulting ControlPar instance\n",
    "print(control_par_instance)"
   ]
  }
 ],
 "metadata": {
  "kernelspec": {
   "display_name": "openptvpy",
   "language": "python",
   "name": "python3"
  },
  "language_info": {
   "codemirror_mode": {
    "name": "ipython",
    "version": 3
   },
   "file_extension": ".py",
   "mimetype": "text/x-python",
   "name": "python",
   "nbconvert_exporter": "python",
   "pygments_lexer": "ipython3",
   "version": "3.10.9"
  }
 },
 "nbformat": 4,
 "nbformat_minor": 2
}
