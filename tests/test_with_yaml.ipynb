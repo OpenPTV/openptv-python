{
 "cells": [
  {
   "cell_type": "code",
   "execution_count": 1,
   "metadata": {},
   "outputs": [
    {
     "name": "stdout",
     "output_type": "stream",
     "text": [
      "Read parameters:\n",
      "{'param1': 4, 'param2': ['dumbbell/cam1_Scene77_4085', 'cal/cam1.tif', 'dumbbell/cam2_Scene77_4085', 'cal/cam2.tif', 'dumbbell/cam3_Scene77_4085', 'cal/cam3.tif', 'dumbbell/cam4_Scene77_4085', 'cal/cam4.tif'], 'param3': [1, 0, 1, 1280, 1024, 0.017, 0.017, 0, 1, 1.49, 1.33, 5]}\n"
     ]
    }
   ],
   "source": [
    "import yaml\n",
    "\n",
    "def read_parameters_from_yaml(file_path):\n",
    "    with open(file_path, 'r') as file:\n",
    "        parameters = yaml.safe_load(file)\n",
    "    return parameters\n",
    "\n",
    "def write_parameters_to_yaml(file_path, parameters):\n",
    "    with open(file_path, 'w') as file:\n",
    "        yaml.dump(parameters, file, default_flow_style=False)\n",
    "\n",
    "# Assuming the parameters are stored in a dictionary\n",
    "parameters = {\n",
    "    \"param1\": 4,\n",
    "    \"param2\": [\n",
    "        \"dumbbell/cam1_Scene77_4085\",\n",
    "        \"cal/cam1.tif\",\n",
    "        \"dumbbell/cam2_Scene77_4085\",\n",
    "        \"cal/cam2.tif\",\n",
    "        \"dumbbell/cam3_Scene77_4085\",\n",
    "        \"cal/cam3.tif\",\n",
    "        \"dumbbell/cam4_Scene77_4085\",\n",
    "        \"cal/cam4.tif\"\n",
    "    ],\n",
    "    \"param3\": [1, 0, 1, 1280, 1024, 0.017, 0.017, 0, 1, 1.49, 1.33, 5]\n",
    "}\n",
    "\n",
    "# Example paths for the parameter file\n",
    "parameter_file_path = 'parameters.yaml'\n",
    "\n",
    "# Writing parameters to YAML file\n",
    "write_parameters_to_yaml(parameter_file_path, parameters)\n",
    "\n",
    "# Reading parameters from YAML file\n",
    "read_parameters = read_parameters_from_yaml(parameter_file_path)\n",
    "\n",
    "# Displaying the read parameters\n",
    "print(\"Read parameters:\")\n",
    "print(read_parameters)"
   ]
  },
  {
   "cell_type": "code",
   "execution_count": 2,
   "metadata": {},
   "outputs": [
    {
     "name": "stdout",
     "output_type": "stream",
     "text": [
      "Read parameters from YAML file:\n",
      "{'param1': 4, 'param2': ['dumbbell/cam1_Scene77_4085', 'cal/cam1.tif', 'dumbbell/cam2_Scene77_4085', 'cal/cam2.tif', 'dumbbell/cam3_Scene77_4085', 'cal/cam3.tif', 'dumbbell/cam4_Scene77_4085', 'cal/cam4.tif'], 'param3': [1, 0, 1, 1280, 1024, 0.017, 0.017, 0, 1, 1.49, 1.33, 5]}\n"
     ]
    }
   ],
   "source": [
    "\n",
    "class Parameters:\n",
    "    def __init__(self, param1, param2, param3):\n",
    "        self.param1 = param1\n",
    "        self.param2 = param2\n",
    "        self.param3 = param3\n",
    "\n",
    "# Create an instance of the Parameters class\n",
    "parameters_instance = Parameters(\n",
    "    param1=4,\n",
    "    param2=[\n",
    "        \"dumbbell/cam1_Scene77_4085\",\n",
    "        \"cal/cam1.tif\",\n",
    "        \"dumbbell/cam2_Scene77_4085\",\n",
    "        \"cal/cam2.tif\",\n",
    "        \"dumbbell/cam3_Scene77_4085\",\n",
    "        \"cal/cam3.tif\",\n",
    "        \"dumbbell/cam4_Scene77_4085\",\n",
    "        \"cal/cam4.tif\"\n",
    "    ],\n",
    "    param3=[1, 0, 1, 1280, 1024, 0.017, 0.017, 0, 1, 1.49, 1.33, 5]\n",
    ")\n",
    "\n",
    "# Convert the instance to a dictionary\n",
    "parameters_dict = {\n",
    "    'param1': parameters_instance.param1,\n",
    "    'param2': parameters_instance.param2,\n",
    "    'param3': parameters_instance.param3\n",
    "}\n",
    "\n",
    "# Define the path for the YAML file\n",
    "yaml_file_path = 'parameters_instance.yaml'\n",
    "\n",
    "# Write the class instance to the YAML file\n",
    "with open(yaml_file_path, 'w') as yaml_file:\n",
    "    yaml.dump(parameters_dict, yaml_file, default_flow_style=False)\n",
    "\n",
    "# Read the YAML file back into a dictionary\n",
    "with open(yaml_file_path, 'r') as yaml_file:\n",
    "    read_parameters_dict = yaml.safe_load(yaml_file)\n",
    "\n",
    "# Display the read parameters\n",
    "print(\"Read parameters from YAML file:\")\n",
    "print(read_parameters_dict)"
   ]
  },
  {
   "cell_type": "markdown",
   "metadata": {},
   "source": []
  }
 ],
 "metadata": {
  "kernelspec": {
   "display_name": "openptvpy",
   "language": "python",
   "name": "python3"
  },
  "language_info": {
   "codemirror_mode": {
    "name": "ipython",
    "version": 3
   },
   "file_extension": ".py",
   "mimetype": "text/x-python",
   "name": "python",
   "nbconvert_exporter": "python",
   "pygments_lexer": "ipython3",
   "version": "3.10.9"
  }
 },
 "nbformat": 4,
 "nbformat_minor": 2
}
