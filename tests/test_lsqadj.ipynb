{
 "cells": [
  {
   "cell_type": "code",
   "execution_count": 5,
   "metadata": {},
   "outputs": [],
   "source": [
    "import numpy as np\n",
    "from openptv_python.lsqadj import atl  # Import the atl function from your module\n",
    "\n",
    "def test_full_matrix_vector_multiplication():\n",
    "    # Test when n equals n_large\n",
    "    n = 3\n",
    "    n_large = 3\n",
    "    m = 3  # Match the number of columns in a with rows in b\n",
    "    u = np.zeros((n, 1))\n",
    "    a = np.array([[1, 2, 3], [4, 5, 6], [7, 8, 9]])\n",
    "    b = np.array([[1], [2], [3]])\n",
    "    expected_u = np.dot(a.T, b)\n",
    "    atl(u, a, b, m, n, n_large)\n",
    "    print(u)\n",
    "    assert np.array_equal(u, expected_u)\n",
    "\n",
    "# def test_sub_matrix_vector_multiplication():\n",
    "#     # Test when n is less than n_large\n",
    "#     n = 2\n",
    "#     n_large = 3\n",
    "#     m = 4  # Match the number of columns in a with rows in b\n",
    "#     u = np.zeros((n, 1))\n",
    "#     a = np.array([[1, 2, 3], [4, 5, 6], [7, 8, 9], [10, 11, 12]])\n",
    "#     b = np.array([[1], [2], [3], [4]])\n",
    "#     expected_u = np.dot(a.T[:, :n], b)\n",
    "#     atl(u, a, b, m, n, n_large)\n",
    "#     print(u, expected_u)\n",
    "#     assert np.array_equal(u, expected_u)\n",
    "\n",
    "def test_valid_matrix_vector_multiplication():\n",
    "    # Test with valid dimensions\n",
    "    n = 3\n",
    "    n_large = 3\n",
    "    m = 4  # Match the number of rows in a with rows in b\n",
    "    u = np.zeros((n, 1))\n",
    "    a = np.array([[1, 2, 3], [4, 5, 6], [7, 8, 9], [10, 11, 12]])\n",
    "    b = np.array([[1], [2], [3], [4]])\n",
    "    expected_u = np.dot(a.T, b)\n",
    "    atl(u, a, b, m, n, n_large)\n",
    "    print(u)\n",
    "    assert np.array_equal(u, expected_u)\n",
    "\n",
    "def test_zero_input():\n",
    "    # Test with all zero input\n",
    "    n = 3\n",
    "    n_large = 3\n",
    "    m = 3  # Match the number of columns in a with rows in b\n",
    "    u = np.zeros((n, 1))\n",
    "    a = np.zeros((m, n_large))\n",
    "    b = np.zeros((m, 1))\n",
    "    atl(u, a, b, m, n, n_large)\n",
    "    print(u)\n",
    "    assert np.array_equal(u, np.zeros((n, 1)))"
   ]
  },
  {
   "cell_type": "code",
   "execution_count": 6,
   "metadata": {},
   "outputs": [
    {
     "name": "stdout",
     "output_type": "stream",
     "text": [
      "[[30.]\n",
      " [36.]\n",
      " [42.]]\n"
     ]
    }
   ],
   "source": [
    "test_full_matrix_vector_multiplication()"
   ]
  },
  {
   "cell_type": "code",
   "execution_count": 7,
   "metadata": {},
   "outputs": [
    {
     "name": "stdout",
     "output_type": "stream",
     "text": [
      "[[70.]\n",
      " [80.]\n",
      " [90.]]\n"
     ]
    }
   ],
   "source": [
    "test_valid_matrix_vector_multiplication()"
   ]
  },
  {
   "cell_type": "code",
   "execution_count": 8,
   "metadata": {},
   "outputs": [
    {
     "name": "stdout",
     "output_type": "stream",
     "text": [
      "[[0.]\n",
      " [0.]\n",
      " [0.]]\n"
     ]
    }
   ],
   "source": [
    "test_zero_input()"
   ]
  },
  {
   "cell_type": "code",
   "execution_count": null,
   "metadata": {},
   "outputs": [],
   "source": []
  }
 ],
 "metadata": {
  "kernelspec": {
   "display_name": "openptvpy",
   "language": "python",
   "name": "python3"
  },
  "language_info": {
   "codemirror_mode": {
    "name": "ipython",
    "version": 3
   },
   "file_extension": ".py",
   "mimetype": "text/x-python",
   "name": "python",
   "nbconvert_exporter": "python",
   "pygments_lexer": "ipython3",
   "version": "3.10.9"
  }
 },
 "nbformat": 4,
 "nbformat_minor": 2
}
