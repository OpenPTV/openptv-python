{
 "cells": [
  {
   "cell_type": "code",
   "execution_count": 10,
   "metadata": {},
   "outputs": [],
   "source": [
    "import numpy as np\n",
    "from openptv_python.lsqadj import atl, ata\n",
    "\n",
    "def test_full_matrix_vector_multiplication():\n",
    "    # Test when n equals n_large\n",
    "    n = 3\n",
    "    n_large = 3\n",
    "    m = 3  # Match the number of columns in a with rows in b\n",
    "    u = np.zeros((n, 1))\n",
    "    a = np.array([[1, 2, 3], [4, 5, 6], [7, 8, 9]])\n",
    "    b = np.array([[1], [2], [3]])\n",
    "    expected_u = np.dot(a.T, b)\n",
    "    atl(u, a, b, m, n, n_large)\n",
    "    print(u)\n",
    "    assert np.array_equal(u, expected_u)\n",
    "\n",
    "def test_sub_matrix_vector_multiplication():\n",
    "    # Test when n is less than n_large\n",
    "    n = 2\n",
    "    n_large = 3\n",
    "    m = 4  # Match the number of columns in a with rows in b\n",
    "    u = np.zeros((n, 1))\n",
    "    a = np.array([[1, 2, 3], [4, 5, 6], [7, 8, 9], [10, 11, 12]])\n",
    "    b = np.array([[1], [2], [3], [4]])\n",
    "    expected_u = np.dot(a.T[:, :n], b)\n",
    "    atl(u, a, b, m, n, n_large)\n",
    "    print(u, expected_u)\n",
    "    assert np.array_equal(u, expected_u)\n",
    "\n",
    "def test_valid_matrix_vector_multiplication():\n",
    "    # Test with valid dimensions\n",
    "    n = 3\n",
    "    n_large = 3\n",
    "    m = 4  # Match the number of rows in a with rows in b\n",
    "    u = np.zeros((n, 1))\n",
    "    a = np.array([[1, 2, 3], [4, 5, 6], [7, 8, 9], [10, 11, 12]])\n",
    "    b = np.array([[1], [2], [3], [4]])\n",
    "    expected_u = np.dot(a.T, b)\n",
    "    atl(u, a, b, m, n, n_large)\n",
    "    print(u)\n",
    "    assert np.array_equal(u, expected_u)\n",
    "\n",
    "def test_zero_input():\n",
    "    # Test with all zero input\n",
    "    n = 3\n",
    "    n_large = 3\n",
    "    m = 3  # Match the number of columns in a with rows in b\n",
    "    u = np.zeros((n, 1))\n",
    "    a = np.zeros((m, n_large))\n",
    "    b = np.zeros((m, 1))\n",
    "    atl(u, a, b, m, n, n_large)\n",
    "    print(u)\n",
    "    assert np.array_equal(u, np.zeros((n, 1)))"
   ]
  },
  {
   "cell_type": "code",
   "execution_count": 11,
   "metadata": {},
   "outputs": [
    {
     "name": "stdout",
     "output_type": "stream",
     "text": [
      "[[30.]\n",
      " [36.]\n",
      " [42.]]\n"
     ]
    }
   ],
   "source": [
    "test_full_matrix_vector_multiplication()"
   ]
  },
  {
   "cell_type": "code",
   "execution_count": 12,
   "metadata": {},
   "outputs": [
    {
     "ename": "IndexError",
     "evalue": "index 4 is out of bounds for size 4",
     "output_type": "error",
     "traceback": [
      "\u001b[0;31m---------------------------------------------------------------------------\u001b[0m",
      "\u001b[0;31mIndexError\u001b[0m                                Traceback (most recent call last)",
      "\u001b[1;32m/home/user/Documents/repos/openptvpy/openptv-python/tests/test_lsqadj.ipynb Cell 3\u001b[0m line \u001b[0;36m3\n\u001b[1;32m      <a href='vscode-notebook-cell:/home/user/Documents/repos/openptvpy/openptv-python/tests/test_lsqadj.ipynb#X14sZmlsZQ%3D%3D?line=0'>1</a>\u001b[0m a \u001b[39m=\u001b[39m np\u001b[39m.\u001b[39marray([[\u001b[39m1\u001b[39m, \u001b[39m0\u001b[39m, \u001b[39m1\u001b[39m], [\u001b[39m2\u001b[39m, \u001b[39m2\u001b[39m, \u001b[39m4\u001b[39m],[\u001b[39m1\u001b[39m, \u001b[39m2\u001b[39m, \u001b[39m3\u001b[39m], [\u001b[39m2\u001b[39m, \u001b[39m4\u001b[39m, \u001b[39m3\u001b[39m]])\n\u001b[1;32m      <a href='vscode-notebook-cell:/home/user/Documents/repos/openptvpy/openptv-python/tests/test_lsqadj.ipynb#X14sZmlsZQ%3D%3D?line=1'>2</a>\u001b[0m b \u001b[39m=\u001b[39m np\u001b[39m.\u001b[39mzeros((\u001b[39m2\u001b[39m,\u001b[39m2\u001b[39m))\n\u001b[0;32m----> <a href='vscode-notebook-cell:/home/user/Documents/repos/openptvpy/openptv-python/tests/test_lsqadj.ipynb#X14sZmlsZQ%3D%3D?line=2'>3</a>\u001b[0m ata(a,b,\u001b[39m4\u001b[39;49m,\u001b[39m2\u001b[39;49m,\u001b[39m3\u001b[39;49m)\n\u001b[1;32m      <a href='vscode-notebook-cell:/home/user/Documents/repos/openptvpy/openptv-python/tests/test_lsqadj.ipynb#X14sZmlsZQ%3D%3D?line=3'>4</a>\u001b[0m \u001b[39mprint\u001b[39m(b)\n",
      "File \u001b[0;32m~/Documents/repos/openptvpy/openptv-python/openptv_python/lsqadj.py:17\u001b[0m, in \u001b[0;36mata\u001b[0;34m(a, ata, m, n, n_large)\u001b[0m\n\u001b[1;32m     15\u001b[0m \u001b[39mfor\u001b[39;00m i \u001b[39min\u001b[39;00m \u001b[39mrange\u001b[39m(n):\n\u001b[1;32m     16\u001b[0m     \u001b[39mfor\u001b[39;00m j \u001b[39min\u001b[39;00m \u001b[39mrange\u001b[39m(n):\n\u001b[0;32m---> 17\u001b[0m         ata\u001b[39m.\u001b[39;49mflat[i \u001b[39m*\u001b[39;49m n_large \u001b[39m+\u001b[39;49m j] \u001b[39m=\u001b[39m \u001b[39m0.0\u001b[39m\n\u001b[1;32m     18\u001b[0m         \u001b[39mfor\u001b[39;00m k \u001b[39min\u001b[39;00m \u001b[39mrange\u001b[39m(m):\n\u001b[1;32m     19\u001b[0m             ata\u001b[39m.\u001b[39mflat[i \u001b[39m*\u001b[39m n_large \u001b[39m+\u001b[39m j] \u001b[39m+\u001b[39m\u001b[39m=\u001b[39m a\u001b[39m.\u001b[39mflat[k \u001b[39m*\u001b[39m n_large \u001b[39m+\u001b[39m i] \u001b[39m*\u001b[39m a\u001b[39m.\u001b[39mflat[k \u001b[39m*\u001b[39m n_large \u001b[39m+\u001b[39m j]\n",
      "\u001b[0;31mIndexError\u001b[0m: index 4 is out of bounds for size 4"
     ]
    }
   ],
   "source": [
    "a = np.array([[1, 0, 1], [2, 2, 4],[1, 2, 3], [2, 4, 3]])\n",
    "b = np.zeros((2,2))\n",
    "ata(a,b,4,2,3)\n",
    "print(b)"
   ]
  },
  {
   "cell_type": "code",
   "execution_count": 14,
   "metadata": {},
   "outputs": [],
   "source": [
    "b = np.zeros((2,2))"
   ]
  },
  {
   "cell_type": "code",
   "execution_count": null,
   "metadata": {},
   "outputs": [],
   "source": []
  },
  {
   "cell_type": "code",
   "execution_count": 20,
   "metadata": {},
   "outputs": [
    {
     "data": {
      "text/plain": [
       "0.0"
      ]
     },
     "execution_count": 20,
     "metadata": {},
     "output_type": "execute_result"
    }
   ],
   "source": [
    "b[1,1]"
   ]
  },
  {
   "cell_type": "code",
   "execution_count": null,
   "metadata": {},
   "outputs": [],
   "source": []
  },
  {
   "cell_type": "code",
   "execution_count": 19,
   "metadata": {},
   "outputs": [
    {
     "name": "stdout",
     "output_type": "stream",
     "text": [
      "0 0\n",
      "0.0\n",
      "0 1\n",
      "0.0\n",
      "1 0\n",
      "0.0\n",
      "1 1\n"
     ]
    },
    {
     "ename": "IndexError",
     "evalue": "index 4 is out of bounds for axis 0 with size 4",
     "output_type": "error",
     "traceback": [
      "\u001b[0;31m---------------------------------------------------------------------------\u001b[0m",
      "\u001b[0;31mIndexError\u001b[0m                                Traceback (most recent call last)",
      "\u001b[1;32m/home/user/Documents/repos/openptvpy/openptv-python/tests/test_lsqadj.ipynb Cell 5\u001b[0m line \u001b[0;36m4\n\u001b[1;32m      <a href='vscode-notebook-cell:/home/user/Documents/repos/openptvpy/openptv-python/tests/test_lsqadj.ipynb#X16sZmlsZQ%3D%3D?line=1'>2</a>\u001b[0m \u001b[39mfor\u001b[39;00m j \u001b[39min\u001b[39;00m \u001b[39mrange\u001b[39m(\u001b[39m2\u001b[39m):\n\u001b[1;32m      <a href='vscode-notebook-cell:/home/user/Documents/repos/openptvpy/openptv-python/tests/test_lsqadj.ipynb#X16sZmlsZQ%3D%3D?line=2'>3</a>\u001b[0m     \u001b[39mprint\u001b[39m(i,j)\n\u001b[0;32m----> <a href='vscode-notebook-cell:/home/user/Documents/repos/openptvpy/openptv-python/tests/test_lsqadj.ipynb#X16sZmlsZQ%3D%3D?line=3'>4</a>\u001b[0m     \u001b[39mprint\u001b[39m(b\u001b[39m.\u001b[39;49mflat[i\u001b[39m*\u001b[39;49m\u001b[39m3\u001b[39;49m \u001b[39m+\u001b[39;49m j])\n",
      "\u001b[0;31mIndexError\u001b[0m: index 4 is out of bounds for axis 0 with size 4"
     ]
    }
   ],
   "source": [
    "for i in range(2):\n",
    "    for j in range(2):\n",
    "        print(i,j)\n",
    "        print(b.flat[i*3 + j])"
   ]
  },
  {
   "cell_type": "code",
   "execution_count": null,
   "metadata": {},
   "outputs": [],
   "source": [
    "test_valid_matrix_vector_multiplication()"
   ]
  },
  {
   "cell_type": "code",
   "execution_count": null,
   "metadata": {},
   "outputs": [],
   "source": [
    "test_zero_input()"
   ]
  },
  {
   "cell_type": "code",
   "execution_count": null,
   "metadata": {},
   "outputs": [],
   "source": [
    "def myata(a, m, n, n_large):\n",
    "    ata = np.zeros((n, n_large), dtype=float)\n",
    "    \n",
    "    for i in range(n):\n",
    "        for j in range(n_large):\n",
    "            for k in range(m):\n",
    "                ata[i, j] += a[k, i] * a[k, j]\n",
    "    \n",
    "    return ata"
   ]
  },
  {
   "cell_type": "code",
   "execution_count": null,
   "metadata": {},
   "outputs": [],
   "source": [
    "myata(np.array([[1, 2, 3], [4, 5, 6], [7, 8, 9]]), 3, 3, 3)"
   ]
  },
  {
   "cell_type": "code",
   "execution_count": null,
   "metadata": {},
   "outputs": [],
   "source": [
    "myata(np.array([[1, 2, 3], [4, 5, 6], [7, 8, 9]]), 3, 2, 3)"
   ]
  },
  {
   "cell_type": "code",
   "execution_count": null,
   "metadata": {},
   "outputs": [],
   "source": [
    "myata(a,4,2,3)"
   ]
  },
  {
   "cell_type": "code",
   "execution_count": null,
   "metadata": {},
   "outputs": [],
   "source": [
    "a = np.array([[1, 0, 1], [2, 2, 4], [1, 2, 3], [2, 4, 3]])\n",
    "print(a)\n",
    "myata(a,4,3,3)"
   ]
  },
  {
   "cell_type": "code",
   "execution_count": null,
   "metadata": {},
   "outputs": [],
   "source": []
  }
 ],
 "metadata": {
  "kernelspec": {
   "display_name": "openptvpy",
   "language": "python",
   "name": "python3"
  },
  "language_info": {
   "codemirror_mode": {
    "name": "ipython",
    "version": 3
   },
   "file_extension": ".py",
   "mimetype": "text/x-python",
   "name": "python",
   "nbconvert_exporter": "python",
   "pygments_lexer": "ipython3",
   "version": "3.10.9"
  }
 },
 "nbformat": 4,
 "nbformat_minor": 2
}
