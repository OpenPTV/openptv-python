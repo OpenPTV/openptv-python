{
 "cells": [
  {
   "cell_type": "code",
   "execution_count": 1,
   "metadata": {},
   "outputs": [],
   "source": [
    "import unittest\n",
    "from typing import List, Optional\n",
    "from dataclasses import dataclass\n",
    "\n"
   ]
  },
  {
   "cell_type": "code",
   "execution_count": 2,
   "metadata": {},
   "outputs": [],
   "source": [
    "from openptv_python.tracking_frame_buf import n_tupel"
   ]
  },
  {
   "cell_type": "code",
   "execution_count": 3,
   "metadata": {},
   "outputs": [],
   "source": [
    "def run_test(tcls):\n",
    "    \"\"\"\n",
    "    Runs unit tests from a test class\n",
    "    :param tcls: A class, derived from unittest.TestCase\n",
    "    \"\"\"\n",
    "    suite = unittest.TestLoader().loadTestsFromTestCase(tcls)\n",
    "    runner = unittest.TextTestRunner(verbosity=2)\n",
    "    runner.run(suite)"
   ]
  },
  {
   "cell_type": "code",
   "execution_count": 4,
   "metadata": {},
   "outputs": [],
   "source": [
    "\n",
    "def take_best_candidates(src: List[n_tupel], dst: List[n_tupel], num_cams: int, num_cands: int, tusage: List[List[int]]) -> int:\n",
    "    taken: int = 0\n",
    "\n",
    "    # Sort candidates by match quality (.corr)\n",
    "    src.sort(key=lambda x: x.corr)\n",
    "\n",
    "    # Take quadruplets from the top to the bottom of the sorted list\n",
    "    # only if none of the points has already been used\n",
    "    for cand in range(num_cands):\n",
    "        has_used_target: bool = False\n",
    "        for cam in range(num_cams):\n",
    "            tnum: int = src[cand]['p'][cam]\n",
    "\n",
    "            # If any correspondence in this camera, check that target is free\n",
    "            if tnum > -1 and tusage[cam][tnum] > 0:\n",
    "                has_used_target = True\n",
    "                break\n",
    "\n",
    "        if has_used_target:\n",
    "            continue\n",
    "\n",
    "        # Only now can we commit to marking used targets.\n",
    "        for cam in range(num_cams):\n",
    "            tnum = src[cand]['p'][cam]\n",
    "            if tnum > -1:\n",
    "                tusage[cam][tnum] += 1\n",
    "        dst[taken] = src[cand]\n",
    "        taken += 1\n",
    "\n",
    "    return taken\n",
    "\n"
   ]
  },
  {
   "cell_type": "code",
   "execution_count": 5,
   "metadata": {},
   "outputs": [
    {
     "name": "stderr",
     "output_type": "stream",
     "text": [
      "test_no_candidates (__main__.TestTakeBestCandidates) ... ok\n",
      "test_pairs (__main__.TestTakeBestCandidates) ... ok\n",
      "test_quadruplets (__main__.TestTakeBestCandidates) ... ok\n",
      "test_triplets (__main__.TestTakeBestCandidates) ... ok\n",
      "\n",
      "----------------------------------------------------------------------\n",
      "Ran 4 tests in 0.006s\n",
      "\n",
      "OK\n"
     ]
    },
    {
     "name": "stdout",
     "output_type": "stream",
     "text": [
      "[<openptv_python.tracking_frame_buf.n_tupel object at 0x7f69b4283e50>, <openptv_python.tracking_frame_buf.n_tupel object at 0x7f69b4281930>, <openptv_python.tracking_frame_buf.n_tupel object at 0x7f69b4283df0>, <openptv_python.tracking_frame_buf.n_tupel object at 0x7f69d99bee00>]\n",
      "[<openptv_python.tracking_frame_buf.n_tupel object at 0x7f69b4283e50>, <openptv_python.tracking_frame_buf.n_tupel object at 0x7f69b4281930>, <openptv_python.tracking_frame_buf.n_tupel object at 0x7f69b4283df0>, <openptv_python.tracking_frame_buf.n_tupel object at 0x7f69d99bee00>]\n"
     ]
    }
   ],
   "source": [
    "@run_test\n",
    "class TestTakeBestCandidates(unittest.TestCase):\n",
    "    def test_quadruplets(self):\n",
    "        src = [\n",
    "            n_tupel(p=[0, 1, 2, 3], corr=0.9),\n",
    "            n_tupel(p=[1, 2, 3, 4], corr=0.8),\n",
    "            n_tupel(p=[2, 3, 4, 5], corr=0.7),\n",
    "            n_tupel(p=[3, 4, 5, 6], corr=0.6)\n",
    "        ]\n",
    "        dst = [None] * len(src)\n",
    "        num_cams = 4\n",
    "        num_cands = len(src)\n",
    "        tusage = [[0] * 10 for _ in range(num_cams)]\n",
    "\n",
    "        taken = take_best_candidates(src, dst, num_cams, num_cands, tusage)\n",
    "\n",
    "        self.assertEqual(taken, len(src))\n",
    "        self.assertEqual(dst, src)\n",
    "\n",
    "    def test_triplets(self):\n",
    "        src = [\n",
    "            n_tupel(p=[0, 1, 2, -1], corr=0.9),\n",
    "            n_tupel(p=[1, 2, 3, -1], corr=0.8),\n",
    "            n_tupel(p=[2, 3, 4, -1], corr=0.7),\n",
    "            n_tupel(p=[3, 4, 5, -1], corr=0.6)\n",
    "        ]\n",
    "        dst = [None] * len(src)\n",
    "        num_cams = 4\n",
    "        num_cands = len(src)\n",
    "        tusage = [[0] * 10 for _ in range(num_cams)]\n",
    "\n",
    "        taken = take_best_candidates(src, dst, num_cams, num_cands, tusage)\n",
    "\n",
    "        self.assertEqual(taken, len(src))\n",
    "        self.assertEqual(dst[:taken], src[:taken])\n",
    "\n",
    "    def test_pairs(self):\n",
    "        src = [\n",
    "            n_tupel(p=[0, 1, -1, -1], corr=0.9),\n",
    "            n_tupel(p=[1, 2, -1, -1], corr=0.8),\n",
    "            n_tupel(p=[2, 3, -1, -1], corr=0.7),\n",
    "            n_tupel(p=[3, 4, -1, -1], corr=0.6)\n",
    "        ]\n",
    "        dst = [None] * len(src)\n",
    "        num_cams = 4\n",
    "        num_cands = len(src)\n",
    "        tusage = [[0] * 10 for _ in range(num_cams)]\n",
    "\n",
    "        taken = take_best_candidates(src, dst, num_cams, num_cands, tusage)\n",
    "\n",
    "        self.assertEqual(taken, len(src))\n",
    "        print(dst[:taken])\n",
    "        print(src[:taken])\n",
    "        self.assertEqual(dst[:taken], src[:taken])\n",
    "\n",
    "    def test_no_candidates(self):\n",
    "        src = []\n",
    "        dst = [None] * 10  # Just to test that dst is not modified\n",
    "        num_cams = 4\n",
    "        num_cands = 0\n",
    "        tusage = [[0] * 10 for _ in range(num_cams)]\n",
    "\n",
    "        taken = take_best_candidates(src, dst, num_cams, num_cands, tusage)\n",
    "\n",
    "        self.assertEqual(taken, 0)\n",
    "        self.assertEqual(dst, [None] * 10)\n",
    "\n",
    "\n",
    "# if __name__ == '__main__':\n",
    "# \n"
   ]
  }
 ],
 "metadata": {
  "kernelspec": {
   "display_name": "openptvpy",
   "language": "python",
   "name": "python3"
  },
  "language_info": {
   "codemirror_mode": {
    "name": "ipython",
    "version": 3
   },
   "file_extension": ".py",
   "mimetype": "text/x-python",
   "name": "python",
   "nbconvert_exporter": "python",
   "pygments_lexer": "ipython3",
   "version": "3.10.9"
  },
  "orig_nbformat": 4
 },
 "nbformat": 4,
 "nbformat_minor": 2
}
