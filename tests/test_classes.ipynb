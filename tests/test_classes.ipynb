{
 "cells": [
  {
   "cell_type": "code",
   "execution_count": 16,
   "metadata": {},
   "outputs": [],
   "source": [
    "from dataclasses import dataclass, field, replace\n",
    "from typing import List, Optional, Tuple, Union\n",
    "import numpy as np\n",
    "from pprint import pprint as print\n"
   ]
  },
  {
   "cell_type": "code",
   "execution_count": 17,
   "metadata": {},
   "outputs": [],
   "source": [
    "from openptv_python.calibration import rotation_matrix\n",
    "\n",
    "@dataclass\n",
    "class Exterior:\n",
    "    x0: float = field()\n",
    "    y0: float = field()\n",
    "    z0: float = field()\n",
    "    omega: float = field()\n",
    "    phi: float = field()\n",
    "    kappa: float = field()\n",
    "    dm: np.ndarray = field(init=False, repr=False)\n",
    "    \n",
    "    def rotation_matrix(self) -> np.ndarray:\n",
    "        \"\"\"Return the rotation matrix.\"\"\"\n",
    "        om, ph, ka = self.omega, self.phi, self.kappa\n",
    "        return np.array(\n",
    "            [\n",
    "                [\n",
    "                    np.cos(ph) * np.cos(ka),\n",
    "                    np.sin(om) * np.sin(ph) * np.cos(ka) + np.cos(om) * np.sin(ka),\n",
    "                    -np.cos(om) * np.sin(ph) * np.cos(ka) + np.sin(om) * np.sin(ka),\n",
    "                ],\n",
    "                [\n",
    "                    -np.cos(ph) * np.sin(ka),\n",
    "                    -np.sin(om) * np.sin(ph) * np.sin(ka) + np.cos(om) * np.cos(ka),\n",
    "                    np.cos(om) * np.sin(ph) * np.sin(ka) + np.sin(om) * np.cos(ka),\n",
    "                ],\n",
    "                [np.sin(ph), -np.sin(om) * np.cos(ph), np.cos(om) * np.cos(ph)],\n",
    "            ]\n",
    "        )\n",
    "        \n",
    "    def set_rotation_matrix(self) -> None:\n",
    "        self.replace(dm=rotation_matrix())\n",
    "        "
   ]
  },
  {
   "cell_type": "code",
   "execution_count": 18,
   "metadata": {},
   "outputs": [],
   "source": [
    "\n",
    "@dataclass\n",
    "class ap_52:\n",
    "    k1: float = 0.0\n",
    "    k2: float = 0.0\n",
    "    k3: float = 0.0\n",
    "    p1: float = 0.0\n",
    "    p2: float = 0.0\n",
    "    scx: float = 1.0\n",
    "    she: float = 0.0\n",
    "    \n",
    "    def set_k(self, klist: list) -> None:\n",
    "        self.k1, self.k2, self.k3 = klist\n",
    "        "
   ]
  },
  {
   "cell_type": "code",
   "execution_count": 19,
   "metadata": {},
   "outputs": [
    {
     "name": "stdout",
     "output_type": "stream",
     "text": [
      "ap_52(k1=0.0, k2=0.0, k3=0.0, p1=0.0, p2=0.0, scx=1.0, she=0.0)\n"
     ]
    }
   ],
   "source": [
    "add_par = ap_52()\n",
    "print(add_par)"
   ]
  },
  {
   "cell_type": "code",
   "execution_count": 20,
   "metadata": {},
   "outputs": [
    {
     "name": "stdout",
     "output_type": "stream",
     "text": [
      "ap_52(k1=1e-05, k2=0.0, k3=0.0, p1=0.0, p2=0.0, scx=1.0, she=0.0)\n"
     ]
    }
   ],
   "source": [
    "add_par.k1 = 1e-5\n",
    "print(add_par)"
   ]
  },
  {
   "cell_type": "code",
   "execution_count": 21,
   "metadata": {},
   "outputs": [
    {
     "data": {
      "text/plain": [
       "ap_52(k1=1000.0, k2=0.0, k3=0.0, p1=0.0, p2=0.0, scx=1.0, she=0.0)"
      ]
     },
     "execution_count": 21,
     "metadata": {},
     "output_type": "execute_result"
    }
   ],
   "source": [
    "replace(add_par, k1=1e3)"
   ]
  },
  {
   "cell_type": "code",
   "execution_count": 22,
   "metadata": {},
   "outputs": [
    {
     "name": "stdout",
     "output_type": "stream",
     "text": [
      "ap_52(k1=1e-05, k2=0.0, k3=0.0, p1=0.0, p2=0.0, scx=1.0, she=0.0)\n"
     ]
    }
   ],
   "source": [
    "print(add_par)"
   ]
  },
  {
   "cell_type": "code",
   "execution_count": 23,
   "metadata": {},
   "outputs": [
    {
     "name": "stdout",
     "output_type": "stream",
     "text": [
      "ap_52(k1=1000.0, k2=0.0, k3=0.0, p1=0.0, p2=0.0, scx=1.0, she=0.0)\n"
     ]
    }
   ],
   "source": [
    "other_par = ap_52(k1=1e3)\n",
    "print(other_par)"
   ]
  },
  {
   "cell_type": "code",
   "execution_count": 25,
   "metadata": {},
   "outputs": [],
   "source": [
    "add_par.set_k([1e-5, 1e-5, 1e-5])"
   ]
  },
  {
   "cell_type": "code",
   "execution_count": 26,
   "metadata": {},
   "outputs": [
    {
     "data": {
      "text/plain": [
       "ap_52(k1=1e-05, k2=1e-05, k3=1e-05, p1=0.0, p2=0.0, scx=1.0, she=0.0)"
      ]
     },
     "execution_count": 26,
     "metadata": {},
     "output_type": "execute_result"
    }
   ],
   "source": [
    "add_par"
   ]
  },
  {
   "cell_type": "code",
   "execution_count": 29,
   "metadata": {},
   "outputs": [
    {
     "data": {
      "text/plain": [
       "ap_52(k1=1e-05, k2=1e-05, k3=1e-05, p1=0.0, p2=0.0, scx=1.0, she=0.0)"
      ]
     },
     "execution_count": 29,
     "metadata": {},
     "output_type": "execute_result"
    }
   ],
   "source": [
    "tmp = ap_52()\n",
    "tmp.set_k([1e-5, 1e-5, 1e-5])\n",
    "tmp"
   ]
  },
  {
   "cell_type": "code",
   "execution_count": 30,
   "metadata": {},
   "outputs": [
    {
     "data": {
      "text/plain": [
       "ap_52(k1=0.0, k2=0.0, k3=0.0, p1=0.0, p2=0.0, scx=1.0, she=0.0)"
      ]
     },
     "execution_count": 30,
     "metadata": {},
     "output_type": "execute_result"
    }
   ],
   "source": [
    "tmp = ap_52()\n",
    "tmp"
   ]
  },
  {
   "cell_type": "code",
   "execution_count": null,
   "metadata": {},
   "outputs": [],
   "source": []
  }
 ],
 "metadata": {
  "kernelspec": {
   "display_name": "openptvpy",
   "language": "python",
   "name": "python3"
  },
  "language_info": {
   "codemirror_mode": {
    "name": "ipython",
    "version": 3
   },
   "file_extension": ".py",
   "mimetype": "text/x-python",
   "name": "python",
   "nbconvert_exporter": "python",
   "pygments_lexer": "ipython3",
   "version": "3.10.9"
  },
  "orig_nbformat": 4
 },
 "nbformat": 4,
 "nbformat_minor": 2
}
