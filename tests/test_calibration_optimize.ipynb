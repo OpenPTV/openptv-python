{
 "cells": [
  {
   "cell_type": "code",
   "execution_count": 21,
   "metadata": {},
   "outputs": [],
   "source": [
    "# test calibration using scipy.optimize\n"
   ]
  },
  {
   "cell_type": "code",
   "execution_count": 22,
   "metadata": {},
   "outputs": [],
   "source": [
    "import unittest\n",
    "\n",
    "import numpy as np\n",
    "import scipy.optimize as opt\n",
    "\n",
    "from openptv_python.calibration import (\n",
    "    Calibration,\n",
    ")\n",
    "from openptv_python.imgcoord import image_coordinates\n",
    "from openptv_python.orientation import (\n",
    "    external_calibration,\n",
    ")\n",
    "from openptv_python.parameters import ControlPar, OrientPar, VolumePar, read_control_par\n",
    "from openptv_python.tracking_frame_buf import TargetArray\n",
    "from openptv_python.trafo import arr_metric_to_pixel\n",
    "from openptv_python.imgcoord import img_coord\n",
    "from openptv_python.trafo import pixel_to_metric\n",
    "from openptv_python.tracking_frame_buf import Target\n"
   ]
  },
  {
   "cell_type": "code",
   "execution_count": 23,
   "metadata": {},
   "outputs": [],
   "source": [
    "class TestGradientDescent(unittest.TestCase):\n",
    "    # Based on the C tests in liboptv/check_orientation.c\n",
    "\n",
    "    def setUp(self):\n",
    "        control_file_name = \"testing_folder/corresp/control.par\"\n",
    "        # self.control = ControlPar(4)\n",
    "        self.control = read_control_par(control_file_name)\n",
    "\n",
    "        self.orient_par_file_name = \"testing_folder/corresp/orient.par\"\n",
    "        self.orient_par = OrientPar().from_file(self.orient_par_file_name)\n",
    "\n",
    "        self.cal = Calibration().from_file(\n",
    "            \"testing_folder/calibration/cam1.tif.ori\",\n",
    "            \"testing_folder/calibration/cam1.tif.addpar\",\n",
    "        )\n",
    "        self.orig_cal = Calibration().from_file(\n",
    "            \"testing_folder/calibration/cam1.tif.ori\",\n",
    "            \"testing_folder/calibration/cam1.tif.addpar\",\n",
    "        )\n",
    "\n",
    "        \n",
    "    def test_external_calibration(self):\n",
    "        \"\"\"External calibration using clicked points.\"\"\"\n",
    "        ref_pts = np.array(\n",
    "            [\n",
    "                [-40.0, -25.0, 8.0],\n",
    "                [40.0, -15.0, 0.0],\n",
    "                [40.0, 15.0, 0.0],\n",
    "                [40.0, 0.0, 8.0],\n",
    "            ]\n",
    "        )\n",
    "\n",
    "        # Fake the image points by back-projection\n",
    "        targets = arr_metric_to_pixel(\n",
    "            image_coordinates(ref_pts, self.cal, self.control.mm),\n",
    "            self.control,\n",
    "        )\n",
    "\n",
    "        # Jigg the fake detections to give raw_orient some challenge.\n",
    "        targets[:, 1] -= 0.1\n",
    "\n",
    "        self.assertTrue(external_calibration(self.cal, ref_pts, targets, self.control))\n",
    "        np.testing.assert_array_almost_equal(\n",
    "            self.cal.get_angles(), self.orig_cal.get_angles(), decimal=3\n",
    "        )\n",
    "        np.testing.assert_array_almost_equal(\n",
    "            self.cal.get_pos(), self.orig_cal.get_pos(), decimal=3\n",
    "    )"
   ]
  },
  {
   "cell_type": "code",
   "execution_count": 24,
   "metadata": {},
   "outputs": [
    {
     "name": "stderr",
     "output_type": "stream",
     "text": [
      "test_external_calibration (__main__.TestGradientDescent)\n",
      "External calibration using clicked points. ... ok\n",
      "\n",
      "----------------------------------------------------------------------\n",
      "Ran 1 test in 0.014s\n",
      "\n",
      "OK\n"
     ]
    },
    {
     "name": "stdout",
     "output_type": "stream",
     "text": [
      "Coefficients (beta): [ 1.80534911e-04 -6.77499328e-05 -6.52416361e-04 -1.77426081e-05\n",
      " -1.31470856e-07  4.02517087e-06]\n",
      "Residuals: []\n",
      "rank: 6\n",
      "singular_values: None\n"
     ]
    },
    {
     "data": {
      "text/plain": [
       "<unittest.main.TestProgram at 0x7f946fcd6e90>"
      ]
     },
     "execution_count": 24,
     "metadata": {},
     "output_type": "execute_result"
    }
   ],
   "source": [
    "unittest.main(argv=[''], verbosity=2, exit=False)"
   ]
  },
  {
   "cell_type": "code",
   "execution_count": 25,
   "metadata": {},
   "outputs": [],
   "source": [
    "control_file_name = \"testing_folder/corresp/control.par\"\n",
    "control = read_control_par(control_file_name)\n",
    "\n",
    "orient_par_file_name = \"testing_folder/corresp/orient.par\"\n",
    "orient_par = OrientPar().from_file(orient_par_file_name)\n",
    "\n",
    "cal = Calibration().from_file(\n",
    "    \"testing_folder/calibration/cam1.tif.ori\",\n",
    "    \"testing_folder/calibration/cam1.tif.addpar\",\n",
    ")\n",
    "orig_cal = Calibration().from_file(\n",
    "    \"testing_folder/calibration/cam1.tif.ori\",\n",
    "    \"testing_folder/calibration/cam1.tif.addpar\")"
   ]
  },
  {
   "cell_type": "code",
   "execution_count": 26,
   "metadata": {},
   "outputs": [],
   "source": [
    "ref_pts = np.array(\n",
    "    [\n",
    "        [-40.0, -25.0, 8.0],\n",
    "        [40.0, -15.0, 0.0],\n",
    "        [40.0, 15.0, 0.0],\n",
    "        [40.0, 0.0, 8.0],\n",
    "    ]\n",
    ")\n",
    "\n",
    "# Fake the image points by back-projection\n",
    "targets = arr_metric_to_pixel(\n",
    "    image_coordinates(ref_pts, cal, control.mm),\n",
    "    control,\n",
    ")\n",
    "\n",
    "cal.set_pos(np.array([0, 0, 100]))\n",
    "cal.set_angles(np.array([0, 0, 0]))\n",
    "\n",
    "# Jigg the fake detections to give raw_orient some challenge.\n",
    "targets[:, 1] -= 0.1"
   ]
  },
  {
   "cell_type": "code",
   "execution_count": 27,
   "metadata": {},
   "outputs": [],
   "source": [
    "targs = [Target() for _ in targets]\n",
    "\n",
    "for ptx, pt in enumerate(targets):\n",
    "    targs[ptx].x = pt[0]\n",
    "    targs[ptx].y = pt[1]"
   ]
  },
  {
   "cell_type": "code",
   "execution_count": 40,
   "metadata": {},
   "outputs": [],
   "source": [
    "\n",
    "\n",
    "def residual(calibration_array, ref_pts, targs, control, cc):\n",
    "    # print(calibration_array)\n",
    "    # print(ref_pts)\n",
    "    # print(targs)\n",
    "    # print(control)\n",
    "    # print(calibration_array)\n",
    "    \n",
    "    c = Calibration()\n",
    "    c.set_pos(calibration_array[:3])\n",
    "    c.set_angles(calibration_array[3:])\n",
    "    c.int_par.cc = cc\n",
    "    c.update_rotation_matrix()\n",
    "    \n",
    "    \n",
    "    # print(f\"{c.get_pos()=}\")\n",
    "                \n",
    "    residual = 0\n",
    "    for i in range(len(targs)):\n",
    "        xc, yc = pixel_to_metric(targs[i].x, targs[i].y, control)\n",
    "        # print(f\"{xc=}, {yc=} mm\")\n",
    "        \n",
    "        xp, yp = img_coord(ref_pts[i], c, control.mm)\n",
    "        # print(f\"{xp=}, {yp=} mm\")\n",
    "        residual += ((xc - xp)**2 + (yc - yp)**2)\n",
    "        \n",
    "        # print(f\"{residual=}\")\n",
    "        \n",
    "    return residual"
   ]
  },
  {
   "cell_type": "code",
   "execution_count": 41,
   "metadata": {},
   "outputs": [],
   "source": [
    "x0 = np.hstack([cal.get_pos(), cal.get_angles()])\n",
    "cc = orig_cal.int_par.cc\n",
    "\n",
    "sol = opt.minimize(residual, x0, args=(ref_pts, targs, control, cc), method='Nelder-Mead', tol=1e-6)"
   ]
  },
  {
   "cell_type": "code",
   "execution_count": 43,
   "metadata": {},
   "outputs": [
    {
     "name": "stdout",
     "output_type": "stream",
     "text": [
      "sol.x=array([-3.79876331e+00,  3.77309709e+01,  4.03575316e+02, -8.61982784e-02,\n",
      "       -6.33837589e-02,  5.14334685e-02])\n",
      "[-1.09061963e+02 -6.50148291e+01 -3.06884099e-01  1.52130822e-01\n",
      " -3.07664759e-01 -3.82423146e-03]\n"
     ]
    }
   ],
   "source": [
    "print(f\"{sol.x=}\")\n",
    "print(sol.x - np.hstack([orig_cal.get_pos(), orig_cal.get_angles()]))"
   ]
  },
  {
   "cell_type": "code",
   "execution_count": 39,
   "metadata": {},
   "outputs": [
    {
     "name": "stdout",
     "output_type": "stream",
     "text": [
      "93.58853214427855\n"
     ]
    }
   ],
   "source": [
    "print( residual(np.hstack([orig_cal.get_pos(), orig_cal.get_angles()]), ref_pts, targs, control, orig_cal.int_par.cc))"
   ]
  },
  {
   "cell_type": "code",
   "execution_count": null,
   "metadata": {},
   "outputs": [],
   "source": []
  }
 ],
 "metadata": {
  "kernelspec": {
   "display_name": "openptvpy",
   "language": "python",
   "name": "python3"
  },
  "language_info": {
   "codemirror_mode": {
    "name": "ipython",
    "version": 3
   },
   "file_extension": ".py",
   "mimetype": "text/x-python",
   "name": "python",
   "nbconvert_exporter": "python",
   "pygments_lexer": "ipython3",
   "version": "3.10.9"
  }
 },
 "nbformat": 4,
 "nbformat_minor": 2
}
