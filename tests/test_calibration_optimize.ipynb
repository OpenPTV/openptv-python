{
 "cells": [
  {
   "cell_type": "code",
   "execution_count": 5,
   "metadata": {},
   "outputs": [],
   "source": [
    "# test calibration using scipy.optimize\n",
    "\n",
    "import numpy as np\n",
    "import scipy.optimize as opt"
   ]
  },
  {
   "cell_type": "code",
   "execution_count": 6,
   "metadata": {},
   "outputs": [],
   "source": [
    "import unittest\n",
    "\n",
    "import numpy as np\n",
    "\n",
    "from openptv_python.calibration import (\n",
    "    Calibration,\n",
    ")\n",
    "from openptv_python.imgcoord import image_coordinates\n",
    "from openptv_python.orientation import (\n",
    "    external_calibration,\n",
    ")\n",
    "from openptv_python.parameters import ControlPar, OrientPar, VolumePar, read_control_par\n",
    "from openptv_python.tracking_frame_buf import TargetArray\n",
    "from openptv_python.trafo import arr_metric_to_pixel"
   ]
  },
  {
   "cell_type": "code",
   "execution_count": 7,
   "metadata": {},
   "outputs": [],
   "source": [
    "class TestGradientDescent(unittest.TestCase):\n",
    "    # Based on the C tests in liboptv/check_orientation.c\n",
    "\n",
    "    def setUp(self):\n",
    "        control_file_name = \"testing_folder/corresp/control.par\"\n",
    "        # self.control = ControlPar(4)\n",
    "        self.control = read_control_par(control_file_name)\n",
    "\n",
    "        self.orient_par_file_name = \"testing_folder/corresp/orient.par\"\n",
    "        self.orient_par = OrientPar().from_file(self.orient_par_file_name)\n",
    "\n",
    "        self.cal = Calibration().from_file(\n",
    "            \"testing_folder/calibration/cam1.tif.ori\",\n",
    "            \"testing_folder/calibration/cam1.tif.addpar\",\n",
    "        )\n",
    "        self.orig_cal = Calibration().from_file(\n",
    "            \"testing_folder/calibration/cam1.tif.ori\",\n",
    "            \"testing_folder/calibration/cam1.tif.addpar\",\n",
    "        )\n",
    "\n",
    "        \n",
    "    def test_external_calibration(self):\n",
    "        \"\"\"External calibration using clicked points.\"\"\"\n",
    "        ref_pts = np.array(\n",
    "            [\n",
    "                [-40.0, -25.0, 8.0],\n",
    "                [40.0, -15.0, 0.0],\n",
    "                [40.0, 15.0, 0.0],\n",
    "                [40.0, 0.0, 8.0],\n",
    "            ]\n",
    "        )\n",
    "\n",
    "        # Fake the image points by back-projection\n",
    "        targets = arr_metric_to_pixel(\n",
    "            image_coordinates(ref_pts, self.cal, self.control.mm),\n",
    "            self.control,\n",
    "        )\n",
    "\n",
    "        # Jigg the fake detections to give raw_orient some challenge.\n",
    "        targets[:, 1] -= 0.1\n",
    "\n",
    "        self.assertTrue(external_calibration(self.cal, ref_pts, targets, self.control))\n",
    "        np.testing.assert_array_almost_equal(\n",
    "            self.cal.get_angles(), self.orig_cal.get_angles(), decimal=3\n",
    "        )\n",
    "        np.testing.assert_array_almost_equal(\n",
    "            self.cal.get_pos(), self.orig_cal.get_pos(), decimal=3\n",
    "    )"
   ]
  },
  {
   "cell_type": "code",
   "execution_count": 8,
   "metadata": {},
   "outputs": [
    {
     "name": "stderr",
     "output_type": "stream",
     "text": [
      "test_external_calibration (__main__.TestGradientDescent)\n",
      "External calibration using clicked points. ... ok\n",
      "\n",
      "----------------------------------------------------------------------\n",
      "Ran 1 test in 0.120s\n",
      "\n",
      "OK\n"
     ]
    },
    {
     "name": "stdout",
     "output_type": "stream",
     "text": [
      "Coefficients (beta): [ 1.80534911e-04 -6.77499328e-05 -6.52416361e-04 -1.77426081e-05\n",
      " -1.31470856e-07  4.02517087e-06]\n",
      "Residuals: []\n",
      "rank: 6\n",
      "singular_values: None\n"
     ]
    },
    {
     "data": {
      "text/plain": [
       "<unittest.main.TestProgram at 0x7f10eb2886a0>"
      ]
     },
     "execution_count": 8,
     "metadata": {},
     "output_type": "execute_result"
    }
   ],
   "source": [
    "unittest.main(argv=[''], verbosity=2, exit=False)"
   ]
  }
 ],
 "metadata": {
  "kernelspec": {
   "display_name": "openptvpy",
   "language": "python",
   "name": "python3"
  },
  "language_info": {
   "codemirror_mode": {
    "name": "ipython",
    "version": 3
   },
   "file_extension": ".py",
   "mimetype": "text/x-python",
   "name": "python",
   "nbconvert_exporter": "python",
   "pygments_lexer": "ipython3",
   "version": "3.10.9"
  }
 },
 "nbformat": 4,
 "nbformat_minor": 2
}
