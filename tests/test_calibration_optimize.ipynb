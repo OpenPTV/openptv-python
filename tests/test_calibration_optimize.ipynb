{
 "cells": [
  {
   "cell_type": "code",
   "execution_count": 1,
   "metadata": {},
   "outputs": [],
   "source": [
    "# test calibration using scipy.optimize"
   ]
  },
  {
   "cell_type": "code",
   "execution_count": 2,
   "metadata": {},
   "outputs": [],
   "source": [
    "import numpy as np\n",
    "import scipy.optimize as opt\n",
    "\n",
    "from openptv_python.calibration import Calibration\n",
    "from openptv_python.imgcoord import image_coordinates\n",
    "from openptv_python.orientation import (\n",
    "    external_calibration,\n",
    "    full_calibration\n",
    ")\n",
    "from openptv_python.parameters import ControlPar, OrientPar, read_control_par\n",
    "from openptv_python.tracking_frame_buf import Target\n",
    "from openptv_python.trafo import arr_metric_to_pixel\n",
    "from openptv_python.imgcoord import img_coord\n",
    "from openptv_python.trafo import pixel_to_metric\n",
    "from openptv_python.tracking_frame_buf import Target\n"
   ]
  },
  {
   "cell_type": "code",
   "execution_count": 3,
   "metadata": {},
   "outputs": [],
   "source": [
    "\n",
    "control_file_name = \"testing_folder/corresp/control.par\"\n",
    "# self.control = ControlPar(4)\n",
    "control = read_control_par(control_file_name)\n",
    "\n",
    "orient_par_file_name = \"testing_folder/corresp/orient.par\"\n",
    "orient_par = OrientPar().from_file(orient_par_file_name)\n",
    "\n",
    "cal = Calibration().from_file(\n",
    "    \"testing_folder/calibration/cam1.tif.ori\",\n",
    "    \"testing_folder/calibration/cam1.tif.addpar\",\n",
    ")\n",
    "orig_cal = Calibration().from_file(\n",
    "    \"testing_folder/calibration/cam1.tif.ori\",\n",
    "    \"testing_folder/calibration/cam1.tif.addpar\",\n",
    ")\n",
    "\n",
    "\n",
    "# def test_external_calibration(self):\n",
    "\"\"\"External calibration using clicked points.\"\"\"\n",
    "ref_pts = np.array(\n",
    "    [\n",
    "        [-40.0, -25.0, 8.0],\n",
    "        [40.0, -15.0, 0.0],\n",
    "        [40.0, 15.0, 0.0],\n",
    "        [40.0, 0.0, 8.0],\n",
    "    ]\n",
    ")\n",
    "\n",
    "# Fake the image points by back-projection\n",
    "targets = arr_metric_to_pixel(\n",
    "    image_coordinates(ref_pts, cal, control.mm),\n",
    "    control,\n",
    ")\n",
    "\n",
    "# Jigg the fake detections to give raw_orient some challenge.\n",
    "targets[:, 1] -= 0.1\n",
    "\n",
    "external_calibration(cal, ref_pts, targets, control)\n",
    "\n",
    "np.testing.assert_array_almost_equal(\n",
    "    cal.get_angles(), orig_cal.get_angles(), decimal=3\n",
    ")\n",
    "np.testing.assert_array_almost_equal(\n",
    "    cal.get_pos(), orig_cal.get_pos(), decimal=3\n",
    ")\n",
    "\n",
    "\n",
    "_, _, _ = full_calibration(\n",
    "            cal,\n",
    "            ref_pts,\n",
    "            targets,\n",
    "            control,\n",
    "            orient_par\n",
    "            )\n",
    "\n",
    "np.testing.assert_array_almost_equal(\n",
    "    cal.get_angles(), orig_cal.get_angles(), decimal=3\n",
    ")\n",
    "np.testing.assert_array_almost_equal(\n",
    "    cal.get_pos(), orig_cal.get_pos(), decimal=3\n",
    ")"
   ]
  },
  {
   "cell_type": "code",
   "execution_count": 4,
   "metadata": {},
   "outputs": [],
   "source": [
    "control_file_name = \"testing_folder/corresp/control.par\"\n",
    "control = read_control_par(control_file_name)\n",
    "\n",
    "orient_par_file_name = \"testing_folder/corresp/orient.par\"\n",
    "orient_par = OrientPar().from_file(orient_par_file_name)\n",
    "\n",
    "cal = Calibration().from_file(\n",
    "    \"testing_folder/calibration/cam1.tif.ori\",\n",
    "    \"testing_folder/calibration/cam1.tif.addpar\",\n",
    ")\n",
    "orig_cal = Calibration().from_file(\n",
    "    \"testing_folder/calibration/cam1.tif.ori\",\n",
    "    \"testing_folder/calibration/cam1.tif.addpar\")"
   ]
  },
  {
   "cell_type": "code",
   "execution_count": 5,
   "metadata": {},
   "outputs": [],
   "source": [
    "ref_pts = np.array(\n",
    "    [\n",
    "        [-40.0, -25.0, 8.0],\n",
    "        [40.0, -15.0, 0.0],\n",
    "        [40.0, 15.0, 0.0],\n",
    "        [40.0, 0.0, 8.0],\n",
    "    ]\n",
    ")\n",
    "\n",
    "# Fake the image points by back-projection\n",
    "targets = arr_metric_to_pixel(\n",
    "    image_coordinates(ref_pts, cal, control.mm),\n",
    "    control,\n",
    ")\n",
    "\n",
    "cal.set_pos(np.array([0, 0, 100]))\n",
    "cal.set_angles(np.array([0, 0, 0]))\n",
    "\n",
    "# Jigg the fake detections to give raw_orient some challenge.\n",
    "targets[:, 1] -= 0.1"
   ]
  },
  {
   "cell_type": "code",
   "execution_count": 6,
   "metadata": {},
   "outputs": [],
   "source": [
    "targs = [Target() for _ in targets]\n",
    "\n",
    "for ptx, pt in enumerate(targets):\n",
    "    targs[ptx].x = pt[0]\n",
    "    targs[ptx].y = pt[1]"
   ]
  },
  {
   "cell_type": "code",
   "execution_count": 7,
   "metadata": {},
   "outputs": [],
   "source": [
    "# def residual(calibration_array, ref_pts, targs, control, cc):\n",
    "#     # print(calibration_array)\n",
    "#     # print(ref_pts)\n",
    "#     # print(targs)\n",
    "#     # print(control)\n",
    "#     # print(calibration_array)\n",
    "    \n",
    "#     c = Calibration()\n",
    "#     c.set_pos(calibration_array[:3])\n",
    "#     c.set_angles(calibration_array[3:])\n",
    "#     c.int_par.cc = cc\n",
    "#     c.update_rotation_matrix()\n",
    "    \n",
    "    \n",
    "#     # print(f\"{c.get_pos()=}\")\n",
    "                \n",
    "#     residual = 0\n",
    "#     for i in range(len(targs)):\n",
    "#         xc, yc = pixel_to_metric(targs[i].x, targs[i].y, control)\n",
    "#         # print(f\"{xc=}, {yc=} mm\")\n",
    "        \n",
    "#         xp, yp = img_coord(ref_pts[i], c, control.mm)\n",
    "#         # print(f\"{xp=}, {yp=} mm\")\n",
    "#         residual += ((xc - xp)**2 + (yc - yp)**2)\n",
    "        \n",
    "#         # print(f\"{residual=}\")\n",
    "        \n",
    "#     return residual"
   ]
  },
  {
   "cell_type": "code",
   "execution_count": 8,
   "metadata": {},
   "outputs": [],
   "source": [
    "# x0 = np.hstack([cal.get_pos(), cal.get_angles()])\n",
    "# cc = orig_cal.int_par.cc\n",
    "\n",
    "# sol = opt.minimize(residual, x0, args=(ref_pts, targs, control, cc), method='Nelder-Mead', tol=1e-6)"
   ]
  },
  {
   "cell_type": "code",
   "execution_count": null,
   "metadata": {},
   "outputs": [],
   "source": []
  },
  {
   "cell_type": "code",
   "execution_count": 9,
   "metadata": {},
   "outputs": [],
   "source": [
    "# print( residual(np.hstack([orig_cal.get_pos(), orig_cal.get_angles()]), ref_pts, targs, control, orig_cal.int_par.cc))"
   ]
  },
  {
   "cell_type": "code",
   "execution_count": 10,
   "metadata": {},
   "outputs": [],
   "source": [
    "import copy\n",
    "def added_par_residual(added_par_array, ref_pts, targs, control, cal):\n",
    "    # print(calibration_array)\n",
    "    # print(ref_pts)\n",
    "    # print(targs)\n",
    "    # print(control)\n",
    "    # print(calibration_array)\n",
    "    c = copy.deepcopy(cal)\n",
    "    c.added_par = added_par_array\n",
    "    \n",
    "    # print(f\"{c.get_pos()=}\")\n",
    "                \n",
    "    residual = 0\n",
    "    for i in range(len(targs)):\n",
    "        xc, yc = pixel_to_metric(targs[i].x, targs[i].y, control)\n",
    "        # print(f\"{xc=}, {yc=} mm\")\n",
    "        \n",
    "        xp, yp = img_coord(ref_pts[i], c, control.mm)\n",
    "        # print(f\"{xp=}, {yp=} mm\")\n",
    "        residual += ((xc - xp)**2 + (yc - yp)**2)\n",
    "        \n",
    "        # print(f\"{residual=}\")\n",
    "        \n",
    "    return residual"
   ]
  },
  {
   "cell_type": "code",
   "execution_count": 11,
   "metadata": {},
   "outputs": [
    {
     "name": "stdout",
     "output_type": "stream",
     "text": [
      "sol.x=array([-2.22546580e-03,  1.70567795e-06, -3.75579841e-10, -1.43985798e-03,\n",
      "       -1.07047604e-03,  1.07511509e+00,  8.82840749e-04])\n"
     ]
    }
   ],
   "source": [
    "x0 = np.array(cal.added_par.tolist())\n",
    "\n",
    "sol = opt.minimize(added_par_residual, x0, args=(ref_pts, targs, control, cal), method='Nelder-Mead', tol=1e-6)\n",
    "print(f\"{sol.x=}\")\n",
    "# print(sol.x - np.hstack([orig_cal.get_pos(), orig_cal.get_angles()]))\n",
    "\n"
   ]
  },
  {
   "cell_type": "code",
   "execution_count": 12,
   "metadata": {},
   "outputs": [
    {
     "name": "stdout",
     "output_type": "stream",
     "text": [
      "[0. 0. 0. 0. 0. 1. 0.]\n",
      "[-2.22546580e-03  1.70567795e-06 -3.75579841e-10 -1.43985798e-03\n",
      " -1.07047604e-03  1.07511509e+00  8.82840749e-04]\n",
      "[-2.22546580e-03  1.70567795e-06 -3.75579841e-10 -1.43985798e-03\n",
      " -1.07047604e-03  1.07511509e+00  8.82840749e-04]\n"
     ]
    }
   ],
   "source": [
    "# print(sol.x)\n",
    "print(cal.added_par)\n",
    "cal.set_added_par(sol.x)\n",
    "print(cal.added_par)\n",
    "full_calibration(cal, ref_pts, targets, control, orient_par)\n",
    "print(cal.added_par)"
   ]
  },
  {
   "cell_type": "code",
   "execution_count": 13,
   "metadata": {},
   "outputs": [
    {
     "name": "stdout",
     "output_type": "stream",
     "text": [
      "[17.52102953 16.18864526 99.01488232]\n",
      "[-0.14194853  0.14975585 -0.0373757 ]\n",
      "[ -2.42252617   3.22403363 100.00053252]\n",
      "[-0.00143986 -0.00107048]\n",
      "[-2.22546580e-03  1.70567795e-06 -3.75579841e-10 -1.43985798e-03\n",
      " -1.07047604e-03  1.07511509e+00  8.82840749e-04]\n"
     ]
    }
   ],
   "source": [
    "print(cal.get_pos())\n",
    "print(cal.get_angles())\n",
    "print(cal.get_primary_point())\n",
    "print(cal.get_decentering())\n",
    "print(cal.added_par)"
   ]
  }
 ],
 "metadata": {
  "kernelspec": {
   "display_name": "openptvpy",
   "language": "python",
   "name": "python3"
  },
  "language_info": {
   "codemirror_mode": {
    "name": "ipython",
    "version": 3
   },
   "file_extension": ".py",
   "mimetype": "text/x-python",
   "name": "python",
   "nbconvert_exporter": "python",
   "pygments_lexer": "ipython3",
   "version": "3.12.2"
  }
 },
 "nbformat": 4,
 "nbformat_minor": 2
}
