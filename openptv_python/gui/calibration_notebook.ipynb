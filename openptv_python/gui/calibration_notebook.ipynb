{
 "cells": [
  {
   "cell_type": "markdown",
   "id": "6f9f0452",
   "metadata": {},
   "source": [
    "# Interactive Calibration with OpenPTV-Python\n",
    "This notebook provides a step-by-step GUI for camera calibration using ipywidgets and OpenPTV-Python."
   ]
  },
  {
   "cell_type": "code",
   "execution_count": 1,
   "id": "dc569c98",
   "metadata": {},
   "outputs": [],
   "source": [
    "# Cell 2: Imports\n",
    "import os\n",
    "from pathlib import Path\n",
    "\n",
    "import ipywidgets as widgets\n",
    "from IPython.display import clear_output, display\n",
    "\n",
    "# Ensure matplotlib plots are interactive in the notebook\n",
    "%matplotlib widget"
   ]
  },
  {
   "cell_type": "code",
   "execution_count": 2,
   "id": "7c216f48",
   "metadata": {},
   "outputs": [
    {
     "data": {
      "application/vnd.jupyter.widget-view+json": {
       "model_id": "67d4acc23903476abebc1f1c68b7efd9",
       "version_major": 2,
       "version_minor": 0
      },
      "text/plain": [
       "VBox(children=(Text(value='.', description='Directory:', layout=Layout(width='80%'), placeholder='Enter or pas…"
      ]
     },
     "metadata": {},
     "output_type": "display_data"
    }
   ],
   "source": [
    "# Directory path chooser widget using ipywidgets\n",
    "dir_chooser = widgets.Text(\n",
    "    value=\".\",\n",
    "    placeholder=\"Enter or paste directory path\",\n",
    "    description=\"Directory:\",\n",
    "    layout=widgets.Layout(width=\"80%\"),\n",
    ")\n",
    "\n",
    "# Try to use FileChooser from ipyfilechooser if available\n",
    "try:\n",
    "    from ipyfilechooser import FileChooser\n",
    "\n",
    "    file_chooser = FileChooser(\n",
    "        path=\".\",\n",
    "        select_dirs=True,\n",
    "        show_only_dirs=True,\n",
    "        title=\"Select Working Directory\",\n",
    "    )\n",
    "    file_chooser._apply_path = lambda path: None  # Prevent auto-calling on init\n",
    "    file_chooser_button = widgets.Button(\n",
    "        description=\"Use Selected Folder\", icon=\"check\"\n",
    "    )\n",
    "\n",
    "    def on_file_chooser_select(b):\n",
    "        dir_chooser.value = file_chooser.selected_path or file_chooser.path\n",
    "\n",
    "    file_chooser_button.on_click(on_file_chooser_select)\n",
    "    file_chooser_box = widgets.VBox([file_chooser, file_chooser_button])\n",
    "except ImportError:\n",
    "    file_chooser_box = widgets.HTML(\n",
    "        \"<i>ipyfilechooser not installed. File manager unavailable.</i>\"\n",
    "    )\n",
    "\n",
    "dir_output = widgets.Output()\n",
    "\n",
    "\n",
    "def on_dir_chooser_change(change):\n",
    "    with dir_output:\n",
    "        clear_output(wait=True)\n",
    "        path = Path(change[\"new\"])\n",
    "        if not path.exists() or not path.is_dir():\n",
    "            print(f\"Invalid directory: {path}\")\n",
    "            return\n",
    "        print(f\"Selected working path: {path}\\n\")\n",
    "        # List only directories and top 5 files (ignore hidden)\n",
    "        dirs = [p for p in path.iterdir() if p.is_dir() and not p.name.startswith(\".\")]\n",
    "        files = [\n",
    "            p for p in path.iterdir() if p.is_file() and not p.name.startswith(\".\")\n",
    "        ]\n",
    "        print(\"Directories:\")\n",
    "        for d in dirs:\n",
    "            print(f\"  {d.name}/\")\n",
    "        print(\"\\nTop 5 files:\")\n",
    "        for f in files[:5]:\n",
    "            print(f\"  {f.name}\")\n",
    "        # Assign valid path to working_dir\n",
    "        global working_dir\n",
    "        working_dir = str(path)\n",
    "\n",
    "\n",
    "dir_chooser.observe(on_dir_chooser_change, names=\"value\")\n",
    "\n",
    "display(widgets.VBox([dir_chooser, file_chooser_box, dir_output]))"
   ]
  },
  {
   "cell_type": "code",
   "execution_count": 3,
   "id": "33b5fede",
   "metadata": {},
   "outputs": [
    {
     "name": "stdout",
     "output_type": "stream",
     "text": [
      "/home/user/Documents/repos/test_cavity\n"
     ]
    }
   ],
   "source": [
    "# working_dir = dir_chooser.value\n",
    "print(working_dir)"
   ]
  },
  {
   "cell_type": "code",
   "execution_count": 7,
   "id": "942ef278",
   "metadata": {},
   "outputs": [
    {
     "data": {
      "application/vnd.jupyter.widget-view+json": {
       "model_id": "6ad1556edb684328a6e3a3986715b63d",
       "version_major": 2,
       "version_minor": 0
      },
      "text/plain": [
       "Dropdown(description='Select Run:', layout=Layout(width='50%'), options=('Run3', 'Run1', 'Run2'), value='Run3'…"
      ]
     },
     "metadata": {},
     "output_type": "display_data"
    }
   ],
   "source": [
    "# List all directories in working_dir that start with \"parameters\" but are not exactly \"parameters\"\n",
    "param_dirs = [\n",
    "    d\n",
    "    for d in os.listdir(working_dir)\n",
    "    if os.path.isdir(os.path.join(working_dir, d))\n",
    "    and d.startswith(\"parameters\")\n",
    "    and d != \"parameters\"\n",
    "]\n",
    "\n",
    "# Extract the suffix after \"parameters\"\n",
    "run_names = [d[len(\"parameters\") :] for d in param_dirs]\n",
    "\n",
    "# Create a dropdown widget for selecting the run\n",
    "run_selection_dropdown = widgets.Dropdown(\n",
    "    options=run_names,\n",
    "    description=\"Select Run:\",\n",
    "    disabled=False,\n",
    "    layout=widgets.Layout(width=\"50%\"),\n",
    ")\n",
    "\n",
    "display(run_selection_dropdown)"
   ]
  },
  {
   "cell_type": "code",
   "execution_count": 9,
   "id": "f10f84c2",
   "metadata": {},
   "outputs": [
    {
     "name": "stdout",
     "output_type": "stream",
     "text": [
      "Selected run: Run1\n"
     ]
    }
   ],
   "source": [
    "print(f\"Selected run: {run_names[run_selection_dropdown.index]}\")"
   ]
  },
  {
   "cell_type": "code",
   "execution_count": 10,
   "id": "4d9b527b",
   "metadata": {},
   "outputs": [
    {
     "name": "stdout",
     "output_type": "stream",
     "text": [
      "Copied parameter files from /home/user/Documents/repos/test_cavity/parametersRun1 to /home/user/Documents/repos/test_cavity/parameters\n"
     ]
    }
   ],
   "source": [
    "import shutil\n",
    "\n",
    "# Source and destination directories\n",
    "selected_run_folder = f\"parameters{run_names[run_selection_dropdown.index]}\"\n",
    "src_dir = os.path.join(working_dir, selected_run_folder)\n",
    "dst_dir = os.path.join(working_dir, \"parameters\")\n",
    "\n",
    "# Ensure destination directory exists\n",
    "os.makedirs(dst_dir, exist_ok=True)\n",
    "\n",
    "# Copy all files from src_dir to dst_dir\n",
    "for filename in os.listdir(src_dir):\n",
    "    src_file = os.path.join(src_dir, filename)\n",
    "    dst_file = os.path.join(dst_dir, filename)\n",
    "    if os.path.isfile(src_file):\n",
    "        shutil.copy2(src_file, dst_file)\n",
    "\n",
    "print(f\"Copied parameter files from {src_dir} to {dst_dir}\")"
   ]
  },
  {
   "cell_type": "code",
   "execution_count": 35,
   "id": "4b4b6cab",
   "metadata": {},
   "outputs": [
    {
     "name": "stdout",
     "output_type": "stream",
     "text": [
      "Parameter files in dst_dir:\n",
      "multi_planes.par\n",
      "criteria.par\n",
      "track.par\n",
      "detect_plate.par\n",
      "sequence.par\n",
      "shaking.par\n",
      "man_ori.par\n",
      "orient.par\n",
      "targ_rec.par\n",
      "examine.par\n",
      "cal_ori.par\n",
      "unsharp_mask.par\n",
      "ptv.par\n",
      "pft_version.par\n",
      "dumbbell.par\n",
      "sortgrid.par\n"
     ]
    }
   ],
   "source": [
    "# List all .par files in the dst_dir directory\n",
    "par_files = [\n",
    "    f\n",
    "    for f in os.listdir(dst_dir)\n",
    "    if f.endswith(\".par\") and os.path.isfile(os.path.join(dst_dir, f))\n",
    "]\n",
    "print(\"Parameter files in dst_dir:\")\n",
    "for f in par_files:\n",
    "    print(f)"
   ]
  },
  {
   "cell_type": "code",
   "execution_count": null,
   "id": "caf84692",
   "metadata": {},
   "outputs": [],
   "source": [
    "SORTGRID_EPS = 1  # Default value, adjust as needed\n",
    "\n",
    "\n",
    "def read_sortgrid_par(filename) -> int:\n",
    "    \"\"\"Read the parameters for the sortgrid function from a file.\"\"\"\n",
    "    try:\n",
    "        with open(filename, \"r\", encoding=\"utf-8\") as fpp:\n",
    "            eps = int(fpp.readline())\n",
    "    except IOError:\n",
    "        print(f\"Can't open sortgrid parameter file: {filename} using default value\")\n",
    "        eps = SORTGRID_EPS\n",
    "\n",
    "    return eps\n",
    "\n",
    "\n",
    "# Usage example:\n",
    "sortgrid_eps = read_sortgrid_par(os.path.join(dst_dir, \"sortgrid.par\"))\n",
    "print(f\"sortgrid_eps: {sortgrid_eps}\")"
   ]
  },
  {
   "cell_type": "code",
   "execution_count": null,
   "id": "2f33b093",
   "metadata": {},
   "outputs": [
    {
     "name": "stdout",
     "output_type": "stream",
     "text": [
      "multi_planes.par: MultiPlanesPar\n",
      "criteria.par: VolumePar\n",
      "track.par: TrackPar\n",
      "detect_plate.par: TargetPar\n",
      "sequence.par: SequencePar\n",
      "shaking.par: None\n",
      "man_ori.par: None\n",
      "orient.par: OrientPar\n",
      "targ_rec.par: TargetPar\n",
      "examine.par: ExaminePar\n",
      "cal_ori.par: CalibrationPar\n",
      "unsharp_mask.par: None\n",
      "ptv.par: ControlPar\n",
      "pft_version.par: PftVersionPar\n",
      "dumbbell.par: None\n",
      "sortgrid.par: None\n",
      "cpar (ControlPar):\n",
      "  all_cam_flag: 0\n",
      "  cal_img_base_name: []\n",
      "  chfield: 0\n",
      "  hp_flag: 1\n",
      "  img_base_name: []\n",
      "  imx: 0\n",
      "  imy: 0\n",
      "  mm: nlay = 1, n1 = 1.0, n2 = [1.0], d = [0.0], n3 = 1.0\n",
      "  num_cams: /home/user/Documents/repos/test_cavity/parameters/ptv.par\n",
      "  pix_x: 0.0\n",
      "  pix_y: 0.0\n",
      "  tiff_flag: 1\n",
      "\n",
      "tpar (None):\n",
      "  File not found.\n",
      "\n",
      "spar (SequencePar):\n",
      "  first: 0\n",
      "  img_base_name: /home/user/Documents/repos/test_cavity/parameters/sequence.par\n",
      "  last: 0\n",
      "\n",
      "vpar (VolumePar):\n",
      "  cn: 0.0\n",
      "  cnx: 0.0\n",
      "  cny: 0.0\n",
      "  corrmin: 0.0\n",
      "  csumg: 0.0\n",
      "  eps0: 0.0\n",
      "  x_lay: /home/user/Documents/repos/test_cavity/parameters/criteria.par\n",
      "  z_max_lay: []\n",
      "  z_min_lay: []\n",
      "\n"
     ]
    }
   ],
   "source": [
    "from openptv_python import parameters\n",
    "\n",
    "# Mapping from .par file names to their corresponding parameter classes\n",
    "par_class_map = {\n",
    "    \"ptv.par\": parameters.ControlPar,\n",
    "    \"targets.par\": parameters.TargetPar,\n",
    "    \"sequence.par\": parameters.SequencePar,\n",
    "    \"criteria.par\": parameters.VolumePar,\n",
    "    \"multi_planes.par\": parameters.MultiPlanesPar,\n",
    "    \"track.par\": parameters.TrackPar,\n",
    "    \"detect_plate.par\": parameters.TargetPar,\n",
    "    # \"shaking.par\": parameters.ShakingPar,\n",
    "    # \"man_ori.par\": parameters.ManOriPar,\n",
    "    \"orient.par\": parameters.OrientPar,\n",
    "    \"targ_rec.par\": parameters.TargetPar,\n",
    "    \"examine.par\": parameters.ExaminePar,\n",
    "    \"cal_ori.par\": parameters.CalibrationPar,\n",
    "    # \"unsharp_mask.par\": parameters.UnsharpMaskPar,\n",
    "    \"pft_version.par\": parameters.PftVersionPar,\n",
    "    # \"dumbbell.par\": parameters.DumbbellPar,\n",
    "    # \"sortgrid.par\": parameters.SortgridPar,\n",
    "}\n",
    "\n",
    "par_objects = {}\n",
    "for par_file in par_files:\n",
    "    cls = par_class_map.get(par_file)\n",
    "    file_path = os.path.join(dst_dir, par_file)\n",
    "    if cls is not None and os.path.exists(file_path):\n",
    "        try:\n",
    "            par_objects[par_file] = cls(file_path)\n",
    "        except Exception as e:\n",
    "            print(f\"Error reading {par_file}: {e}\")\n",
    "            par_objects[par_file] = None\n",
    "    else:\n",
    "        par_objects[par_file] = None\n",
    "\n",
    "for fname, obj in par_objects.items():\n",
    "    print(f\"{fname}: {type(obj).__name__ if obj else 'None'}\")\n",
    "\n",
    "\n",
    "def read_all_parameters(param_dir):\n",
    "    \"\"\"\n",
    "    Reads all relevant parameter files from the given directory and returns a dictionary\n",
    "    of parameter objects. If a file is missing, the value is None.\n",
    "    \"\"\"  # noqa: D205, D401\n",
    "    param_classes = {\n",
    "        \"cpar\": (\"ptv.par\", parameters.ControlPar),\n",
    "        \"tpar\": (\"targets.par\", parameters.TargetPar),\n",
    "        \"spar\": (\"sequence.par\", parameters.SequencePar),\n",
    "        \"vpar\": (\"criteria.par\", parameters.VolumePar),\n",
    "        # Add more mappings here if needed\n",
    "    }\n",
    "    params = {}\n",
    "    for key, (fname, cls) in param_classes.items():\n",
    "        file_path = os.path.join(param_dir, fname)\n",
    "        if os.path.exists(file_path):\n",
    "            params[key] = cls(file_path)\n",
    "        else:\n",
    "            params[key] = None\n",
    "    return params\n",
    "\n",
    "\n",
    "# Usage example:\n",
    "params = read_all_parameters(dst_dir)\n",
    "\n",
    "for key, obj in params.items():\n",
    "    print(f\"{key} ({type(obj).__name__ if obj else 'None'}):\")\n",
    "    if obj is not None:\n",
    "        for attr in dir(obj):\n",
    "            if not attr.startswith(\"_\") and not callable(getattr(obj, attr)):\n",
    "                print(f\"  {attr}: {getattr(obj, attr)}\")\n",
    "    else:\n",
    "        print(\"  File not found.\")\n",
    "    print()"
   ]
  },
  {
   "cell_type": "code",
   "execution_count": 34,
   "id": "96fbbf44",
   "metadata": {},
   "outputs": [
    {
     "data": {
      "text/plain": [
       "0"
      ]
     },
     "execution_count": 34,
     "metadata": {},
     "output_type": "execute_result"
    }
   ],
   "source": [
    "params[\"cpar\"].get_num_cams()\n",
    "params[\"cpar\"].get_allCam_flag()"
   ]
  }
 ],
 "metadata": {
  "kernelspec": {
   "display_name": "openptv-python",
   "language": "python",
   "name": "python3"
  },
  "language_info": {
   "codemirror_mode": {
    "name": "ipython",
    "version": 3
   },
   "file_extension": ".py",
   "mimetype": "text/x-python",
   "name": "python",
   "nbconvert_exporter": "python",
   "pygments_lexer": "ipython3",
   "version": "3.11.11"
  }
 },
 "nbformat": 4,
 "nbformat_minor": 5
}
