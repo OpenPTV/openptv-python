{
 "cells": [
  {
   "cell_type": "markdown",
   "metadata": {},
   "source": [
    "# Ipywidgets GUI for the OpenPTV-Python"
   ]
  },
  {
   "cell_type": "code",
   "execution_count": null,
   "metadata": {},
   "outputs": [
    {
     "ename": "AttributeError",
     "evalue": "module 'matplotlib.widgets' has no attribute 'FileUpload'",
     "output_type": "error",
     "traceback": [
      "\u001b[31m---------------------------------------------------------------------------\u001b[39m",
      "\u001b[31mAttributeError\u001b[39m                            Traceback (most recent call last)",
      "\u001b[36mCell\u001b[39m\u001b[36m \u001b[39m\u001b[32mIn[4]\u001b[39m\u001b[32m, line 45\u001b[39m\n\u001b[32m     41\u001b[39m             plt.draw()\n\u001b[32m     44\u001b[39m \u001b[38;5;66;03m# File upload widget\u001b[39;00m\n\u001b[32m---> \u001b[39m\u001b[32m45\u001b[39m file_upload = \u001b[43mwidgets\u001b[49m\u001b[43m.\u001b[49m\u001b[43mFileUpload\u001b[49m(accept=\u001b[33m\"\u001b[39m\u001b[33mimage/*\u001b[39m\u001b[33m\"\u001b[39m, multiple=\u001b[38;5;28;01mFalse\u001b[39;00m)\n\u001b[32m     46\u001b[39m file_upload.observe(load_image, names=\u001b[33m\"\u001b[39m\u001b[33mvalue\u001b[39m\u001b[33m\"\u001b[39m)\n\u001b[32m     48\u001b[39m \u001b[38;5;66;03m# Integer input widgets\u001b[39;00m\n",
      "\u001b[31mAttributeError\u001b[39m: module 'matplotlib.widgets' has no attribute 'FileUpload'"
     ]
    }
   ],
   "source": [
    "# Function to handle clicks on the image\n",
    "import imageio as iio\n",
    "import matplotlib.pyplot as plt\n",
    "\n",
    "%matplotlib notebook\n",
    "# Import necessary libraries\n",
    "from io import BytesIO\n",
    "\n",
    "import matplotlib.widgets as widgets\n",
    "from IPython.display import display\n",
    "\n",
    "\n",
    "# Function to load image\n",
    "def load_image(change):\n",
    "    global img, ax\n",
    "    file_content = change[\"new\"][0][\"content\"]\n",
    "    img = iio.imread(BytesIO(file_content))\n",
    "    ax.clear()\n",
    "    ax.imshow(img, cmap=\"gray\")\n",
    "    plt.draw()\n",
    "\n",
    "\n",
    "# Function to handle clicks on the image\n",
    "def onclick(event):\n",
    "    global clicks\n",
    "    if event.inaxes != ax:\n",
    "        return\n",
    "    if event.button == 1:  # Left click to add point\n",
    "        if len(clicks) < 4:\n",
    "            clicks.append((event.xdata, event.ydata))\n",
    "            ax.plot(event.xdata, event.ydata, \"ro\")\n",
    "            plt.draw()\n",
    "            if len(clicks) == 4:\n",
    "                print(\"Clicked points:\", clicks)\n",
    "                calibration_data = list(zip(particle_numbers, clicks))\n",
    "                print(\"Calibration data:\", calibration_data)\n",
    "    elif event.button == 3:  # Right click to remove last point\n",
    "        if clicks:\n",
    "            clicks.pop()\n",
    "            ax.clear()\n",
    "            ax.imshow(img, cmap=\"gray\")\n",
    "            for click in clicks:\n",
    "                ax.plot(click[0], click[1], \"ro\")\n",
    "            plt.draw()\n",
    "\n",
    "\n",
    "# File upload widget\n",
    "file_upload = widgets.FileUpload(accept=\"image/*\", multiple=False)  # type: ignore\n",
    "file_upload.observe(load_image, names=\"value\")\n",
    "\n",
    "# Integer input widgets\n",
    "particle_numbers = [\n",
    "    widgets.IntText(value=i, description=f\"Particle {i + 1}\")\n",
    "    for i in range(4)  # type: ignore\n",
    "]\n",
    "\n",
    "# Display widgets\n",
    "display(file_upload)\n",
    "\n",
    "for widget in particle_numbers:\n",
    "    display(widget)\n",
    "\n",
    "# Initialize variables\n",
    "clicks = []\n",
    "particle_numbers = [widget.value for widget in particle_numbers]\n",
    "\n",
    "# Connect the click event\n",
    "fig, ax = plt.subplots()\n",
    "cid = fig.canvas.mpl_connect(\"button_press_event\", onclick)\n",
    "plt.show()"
   ]
  }
 ],
 "metadata": {
  "kernelspec": {
   "display_name": "openptv-python",
   "language": "python",
   "name": "python3"
  },
  "language_info": {
   "codemirror_mode": {
    "name": "ipython",
    "version": 3
   },
   "file_extension": ".py",
   "mimetype": "text/x-python",
   "name": "python",
   "nbconvert_exporter": "python",
   "pygments_lexer": "ipython3",
   "version": "3.11.11"
  }
 },
 "nbformat": 4,
 "nbformat_minor": 2
}
