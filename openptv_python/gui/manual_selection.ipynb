{
 "cells": [
  {
   "cell_type": "markdown",
   "metadata": {},
   "source": [
    "# Ipywidgets GUI for the OpenPTV-Python"
   ]
  },
  {
   "cell_type": "code",
   "execution_count": 1,
   "metadata": {},
   "outputs": [
    {
     "data": {
      "application/vnd.jupyter.widget-view+json": {
       "model_id": "989c56dad564485dbf44a64ead2d2fd2",
       "version_major": 2,
       "version_minor": 0
      },
      "text/plain": [
       "FileUpload(value=(), accept='image/*', description='Upload')"
      ]
     },
     "metadata": {},
     "output_type": "display_data"
    },
    {
     "data": {
      "application/vnd.jupyter.widget-view+json": {
       "model_id": "989c56dad564485dbf44a64ead2d2fd2",
       "version_major": 2,
       "version_minor": 0
      },
      "text/plain": [
       "FileUpload(value=(), accept='image/*', description='Upload')"
      ]
     },
     "metadata": {},
     "output_type": "display_data"
    },
    {
     "data": {
      "application/vnd.jupyter.widget-view+json": {
       "model_id": "f60cbb7fc1b340b9add30813076a3685",
       "version_major": 2,
       "version_minor": 0
      },
      "text/plain": [
       "IntText(value=0, description='Particle 1')"
      ]
     },
     "metadata": {},
     "output_type": "display_data"
    },
    {
     "data": {
      "application/vnd.jupyter.widget-view+json": {
       "model_id": "de8157ce66864e94b2f4cadb7ff70d52",
       "version_major": 2,
       "version_minor": 0
      },
      "text/plain": [
       "IntText(value=1, description='Particle 2')"
      ]
     },
     "metadata": {},
     "output_type": "display_data"
    },
    {
     "data": {
      "application/vnd.jupyter.widget-view+json": {
       "model_id": "963b18e368544d159587b03b084d5301",
       "version_major": 2,
       "version_minor": 0
      },
      "text/plain": [
       "IntText(value=2, description='Particle 3')"
      ]
     },
     "metadata": {},
     "output_type": "display_data"
    },
    {
     "data": {
      "application/vnd.jupyter.widget-view+json": {
       "model_id": "6599b3899b63461a870799d65c116f38",
       "version_major": 2,
       "version_minor": 0
      },
      "text/plain": [
       "IntText(value=3, description='Particle 4')"
      ]
     },
     "metadata": {},
     "output_type": "display_data"
    },
    {
     "data": {
      "application/vnd.jupyter.widget-view+json": {
       "model_id": "4036c58cc3ab4061ae586428c7121564",
       "version_major": 2,
       "version_minor": 0
      },
      "image/png": "[encoded data removed]",
      "text/html": [
       "\n",
       "            <div style=\"display: inline-block;\">\n",
       "                <div class=\"jupyter-widgets widget-label\" style=\"text-align: center;\">\n",
       "                    Figure\n",
       "                </div>\n",
       "                <img src='data:image/png;base64,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' width=640.0/>\n",
       "            </div>\n",
       "        "
      ],
      "text/plain": [
       "Canvas(toolbar=Toolbar(toolitems=[('Home', 'Reset original view', 'home', 'home'), ('Back', 'Back to previous …"
      ]
     },
     "metadata": {},
     "output_type": "display_data"
    }
   ],
   "source": [
    "# Function to handle clicks on the image\n",
    "import imageio as iio\n",
    "\n",
    "# File upload widget\n",
    "import ipywidgets as widgets\n",
    "import matplotlib.pyplot as plt\n",
    "\n",
    "%matplotlib widget\n",
    "# Import necessary libraries\n",
    "from io import BytesIO\n",
    "\n",
    "from IPython.display import display\n",
    "\n",
    "\n",
    "# Function to load image\n",
    "def load_image(change):\n",
    "    global img, ax\n",
    "    file_content = change[\"new\"][0][\"content\"]\n",
    "    img = iio.imread(BytesIO(file_content))\n",
    "    ax.clear()\n",
    "    ax.imshow(img, cmap=\"gray\")\n",
    "    plt.draw()\n",
    "\n",
    "\n",
    "# Function to handle clicks on the image\n",
    "def onclick(event):\n",
    "    global clicks\n",
    "    if event.inaxes != ax:\n",
    "        return\n",
    "    if event.button == 1:  # Left click to add point\n",
    "        if len(clicks) < 4:\n",
    "            clicks.append((event.xdata, event.ydata))\n",
    "            ax.plot(event.xdata, event.ydata, \"ro\")\n",
    "            plt.draw()\n",
    "            if len(clicks) == 4:\n",
    "                print(\"Clicked points:\", clicks)\n",
    "                calibration_data = list(zip(particle_numbers, clicks))\n",
    "                print(\"Calibration data:\", calibration_data)\n",
    "    elif event.button == 3:  # Right click to remove last point\n",
    "        if clicks:\n",
    "            clicks.pop()\n",
    "            ax.clear()\n",
    "            ax.imshow(img, cmap=\"gray\")\n",
    "            for click in clicks:\n",
    "                ax.plot(click[0], click[1], \"ro\")\n",
    "            plt.draw()\n",
    "\n",
    "\n",
    "file_upload = widgets.FileUpload(accept=\"image/*\", multiple=False)\n",
    "display(file_upload)\n",
    "# file_upload = widgets.FileUpload(accept=\"image/*\", multiple=False)  # type: ignore\n",
    "file_upload.observe(load_image, names=\"value\")\n",
    "\n",
    "# Integer input widgets\n",
    "particle_numbers = [\n",
    "    widgets.IntText(value=i, description=f\"Particle {i + 1}\")\n",
    "    for i in range(4)  # type: ignore\n",
    "]\n",
    "\n",
    "# Display widgets\n",
    "display(file_upload)\n",
    "\n",
    "for widget in particle_numbers:\n",
    "    display(widget)\n",
    "\n",
    "# Initialize variables\n",
    "clicks = []\n",
    "particle_numbers = [widget.value for widget in particle_numbers]\n",
    "\n",
    "# Connect the click event\n",
    "fig, ax = plt.subplots()\n",
    "cid = fig.canvas.mpl_connect(\"button_press_event\", onclick)\n",
    "plt.show()"
   ]
  },
  {
   "cell_type": "code",
   "execution_count": 2,
   "metadata": {},
   "outputs": [
    {
     "data": {
      "text/plain": [
       "([(np.float64(22.8766233766234), np.float64(28.504329004328838)),\n",
       "  (np.float64(613.7857142857144), np.float64(32.83333333333326)),\n",
       "  (np.float64(29.370129870129915), np.float64(623.7424242424242)),\n",
       "  (np.float64(602.9632034632036), np.float64(606.4264069264069))],\n",
       " [0, 1, 2, 3])"
      ]
     },
     "execution_count": 2,
     "metadata": {},
     "output_type": "execute_result"
    }
   ],
   "source": [
    "clicks, particle_numbers"
   ]
  }
 ],
 "metadata": {
  "kernelspec": {
   "display_name": "openptv-python",
   "language": "python",
   "name": "python3"
  },
  "language_info": {
   "codemirror_mode": {
    "name": "ipython",
    "version": 3
   },
   "file_extension": ".py",
   "mimetype": "text/x-python",
   "name": "python",
   "nbconvert_exporter": "python",
   "pygments_lexer": "ipython3",
   "version": "3.11.11"
  }
 },
 "nbformat": 4,
 "nbformat_minor": 2
}
